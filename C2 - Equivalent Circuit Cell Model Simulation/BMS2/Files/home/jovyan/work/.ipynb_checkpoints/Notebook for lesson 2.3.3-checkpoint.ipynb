{
 "cells": [
  {
   "cell_type": "markdown",
   "metadata": {},
   "source": [
    "### Jupyter notebook for practice quiz for lesson 2.3.3\n",
    "This Jupyter notebook executes the \"processDynamic.m\" code to generate a dynamic cell model from cell-test data. The results computed by this notebook will be used to answer questions in the practice quiz for lesson 2.3.3."
   ]
  },
  {
   "cell_type": "code",
   "execution_count": null,
   "metadata": {
    "collapsed": false
   },
   "outputs": [],
   "source": [
    "% add the toolbox code to Octave's path\n",
    "addpath readonly\n",
    "% Now, execute the \"processDynamic.m\" code through the \"runProcessDynamic.m\" \n",
    "% framework (which loads all necessary data files, executes processDynamic.m\n",
    "% and saves results\n",
    "% The code will process data from a P14 cell collected at test temperatures\n",
    "% of 5, 25, and 45 degC. It will save results to \"P14model.mat\"\n",
    "runProcessDynamic\n",
    "% Note that this code takes some time to execute -- perhaps a few minutes\n",
    "% You will know that the code has finished running when it displays the\n",
    "% message \"Dynamic model created!\""
   ]
  },
  {
   "cell_type": "markdown",
   "metadata": {
    "collapsed": true
   },
   "source": [
    "### Using the model\n",
    "Once the model has been created, you can load it from the file in which it was saved, and can look at its basic structures."
   ]
  },
  {
   "cell_type": "code",
   "execution_count": null,
   "metadata": {
    "collapsed": false
   },
   "outputs": [],
   "source": [
    "% Load model data file\n",
    "load P14model.mat\n",
    "temps = model.temps % display the temperatures processed to create the model\n",
    "capacities = model.QParam % display measured total capacities at each temperature"
   ]
  },
  {
   "cell_type": "code",
   "execution_count": null,
   "metadata": {
    "collapsed": false
   },
   "outputs": [],
   "source": [
    "% Plot model fields: resistances\n",
    "subplot(1,2,1); plot(model.temps,1000*model.R0Param)\n",
    "xlabel('Temperature (degC)'); ylabel('Resistance (mOhms)'); title('Series resistance versus temperature')\n",
    "subplot(1,2,2); plot(model.temps,1000*model.RParam)\n",
    "xlabel('Temperature (degC)'); ylabel('Resistance (mOhms)'); title('R-C resistance versus temperature')"
   ]
  }
 ],
 "metadata": {
  "kernelspec": {
   "display_name": "Octave",
   "language": "octave",
   "name": "octave"
  },
  "language_info": {
   "file_extension": ".m",
   "help_links": [
    {
     "text": "MetaKernel Magics",
     "url": "https://github.com/calysto/metakernel/blob/master/metakernel/magics/README.md"
    }
   ],
   "mimetype": "text/x-octave",
   "name": "octave",
   "version": "0.16.0"
  }
 },
 "nbformat": 4,
 "nbformat_minor": 0
}
