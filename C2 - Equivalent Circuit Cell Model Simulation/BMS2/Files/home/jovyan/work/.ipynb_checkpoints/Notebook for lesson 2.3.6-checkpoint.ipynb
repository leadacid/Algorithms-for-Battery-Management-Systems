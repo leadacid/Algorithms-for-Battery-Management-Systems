{
 "cells": [
  {
   "cell_type": "markdown",
   "metadata": {},
   "source": [
    "### Jupyter notebook code to exercise \"getParamESCm\"\n",
    "This notebook shows some examples of how to use getParamESC.m. You will use this notebook to answer questions for the practice quiz for lesson 2.3.6."
   ]
  },
  {
   "cell_type": "code",
   "execution_count": null,
   "metadata": {},
   "outputs": [],
   "source": [
    "% load the E2 circuit model \n",
    "addpath readonly\n",
    "load readonly/E2model.mat"
   ]
  },
  {
   "cell_type": "code",
   "execution_count": null,
   "metadata": {},
   "outputs": [],
   "source": [
    "% To retreive a parameter value at a specific temperature, use syntax \n",
    "% like this:\n",
    "getParamESC('GParam',35,model)"
   ]
  },
  {
   "cell_type": "code",
   "execution_count": null,
   "metadata": {},
   "outputs": [],
   "source": [
    "% You can also plot results:\n",
    "T = 0:1:30;\n",
    "R0data = zeros(size(T));\n",
    "for k = 1:length(T),\n",
    "  R0data(k) = getParamESC('R0Param',T(k),model);\n",
    "end\n",
    "plot(T,R0data);"
   ]
  }
 ],
 "metadata": {
  "kernelspec": {
   "display_name": "Octave",
   "language": "octave",
   "name": "octave"
  },
  "language_info": {
   "file_extension": ".m",
   "help_links": [
    {
     "text": "GNU Octave",
     "url": "https://www.gnu.org/software/octave/support.html"
    },
    {
     "text": "Octave Kernel",
     "url": "https://github.com/Calysto/octave_kernel"
    },
    {
     "text": "MetaKernel Magics",
     "url": "https://github.com/calysto/metakernel/blob/master/metakernel/magics/README.md"
    }
   ],
   "mimetype": "text/x-octave",
   "name": "octave",
   "version": "4.2.2"
  }
 },
 "nbformat": 4,
 "nbformat_minor": 1
}
