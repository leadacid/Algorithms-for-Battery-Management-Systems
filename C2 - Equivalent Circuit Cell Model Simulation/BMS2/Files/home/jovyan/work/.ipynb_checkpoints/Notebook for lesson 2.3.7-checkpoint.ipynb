{
 "cells": [
  {
   "cell_type": "markdown",
   "metadata": {},
   "source": [
    "### Jupyter notebook code to exercise \"OCVfromSOCtemp.m\"\n",
    "This notebook shows some examples of how to use OCVfromSOCtemp.m. You will use this notebook to answer questions for the practice quiz for lesson 2.3.7."
   ]
  },
  {
   "cell_type": "code",
   "execution_count": null,
   "metadata": {},
   "outputs": [],
   "source": [
    "% load the E2 circuit model\n",
    "addpath readonly\n",
    "load readonly/E2model.mat"
   ]
  },
  {
   "cell_type": "code",
   "execution_count": null,
   "metadata": {},
   "outputs": [],
   "source": [
    "% Plot the OCV relationship at a specific temperature\n",
    "soc = 0:0.01:1; % make a vector of state-of-charge points between 0 and 1 in 1% increments\n",
    "ocv = OCVfromSOCtemp(soc,25,model);\n",
    "plot(100*soc,ocv); % \"100*\" converts to percent\n",
    "xlabel('State of charge (%)'); ylabel('Voltage (V)'); title('OCV versus SOC relationship for E2 cell')"
   ]
  },
  {
   "cell_type": "code",
   "execution_count": null,
   "metadata": {},
   "outputs": [],
   "source": [
    "% Notice how OCVfromSOCtemp.m extrapolates the relationship linearly for out-of-bound states of charge\n",
    "soc2 = [-0.05:0.01:0, NaN, 1:0.01:1.1]; % NaN to put a break in the plot\n",
    "ocv2 = OCVfromSOCtemp(soc2,25,model);\n",
    "plot(100*soc,ocv,'b--',100*soc2,ocv2,'r');\n",
    "xlabel('State of charge (%)'); ylabel('Voltage (V)'); title('OCV versus SOC relationship for E2 cell')\n",
    "legend('Normal SOC range','Out-of-bounds SOC range','location','southeast')"
   ]
  },
  {
   "cell_type": "code",
   "execution_count": null,
   "metadata": {},
   "outputs": [],
   "source": [
    "% Plot the per-degree change in OCV \n",
    "soc = 0:0.01:1;\n",
    "OCV0 = OCVfromSOCtemp(soc,0,model); % OCV at 0 degrees C\n",
    "OCV1 = OCVfromSOCtemp(soc,1,model); % OCV at 1 degree C\n",
    "OCVdiff = 1000*(OCV1-OCV0); % 1000* converts V to mV\n",
    "plot(100*soc,OCVdiff); % 100* converts to percent\n",
    "xlabel('State of charge (%)'); ylabel('Voltage change (mV)'); title('Per-degree OCV change for E2 cell');"
   ]
  },
  {
   "cell_type": "code",
   "execution_count": null,
   "metadata": {},
   "outputs": [],
   "source": [
    "% Plot the inverse relationship at a specific temperature\n",
    "ocv = 2:0.01:4.3;\n",
    "soc = SOCfromOCVtemp(ocv,25,model);\n",
    "plot(ocv,100*soc); % 100* converts to percent\n",
    "ylabel('State of charge (%)'); xlabel('Voltage (V)'); title('SOC versus OCV relationship for E2 cell')"
   ]
  }
 ],
 "metadata": {
  "kernelspec": {
   "display_name": "Octave",
   "language": "octave",
   "name": "octave"
  },
  "language_info": {
   "file_extension": ".m",
   "help_links": [
    {
     "text": "GNU Octave",
     "url": "https://www.gnu.org/software/octave/support.html"
    },
    {
     "text": "Octave Kernel",
     "url": "https://github.com/Calysto/octave_kernel"
    },
    {
     "text": "MetaKernel Magics",
     "url": "https://github.com/calysto/metakernel/blob/master/metakernel/magics/README.md"
    }
   ],
   "mimetype": "text/x-octave",
   "name": "octave",
   "version": "4.2.2"
  }
 },
 "nbformat": 4,
 "nbformat_minor": 1
}
