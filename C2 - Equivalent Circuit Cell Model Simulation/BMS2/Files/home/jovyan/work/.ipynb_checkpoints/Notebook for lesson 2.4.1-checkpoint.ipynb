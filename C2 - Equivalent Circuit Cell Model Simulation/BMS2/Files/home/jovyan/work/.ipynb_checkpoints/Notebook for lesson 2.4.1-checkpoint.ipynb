{
 "cells": [
  {
   "cell_type": "markdown",
   "metadata": {},
   "source": [
    "### Jupyter notebook for practice quiz for lesson 2.4.1\n",
    "This Jupyter notebook implements a constant-current/constant-voltage charging scenario, as taught in this lesson"
   ]
  },
  {
   "cell_type": "code",
   "execution_count": null,
   "metadata": {},
   "outputs": [],
   "source": [
    "% add the toolbox code to Octave's path\n",
    "addpath readonly\n",
    "load readonly/E1model.mat; "
   ]
  },
  {
   "cell_type": "code",
   "execution_count": null,
   "metadata": {},
   "outputs": [],
   "source": [
    "% Get ESC model parameters\n",
    "maxtime = 3001; T = 25; % Simulation run time, temperature\n",
    "q  = getParamESC('QParam',T,model); \n",
    "rc = exp(-1./abs(getParamESC('RCParam',T,model)));\n",
    "r  = (getParamESC('RParam',T,model));\n",
    "m  = getParamESC('MParam',T,model);\n",
    "g  = getParamESC('GParam',T,model);\n",
    "r0 = getParamESC('R0Param',T,model);\n",
    "maxV = 4.15; % maximum cell voltage of 4.15 V\n",
    "\n",
    "storez = zeros([maxtime 1]);  % create storage for SOC\n",
    "storev = zeros([maxtime 1]);  % create storage for voltage\n",
    "storei = zeros([maxtime 1]);  % create storage for current\n",
    "storep = zeros([maxtime 1]);  % create storage for power\n",
    "z  = 0.5; irc = 0; h  = -1; % initialize to 50% SOC, resting\n",
    "CC = 9;  % constant current of 9 A in CC/CV charge\n",
    "\n",
    "% Simulate CC/CV\n",
    "for k = 1:maxtime,\n",
    "  v = OCVfromSOCtemp(z,T,model) + m*h - r*irc; % fixed voltage\n",
    "\n",
    "  ik = (v - maxV)/r0; % compute test ik to achieve maxV\n",
    "  ik = max(-CC,ik);   % but limit current to no more than CC in mag.\n",
    "\n",
    "  z = z - (1/3600)*ik/q;  % Update cell SOC\n",
    "  irc = rc*irc + (1-rc)*ik; % Update resistor currents\n",
    "  fac = exp(-abs(g.*ik)./(3600*q));\n",
    "  h = fac.*h + (fac-1).*sign(ik); % Update hysteresis voltages\n",
    "  storez(k) = z; % Store SOC for later plotting\n",
    "  storev(k) = v - ik*r0;\n",
    "  storei(k) = ik; % store current for later plotting\n",
    "  storep(k) = ik*storev(k);\n",
    "end % for k\n",
    "\n",
    "time = 0:maxtime -1;\n",
    "subplot(2,2,1); plot(time,100*storez); \n",
    "title('State of charge versus time');\n",
    "xlabel('Time (s)'); ylabel('SOC (%)'); ylim([49 101]); grid on\n",
    "\n",
    "subplot(2,2,2); plot(time,storev); \n",
    "title('Terminal voltage versus time');\n",
    "xlabel('Time (s)'); ylabel('Voltage (V)');\n",
    "ylim([3.94 4.16]); grid on\n",
    "\n",
    "subplot(2,2,3); plot(time,storei); \n",
    "title('Cell current versus time');\n",
    "xlabel('Time (s)'); ylabel('Current (A)');\n",
    "ylim([-10 0.3]); grid on\n",
    "\n",
    "subplot(2,2,4); plot(time,storep);\n",
    "title('Cell power versus time');\n",
    "xlabel('Time (s)'); ylabel('Power (W)');\n",
    "ylim([-40 1]); grid on"
   ]
  },
  {
   "cell_type": "code",
   "execution_count": null,
   "metadata": {},
   "outputs": [],
   "source": [
    "% Find the point in time where the charging profile transfers from CC to CV\n",
    "time(find(storev == maxV,1))"
   ]
  }
 ],
 "metadata": {
  "kernelspec": {
   "display_name": "Octave",
   "language": "octave",
   "name": "octave"
  },
  "language_info": {
   "file_extension": ".m",
   "help_links": [
    {
     "text": "GNU Octave",
     "url": "https://www.gnu.org/software/octave/support.html"
    },
    {
     "text": "Octave Kernel",
     "url": "https://github.com/Calysto/octave_kernel"
    },
    {
     "text": "MetaKernel Magics",
     "url": "https://github.com/calysto/metakernel/blob/master/metakernel/magics/README.md"
    }
   ],
   "mimetype": "text/x-octave",
   "name": "octave",
   "version": "4.2.2"
  }
 },
 "nbformat": 4,
 "nbformat_minor": 1
}
