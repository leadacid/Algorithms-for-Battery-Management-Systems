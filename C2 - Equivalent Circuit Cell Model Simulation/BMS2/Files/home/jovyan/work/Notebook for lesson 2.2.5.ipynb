{
 "cells": [
  {
   "cell_type": "markdown",
   "metadata": {},
   "source": [
    "# Introduction\n",
    "This web site is running a \"Jupyter notebook,\" which allows you to execute interactive Octave\n",
    "code directly in your browser. Each (part of a code) line preceeded by a percent symbol \"%\" is a code comment.\n",
    "\n",
    "To execute any Octave commands, first enter the commands in a code cell, and then depress the \"shift\" and \"enter\" keys on your keyboard at the same time, making sure that your cursor is placed inside of the code cell.\n",
    "I refer to this as \"< shift \\> < enter \\>\" in my instructions below.\n",
    "\n",
    "The output from this notebook will be used to provide answers for this lesson's practice\n",
    "quiz. As you proceed through the specialization, you will use more and more Jupyter notebooks\n",
    "to write Octave code to implement battery-management-system algorithms."
   ]
  },
  {
   "cell_type": "code",
   "execution_count": 1,
   "metadata": {},
   "outputs": [],
   "source": [
    "% Place your cursor in this input code cell. Then, type < shift >< enter > to execute\n",
    "\n",
    "% This loads the OCV Test Script data from storage for a 25 degC test\n",
    "load readonly/E2_OCV_P25.mat"
   ]
  },
  {
   "cell_type": "code",
   "execution_count": 2,
   "metadata": {
    "scrolled": true
   },
   "outputs": [
    {
     "name": "stdout",
     "output_type": "stream",
     "text": [
      "Variables in the current scope:\n",
      "\n",
      "   Attr Name         Size                     Bytes  Class\n",
      "   ==== ====         ====                     =====  ===== \n",
      "        OCVData      1x1                    2034720  struct\n",
      "        ans          1x5                          5  char\n",
      "\n",
      "Total is 6 elements using 2034725 bytes\n",
      "\n"
     ]
    }
   ],
   "source": [
    "% The variable \"OCVData\" has been loaded by the previous input box. Place \n",
    "% your cursor in this input code cell and depress < shift >< enter >\n",
    "\n",
    "whos"
   ]
  },
  {
   "cell_type": "markdown",
   "metadata": {
    "collapsed": true
   },
   "source": [
    "**Do not attempt to display the `OCVData` variable!** It contains an enormous amount of data and will probably crash your web browser if you attempt to do so.\n",
    "`OCVData` has four fields: `script1`, `script2`, `script3`, and `script4`. These contain data corresponding to the four test scripts you have learned about this week.\n",
    "Each of these fields further has sub-fields holding the data of interest. These are: \n",
    "\n",
    "1) Data from OCV Test Script 1 (at test temperature, which is 25 degC here)\n",
    "\n",
    "`OCVData.script1.time: [9429x1 double]\n",
    "OCVData.script1.step: [9429x1 double]\n",
    "OCVData.script1.current: [9429x1 double]\n",
    "OCVData.script1.voltage: [9429x1 double]\n",
    "OCVData.script1.chgAh: [9429x1 double]\n",
    "OCVData.script1.disAh: [9429x1 double]`\n",
    "\n",
    "2) Data from OCV Test Script 2 (at 25 degC)\n",
    "\n",
    "`OCVData.script2.time: [11987x1 double]\n",
    "OCVData.script2.step: [11987x1 double]\n",
    "OCVData.script2.current: [11987x1 double]\n",
    "OCVData.script2.voltage: [11987x1 double]\n",
    "OCVData.script2.chgAh: [11987x1 double]\n",
    "OCVData.script2.disAh: [11987x1 double]`\n",
    "\n",
    "3) Data from OCV Test Script 3 (at test temperature, also 25 degC here)\n",
    "\n",
    "`OCVData.script3.time: [9286x1 double]\n",
    "OCVData.script3.step: [9286x1 double]\n",
    "OCVData.script3.current: [9286x1 double]\n",
    "OCVData.script3.voltage: [9286x1 double]\n",
    "OCVData.script3.chgAh: [9286x1 double]\n",
    "OCVData.script3.disAh: [9286x1 double]`\n",
    "\n",
    "4) Finally, data from OCV Test Script 4 (at 25 degC)\n",
    "\n",
    "`OCVData.script4.time: [11688x1 double]\n",
    "OCVData.script4.step: [11688x1 double]\n",
    "OCVData.script4.current: [11688x1 double]\n",
    "OCVData.script4.voltage: [11688x1 double]\n",
    "OCVData.script4.chgAh: [11688x1 double]\n",
    "OCVData.script4.disAh: [11688x1 double]`"
   ]
  },
  {
   "cell_type": "markdown",
   "metadata": {},
   "source": [
    "### Visualizing data\n",
    "There is an enormous amount of data stored from these four cell tests. One good way to visualize the data is via plotting. For example:"
   ]
  },
  {
   "cell_type": "code",
   "execution_count": 3,
   "metadata": {},
   "outputs": [
    {
     "data": {
      "image/png": "[encoded data removed]",
      "text/plain": [
       "<IPython.core.display.Image object>"
      ]
     },
     "metadata": {},
     "output_type": "display_data"
    }
   ],
   "source": [
    "% Plot the voltage response from script 1\n",
    "% Place your cursor in this input code cell. Then, type < shift >< enter > to execute\n",
    "\n",
    "plot(OCVData.script1.time/3600,OCVData.script1.voltage); % 3600 converts seconds into hours\n",
    "title('Voltage versus time for OCV Test Script #1')\n",
    "xlabel('Time (hr)')\n",
    "ylabel('Voltage (V)')\n",
    "grid on\n",
    "% Feel free to modify this code input cell to plot different things!"
   ]
  },
  {
   "cell_type": "markdown",
   "metadata": {},
   "source": [
    "### Finding coulombic efficiency\n",
    "The data provided for use with this notebook are all measured at 25<sup>o</sup>C. We can use these data to find the coulombic efficiency of the cell at this temperature, as discussed in the lesson."
   ]
  },
  {
   "cell_type": "code",
   "execution_count": 4,
   "metadata": {},
   "outputs": [
    {
     "name": "stdout",
     "output_type": "stream",
     "text": [
      "eta25 =  0.98340\n"
     ]
    }
   ],
   "source": [
    "% Place your cursor in this input code cell. Then, type < shift >< enter > to execute\n",
    "totDisAh = OCVData.script1.disAh(end) + OCVData.script2.disAh(end) + ...\n",
    "           OCVData.script3.disAh(end) + OCVData.script4.disAh(end);\n",
    "totChgAh = OCVData.script1.chgAh(end) + OCVData.script2.chgAh(end) + ...\n",
    "           OCVData.script3.chgAh(end) + OCVData.script4.chgAh(end);\n",
    "eta25 = totDisAh/totChgAh"
   ]
  },
  {
   "cell_type": "markdown",
   "metadata": {},
   "source": [
    "### Finding total capacity\n",
    "We can also find the cell's total capacity (result is displayed in ampere hours)."
   ]
  },
  {
   "cell_type": "code",
   "execution_count": 5,
   "metadata": {},
   "outputs": [
    {
     "name": "stdout",
     "output_type": "stream",
     "text": [
      "Q25 =  5.2127\n"
     ]
    }
   ],
   "source": [
    "% Place your cursor in this input code cell. Then, type < shift >< enter > to execute\n",
    "Q25 = OCVData.script1.disAh(end) + OCVData.script2.disAh(end) - ...\n",
    "      eta25*OCVData.script1.chgAh(end) - eta25*OCVData.script2.chgAh(end)"
   ]
  },
  {
   "cell_type": "markdown",
   "metadata": {},
   "source": [
    "### Finding approximate OCV relationship at this temperature\n",
    "The following code computes the approximate OCV versus SOC relationship using only the 25<sup>o</sup>C data set. The code is functionally the same as what you learned about in the lesson."
   ]
  },
  {
   "cell_type": "code",
   "execution_count": 6,
   "metadata": {},
   "outputs": [
    {
     "data": {
      "image/png": "[encoded data removed]",
      "text/plain": [
       "<IPython.core.display.Image object>"
      ]
     },
     "metadata": {},
     "output_type": "display_data"
    }
   ],
   "source": [
    "% Place your cursor in this input code cell. Then, type < shift >< enter > to execute\n",
    "SOC = 0:0.005:1; % output SOC points for this step\n",
    "\n",
    "indD  = find(OCVData.script1.step == 2); % slow discharge\n",
    "IR1Da = OCVData.script1.voltage(indD(1)-1) - OCVData.script1.voltage(indD(1));\n",
    "IR2Da = OCVData.script1.voltage(indD(end)+1) - OCVData.script1.voltage(indD(end));\n",
    "\n",
    "indC  = find(OCVData.script3.step == 2); % slow charge\n",
    "IR1Ca = OCVData.script3.voltage(indC(1)) - OCVData.script3.voltage(indC(1)-1);\n",
    "IR2Ca = OCVData.script3.voltage(indC(end)) - OCVData.script3.voltage(indC(end)+1);\n",
    "IR1D = min(IR1Da,2*IR2Ca); IR2D = min(IR2Da,2*IR1Ca);\n",
    "IR1C = min(IR1Ca,2*IR2Da); IR2C = min(IR2Ca,2*IR1Da);\n",
    "\n",
    "blend = (0:length(indD)-1)/(length(indD)-1);\n",
    "IRblend = IR1D + (IR2D-IR1D)*blend(:);\n",
    "disV = OCVData.script1.voltage(indD) + IRblend;\n",
    "disZ = 1 - OCVData.script1.disAh(indD)/Q25;\n",
    "disZ = disZ + (1 - disZ(1));\n",
    "\n",
    "blend = (0:length(indC)-1)/(length(indC)-1);\n",
    "IRblend = IR1C + (IR2C-IR1C)*blend(:);\n",
    "chgV = OCVData.script3.voltage(indC) - IRblend;\n",
    "chgZ = OCVData.script3.chgAh(indC)/Q25;\n",
    "chgZ = chgZ - chgZ(1);\n",
    "\n",
    "deltaV50 = interp1(chgZ,chgV,0.5) - interp1(disZ,disV,0.5);\n",
    "ind = find(chgZ < 0.5);\n",
    "vChg = chgV(ind) - chgZ(ind)*deltaV50;\n",
    "zChg = chgZ(ind);\n",
    "ind = find(disZ > 0.5);\n",
    "vDis = flipud(disV(ind) + (1 - disZ(ind))*deltaV50);\n",
    "zDis = flipud(disZ(ind));\n",
    "rawocv = interp1([zChg; zDis],[vChg; vDis],SOC,'linear','extrap');\n",
    "\n",
    "% At this point, the pair {SOC,rawocv} form a lookup table for the approximate OCV versus SOC relationship\n",
    "% We can plot this relationship:\n",
    "plot(SOC,rawocv)                \n",
    "xlabel('State of charge')\n",
    "ylabel('Voltage (V)') \n",
    "grid on\n",
    "title('Approximate open-circuit voltage for E2 cell as a function of SOC at 25^oC')"
   ]
  },
  {
   "cell_type": "markdown",
   "metadata": {
    "collapsed": true
   },
   "source": [
    "### Table lookup\n",
    "The relationship for OCV versus SOC is not yet final since we have processed only one temperature at this point. However, we can still use the computations performed to date in order to find a table-lookup approximate value of OCV as a function of SOC. "
   ]
  },
  {
   "cell_type": "code",
   "execution_count": 23,
   "metadata": {},
   "outputs": [
    {
     "name": "stdout",
     "output_type": "stream",
     "text": [
      "OCV =  3.8201\n"
     ]
    }
   ],
   "source": [
    "% Place your cursor in this input code cell. Then, type < shift >< enter > to execute\n",
    "\n",
    "testSOC = 0.25; % Replace \"0.30\" with whatever value of SOC for which you desire to know OCV\n",
    "OCV = interp1(SOC,rawocv,testSOC)"
   ]
  },
  {
   "cell_type": "code",
   "execution_count": 19,
   "metadata": {},
   "outputs": [
    {
     "name": "stdout",
     "output_type": "stream",
     "text": [
      ".\n",
      "..\n",
      ".hidden\n",
      ".ipynb_checkpoints\n",
      ".readonly\n",
      "Capstone project, Part 1 - old.ipynb\n",
      "Capstone project, Part 2 - old.ipynb\n",
      "Capstone project, Part 3 - old.ipynb\n",
      "Capstone project.ipynb\n",
      "Notebook for course 2, week 2 quiz.ipynb\n",
      "Notebook for lesson 2.2.5.ipynb\n",
      "Notebook for lesson 2.3.3.ipynb\n",
      "Notebook for lesson 2.3.5.ipynb\n",
      "Notebook for lesson 2.3.6.ipynb\n",
      "Notebook for lesson 2.3.7.ipynb\n",
      "Notebook for lesson 2.4.1.ipynb\n",
      "Notebook for lesson 2.4.2.ipynb\n",
      "Notebook for lesson 2.4.4.ipynb\n",
      "Notebook for lesson 2.4.5.ipynb\n",
      "Notebook for lessons 2.5.5 and 2.5.6.ipynb\n",
      "P14model-ocv.mat\n",
      "P14model.mat\n",
      "Untitled.ipynb\n",
      "octave-workspace\n",
      "readonly\n"
     ]
    }
   ],
   "source": [
    "dir\n"
   ]
  },
  {
   "cell_type": "code",
   "execution_count": 9,
   "metadata": {},
   "outputs": [
    {
     "name": "stdout",
     "output_type": "stream",
     "text": [
      ".                     P14_DYN               processOCV.m\n",
      "..                    P14_OCV               pulseData.mat\n",
      ".ipynb_checkpoints    P14model-ocv.mat      pulseModel.mat\n",
      "E1model.mat           SOCfromOCVtemp.m      runProcessDynamic.m\n",
      "E2_DYN_P25.mat        Untitled.ipynb        runProcessOCV.m\n",
      "E2_OCV_P25.mat        getParamESC.m         setupDynData.m\n",
      "E2model.mat           hwy.txt               simCell.m\n",
      "E2model2RC.mat        nycc.txt              udds.txt\n",
      "E2model2RCmatlab.mat  octave-workspace      us06.txt\n",
      "OCVfromSOCtemp.m      processDynamic.m\n"
     ]
    }
   ],
   "source": [
    "dir readonly"
   ]
  },
  {
   "cell_type": "code",
   "execution_count": 10,
   "metadata": {},
   "outputs": [
    {
     "name": "stdout",
     "output_type": "stream",
     "text": [
      "cp: cannot create symbolic link '/home/jovyan/octave/E2model.mat': No such file or directory\n"
     ]
    }
   ],
   "source": [
    "edit readonly/E2model.mat"
   ]
  },
  {
   "cell_type": "code",
   "execution_count": null,
   "metadata": {},
   "outputs": [],
   "source": []
  }
 ],
 "metadata": {
  "kernelspec": {
   "display_name": "Octave",
   "language": "octave",
   "name": "octave"
  },
  "language_info": {
   "file_extension": ".m",
   "help_links": [
    {
     "text": "GNU Octave",
     "url": "https://www.gnu.org/software/octave/support.html"
    },
    {
     "text": "Octave Kernel",
     "url": "https://github.com/Calysto/octave_kernel"
    },
    {
     "text": "MetaKernel Magics",
     "url": "https://github.com/calysto/metakernel/blob/master/metakernel/magics/README.md"
    }
   ],
   "mimetype": "text/x-octave",
   "name": "octave",
   "version": "4.2.2"
  }
 },
 "nbformat": 4,
 "nbformat_minor": 1
}
