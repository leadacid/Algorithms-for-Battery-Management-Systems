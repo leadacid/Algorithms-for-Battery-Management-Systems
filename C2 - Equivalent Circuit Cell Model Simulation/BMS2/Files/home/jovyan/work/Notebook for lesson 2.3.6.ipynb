{
 "cells": [
  {
   "cell_type": "markdown",
   "metadata": {},
   "source": [
    "### Jupyter notebook code to exercise \"getParamESCm\"\n",
    "This notebook shows some examples of how to use getParamESC.m. You will use this notebook to answer questions for the practice quiz for lesson 2.3.6."
   ]
  },
  {
   "cell_type": "code",
   "execution_count": 1,
   "metadata": {},
   "outputs": [],
   "source": [
    "% load the E2 circuit model \n",
    "addpath readonly\n",
    "load readonly/E2model.mat"
   ]
  },
  {
   "cell_type": "code",
   "execution_count": 8,
   "metadata": {},
   "outputs": [
    {
     "name": "stdout",
     "output_type": "stream",
     "text": [
      "ans =  0.0070009\n"
     ]
    }
   ],
   "source": [
    "% To retreive a parameter value at a specific temperature, use syntax \n",
    "% like this:\n",
    "getParamESC('R0Param',40,model)\n"
   ]
  },
  {
   "cell_type": "code",
   "execution_count": 7,
   "metadata": {},
   "outputs": [
    {
     "data": {
      "image/png": "[encoded data removed]",
      "text/plain": [
       "<IPython.core.display.Image object>"
      ]
     },
     "metadata": {},
     "output_type": "display_data"
    }
   ],
   "source": [
    "% You can also plot results:\n",
    "T = 0:1:40;\n",
    "R0data = zeros(size(T));\n",
    "for k = 1:length(T),\n",
    "  R0data(k) = getParamESC('R0Param',T(k),model);\n",
    "end\n",
    "plot(T,R0data);"
   ]
  },
  {
   "cell_type": "code",
   "execution_count": 4,
   "metadata": {},
   "outputs": [
    {
     "name": "stdout",
     "output_type": "stream",
     "text": [
      "R0data =\n",
      "\n",
      " Columns 1 through 6:\n",
      "\n",
      "   0.0452448   0.0419855   0.0389703   0.0361918   0.0336427   0.0313158\n",
      "\n",
      " Columns 7 through 12:\n",
      "\n",
      "   0.0292023   0.0272879   0.0255570   0.0239940   0.0225832   0.0213089\n",
      "\n",
      " Columns 13 through 18:\n",
      "\n",
      "   0.0201555   0.0191073   0.0181488   0.0172642   0.0164400   0.0156712\n",
      "\n",
      " Columns 19 through 24:\n",
      "\n",
      "   0.0149548   0.0142879   0.0136677   0.0130911   0.0125553   0.0120574\n",
      "\n",
      " Columns 25 through 30:\n",
      "\n",
      "   0.0115943   0.0111632   0.0107614   0.0103864   0.0100364   0.0097090\n",
      "\n",
      " Columns 31 through 36:\n",
      "\n",
      "   0.0094022   0.0091139   0.0088419   0.0085842   0.0083386   0.0081030\n",
      "\n"
     ]
    }
   ],
   "source": [
    "R0data"
   ]
  },
  {
   "cell_type": "code",
   "execution_count": null,
   "metadata": {},
   "outputs": [],
   "source": []
  },
  {
   "cell_type": "code",
   "execution_count": null,
   "metadata": {},
   "outputs": [],
   "source": []
  },
  {
   "cell_type": "code",
   "execution_count": null,
   "metadata": {},
   "outputs": [],
   "source": []
  }
 ],
 "metadata": {
  "kernelspec": {
   "display_name": "Octave",
   "language": "octave",
   "name": "octave"
  },
  "language_info": {
   "file_extension": ".m",
   "help_links": [
    {
     "text": "GNU Octave",
     "url": "https://www.gnu.org/software/octave/support.html"
    },
    {
     "text": "Octave Kernel",
     "url": "https://github.com/Calysto/octave_kernel"
    },
    {
     "text": "MetaKernel Magics",
     "url": "https://github.com/calysto/metakernel/blob/master/metakernel/magics/README.md"
    }
   ],
   "mimetype": "text/x-octave",
   "name": "octave",
   "version": "4.2.2"
  }
 },
 "nbformat": 4,
 "nbformat_minor": 1
}
