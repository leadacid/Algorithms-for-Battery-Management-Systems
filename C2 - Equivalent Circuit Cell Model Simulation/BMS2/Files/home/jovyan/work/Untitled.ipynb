{
 "cells": [
  {
   "cell_type": "code",
   "execution_count": 2,
   "metadata": {},
   "outputs": [
    {
     "name": "stdout",
     "output_type": "stream",
     "text": [
      "E1model.mat\thwy.txt\t\t  P14_OCV\t       simCell.m\n",
      "E2_DYN_P25.mat\tnycc.txt\t  processDynamic.m     SOCfromOCVtemp.m\n",
      "E2model2RC.mat\toctave-workspace  processOCV.m\t       udds.txt\n",
      "E2model.mat\tOCVfromSOCtemp.m  runProcessDynamic.m  Untitled.ipynb\n",
      "E2_OCV_P25.mat\tP14_DYN\t\t  runProcessOCV.m      us06.txt\n",
      "getParamESC.m\tP14model-ocv.mat  setupDynData.m\n",
      "warning: load: '/home/jovyan/work/readonly/E1model.mat' found by searching load path\n",
      "ans =  100.56\n"
     ]
    }
   ],
   "source": [
    "addpath readonly\n",
    "ls readonly\n",
    "load E1model.mat\n",
    "getParamESC('gparam',25,model)"
   ]
  },
  {
   "cell_type": "code",
   "execution_count": 6,
   "metadata": {},
   "outputs": [],
   "source": [
    "function returnValue = computeNestedFunction(x)\n",
    " returnValue = computeFactor(x)*x;\n",
    " \n",
    " function theFactor = computeFactor(y)\n",
    "   theFactor = 4 * y;\n",
    "  end\n",
    "end"
   ]
  },
  {
   "cell_type": "code",
   "execution_count": 8,
   "metadata": {},
   "outputs": [
    {
     "name": "stdout",
     "output_type": "stream",
     "text": [
      "ans =  16\n"
     ]
    }
   ],
   "source": [
    "computeNestedFunction(2)"
   ]
  },
  {
   "cell_type": "code",
   "execution_count": null,
   "metadata": {},
   "outputs": [],
   "source": []
  }
 ],
 "metadata": {
  "kernelspec": {
   "display_name": "Octave",
   "language": "octave",
   "name": "octave"
  },
  "language_info": {
   "file_extension": ".m",
   "help_links": [
    {
     "text": "GNU Octave",
     "url": "https://www.gnu.org/software/octave/support.html"
    },
    {
     "text": "Octave Kernel",
     "url": "https://github.com/Calysto/octave_kernel"
    },
    {
     "text": "MetaKernel Magics",
     "url": "https://github.com/calysto/metakernel/blob/master/metakernel/magics/README.md"
    }
   ],
   "mimetype": "text/x-octave",
   "name": "octave",
   "version": "4.2.2"
  }
 },
 "nbformat": 4,
 "nbformat_minor": 2
}
