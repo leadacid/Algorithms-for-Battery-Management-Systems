{
 "cells": [
  {
   "cell_type": "markdown",
   "metadata": {
    "collapsed": true
   },
   "source": [
    "## Creating an open-circuit voltage relationship\n",
    "This Jupyter notebook contains sample code to enable you to create an open-circuit voltage versus \n",
    "SOC relationship for a \"P14\" cell at any temperature of interest. It uses data measured in the laboratory\n",
    "at the University of Colorado Colorado Springs plus the code you have studied this week to do so.\n",
    "\n",
    "The model is created by executing the \"runProcessOCV.m\" function, as shown below:"
   ]
  },
  {
   "cell_type": "code",
   "execution_count": 2,
   "metadata": {},
   "outputs": [
    {
     "name": "stdout",
     "output_type": "stream",
     "text": [
      "Loading OCV data collected for test temperature -25 degrees C\n",
      "Loading OCV data collected for test temperature -15 degrees C\n",
      "Loading OCV data collected for test temperature -5 degrees C\n",
      "Loading OCV data collected for test temperature 5 degrees C\n",
      "Loading OCV data collected for test temperature 15 degrees C\n",
      "Loading OCV data collected for test temperature 25 degrees C\n",
      "Loading OCV data collected for test temperature 35 degrees C\n",
      "Loading OCV data collected for test temperature 45 degrees C\n",
      "Processing data to create OCV relationship\n",
      "Processing complete. Results are available in variable \"model\"\n",
      "and are saved in P14model-ocv.mat\n"
     ]
    }
   ],
   "source": [
    "% Don't forget to < shift >< enter> to execute a code cell!\n",
    "addpath readonly\n",
    "runProcessOCV"
   ]
  },
  {
   "cell_type": "markdown",
   "metadata": {},
   "source": [
    "**Do not attempt to display the `model` variable!** It contains a large amount of data and may crash your web browser if you attempt to do so."
   ]
  },
  {
   "cell_type": "code",
   "execution_count": 7,
   "metadata": {},
   "outputs": [
    {
     "data": {
      "image/png": "[encoded data removed]",
      "text/plain": [
       "<IPython.core.display.Image object>"
      ]
     },
     "metadata": {},
     "output_type": "display_data"
    }
   ],
   "source": [
    "% The \"model\" structure has three fields of interest to us here: model.SOC, model.OCV0, and model.OCVrel.\n",
    "% To compute the OCV relationship at temperature T, you would execute:\n",
    "T = -5; % for example. Change to whatever temperature is of interest to you\n",
    "OCV_T = model.OCV0 + T*model.OCVrel;\n",
    "plot(model.SOC,OCV_T); % for example, to visualize results"
   ]
  },
  {
   "cell_type": "code",
   "execution_count": 8,
   "metadata": {},
   "outputs": [
    {
     "name": "stdout",
     "output_type": "stream",
     "text": [
      "testOCV =  3.6596\n"
     ]
    }
   ],
   "source": [
    "% We might want to compute the OCV at some desired SOC.\n",
    "testSOC = 0.25; % for example. Change \"0.85\" to the SOC of interest\n",
    "testOCV = interp1(model.SOC,OCV_T,testSOC)"
   ]
  },
  {
   "cell_type": "code",
   "execution_count": null,
   "metadata": {
    "collapsed": true
   },
   "outputs": [],
   "source": []
  }
 ],
 "metadata": {
  "kernelspec": {
   "display_name": "Octave",
   "language": "octave",
   "name": "octave"
  },
  "language_info": {
   "file_extension": ".m",
   "help_links": [
    {
     "text": "GNU Octave",
     "url": "https://www.gnu.org/software/octave/support.html"
    },
    {
     "text": "Octave Kernel",
     "url": "https://github.com/Calysto/octave_kernel"
    },
    {
     "text": "MetaKernel Magics",
     "url": "https://github.com/calysto/metakernel/blob/master/metakernel/magics/README.md"
    }
   ],
   "mimetype": "text/x-octave",
   "name": "octave",
   "version": "4.2.2"
  }
 },
 "nbformat": 4,
 "nbformat_minor": 1
}
