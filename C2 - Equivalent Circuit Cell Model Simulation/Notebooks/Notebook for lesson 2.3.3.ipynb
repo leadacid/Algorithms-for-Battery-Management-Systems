{
 "cells": [
  {
   "cell_type": "markdown",
   "metadata": {},
   "source": [
    "### Jupyter notebook for practice quiz for lesson 2.3.3\n",
    "This Jupyter notebook executes the \"processDynamic.m\" code to generate a dynamic cell model from cell-test data. The results computed by this notebook will be used to answer questions in the practice quiz for lesson 2.3.3."
   ]
  },
  {
   "cell_type": "code",
   "execution_count": 1,
   "metadata": {},
   "outputs": [
    {
     "name": "stdout",
     "output_type": "stream",
     "text": [
      "Loading readonly/P14_DYN/P14_DYN_30_P05.mat\n",
      "Loading readonly/P14_DYN/P14_DYN_50_P25.mat\n",
      "Loading readonly/P14_DYN/P14_DYN_50_P45.mat\n",
      "Processing temperature 5\n",
      "  RMS error for present value of gamma = 9.34 (mV)\n",
      "    The model created for this value of gamma is the best ESC model yet!\n",
      "  RMS error for present value of gamma = 9.71 (mV)\n",
      "  RMS error for present value of gamma = 9.27 (mV)\n",
      "    The model created for this value of gamma is the best ESC model yet!\n",
      "  RMS error for present value of gamma = 9.28 (mV)\n",
      "  RMS error for present value of gamma = 9.27 (mV)\n",
      "    The model created for this value of gamma is the best ESC model yet!\n",
      "  RMS error for present value of gamma = 9.28 (mV)\n",
      "  RMS error for present value of gamma = 9.27 (mV)\n",
      "    The model created for this value of gamma is the best ESC model yet!\n",
      "  RMS error for present value of gamma = 9.27 (mV)\n",
      "    The model created for this value of gamma is the best ESC model yet!\n",
      "  RMS error for present value of gamma = 9.27 (mV)\n",
      "    The model created for this value of gamma is the best ESC model yet!\n",
      "  RMS error for present value of gamma = 9.27 (mV)\n",
      "  RMS error for present value of gamma = 9.27 (mV)\n",
      "Processing temperature 25\n",
      "  RMS error for present value of gamma = 5.37 (mV)\n",
      "    The model created for this value of gamma is the best ESC model yet!\n",
      "  RMS error for present value of gamma = 5.53 (mV)\n",
      "  RMS error for present value of gamma = 5.47 (mV)\n",
      "  RMS error for present value of gamma = 5.37 (mV)\n",
      "  RMS error for present value of gamma = 5.37 (mV)\n",
      "    The model created for this value of gamma is the best ESC model yet!\n",
      "  RMS error for present value of gamma = 5.37 (mV)\n",
      "    The model created for this value of gamma is the best ESC model yet!\n",
      "  RMS error for present value of gamma = 5.37 (mV)\n",
      "    The model created for this value of gamma is the best ESC model yet!\n",
      "  RMS error for present value of gamma = 5.37 (mV)\n",
      "    The model created for this value of gamma is the best ESC model yet!\n",
      "  RMS error for present value of gamma = 5.37 (mV)\n",
      "  RMS error for present value of gamma = 5.37 (mV)\n",
      "Processing temperature 45\n",
      "  RMS error for present value of gamma = 6.30 (mV)\n",
      "    The model created for this value of gamma is the best ESC model yet!\n",
      "  RMS error for present value of gamma = 6.46 (mV)\n",
      "  RMS error for present value of gamma = 6.27 (mV)\n",
      "    The model created for this value of gamma is the best ESC model yet!\n",
      "  RMS error for present value of gamma = 6.27 (mV)\n",
      "  RMS error for present value of gamma = 6.26 (mV)\n",
      "    The model created for this value of gamma is the best ESC model yet!\n",
      "  RMS error for present value of gamma = 6.27 (mV)\n",
      "  RMS error for present value of gamma = 6.26 (mV)\n",
      "    The model created for this value of gamma is the best ESC model yet!\n",
      "  RMS error for present value of gamma = 6.26 (mV)\n",
      "    The model created for this value of gamma is the best ESC model yet!\n",
      "  RMS error for present value of gamma = 6.26 (mV)\n",
      "    The model created for this value of gamma is the best ESC model yet!\n",
      "  RMS error for present value of gamma = 6.26 (mV)\n",
      "  RMS error for present value of gamma = 6.26 (mV)\n",
      "  RMS error for present value of gamma = 6.26 (mV)\n",
      "\n",
      "Dynamic model created!\n"
     ]
    }
   ],
   "source": [
    "% add the toolbox code to Octave's path\n",
    "addpath readonly\n",
    "% Now, execute the \"processDynamic.m\" code through the \"runProcessDynamic.m\" \n",
    "% framework (which loads all necessary data files, executes processDynamic.m\n",
    "% and saves results\n",
    "% The code will process data from a P14 cell collected at test temperatures\n",
    "% of 5, 25, and 45 degC. It will save results to \"P14model.mat\"\n",
    "runProcessDynamic\n",
    "% Note that this code takes some time to execute -- perhaps a few minutes\n",
    "% You will know that the code has finished running when it displays the\n",
    "% message \"Dynamic model created!\""
   ]
  },
  {
   "cell_type": "markdown",
   "metadata": {
    "collapsed": true
   },
   "source": [
    "### Using the model\n",
    "Once the model has been created, you can load it from the file in which it was saved, and can look at its basic structures."
   ]
  },
  {
   "cell_type": "code",
   "execution_count": 6,
   "metadata": {},
   "outputs": [
    {
     "name": "stdout",
     "output_type": "stream",
     "text": [
      "temps =\n",
      "\n",
      "    5   25   45\n",
      "\n",
      "capacities =\n",
      "\n",
      "   14.592   14.532   14.444\n",
      "\n",
      "hysteresis =\n",
      "\n",
      "   67.207   92.645   67.840\n",
      "\n"
     ]
    }
   ],
   "source": [
    "% Load model data file\n",
    "load P14model.mat\n",
    "temps = model.temps % display the temperatures processed to create the model\n",
    "capacities = model.QParam % display measured total capacities at each temperature\n",
    "hysteresis = model.GParam"
   ]
  },
  {
   "cell_type": "code",
   "execution_count": 3,
   "metadata": {},
   "outputs": [
    {
     "data": {
      "image/png": "[encoded data removed]",
      "text/plain": [
       "<IPython.core.display.Image object>"
      ]
     },
     "metadata": {},
     "output_type": "display_data"
    }
   ],
   "source": [
    "% Plot model fields: resistances\n",
    "subplot(1,2,1); plot(model.temps,1000*model.R0Param)\n",
    "xlabel('Temperature (degC)'); ylabel('Resistance (mOhms)'); title('Series resistance versus temperature')\n",
    "subplot(1,2,2); plot(model.temps,1000*model.RParam)\n",
    "xlabel('Temperature (degC)'); ylabel('Resistance (mOhms)'); title('R-C resistance versus temperature')"
   ]
  }
 ],
 "metadata": {
  "kernelspec": {
   "display_name": "Octave",
   "language": "octave",
   "name": "octave"
  },
  "language_info": {
   "file_extension": ".m",
   "help_links": [
    {
     "text": "GNU Octave",
     "url": "https://www.gnu.org/software/octave/support.html"
    },
    {
     "text": "Octave Kernel",
     "url": "https://github.com/Calysto/octave_kernel"
    },
    {
     "text": "MetaKernel Magics",
     "url": "https://github.com/calysto/metakernel/blob/master/metakernel/magics/README.md"
    }
   ],
   "mimetype": "text/x-octave",
   "name": "octave",
   "version": "4.2.2"
  }
 },
 "nbformat": 4,
 "nbformat_minor": 1
}
