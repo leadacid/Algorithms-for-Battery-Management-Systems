{
 "cells": [
  {
   "cell_type": "markdown",
   "metadata": {},
   "source": [
    "### Jupyter notebook to run simCell.m and display results\n",
    "This notebook executes simCell.m and displays results of the simulation.\n",
    "Output from this notebook will be used as practice quiz answers for lesson 2.3.5."
   ]
  },
  {
   "cell_type": "code",
   "execution_count": 1,
   "metadata": {},
   "outputs": [],
   "source": [
    "% load the E2 circuit model as well as the E2 dynamic data\n",
    "addpath readonly\n",
    "load readonly/E2model.mat; % load parameter values already created for the E2 cell\n",
    "load readonly/E2_DYN_P25.mat; % load raw test data for the E2 cell at 25 degC"
   ]
  },
  {
   "cell_type": "code",
   "execution_count": 2,
   "metadata": {},
   "outputs": [],
   "source": [
    "% Resample at consistent 1Hz rate.\n",
    "deltaT = 1; \n",
    "time = DYNData.script1.time - DYNData.script1.time(1);    \n",
    "t = (0:deltaT:time(end));\n",
    "voltage = interp1(time,DYNData.script1.voltage,t);\n",
    "current = interp1(time,DYNData.script1.current,t);\n",
    "time = t;"
   ]
  },
  {
   "cell_type": "code",
   "execution_count": 3,
   "metadata": {},
   "outputs": [],
   "source": [
    "% execute simCell to determine voltage and other internal states/variables\n",
    "[vest,rck,hk,zk,sik,OCV] = simCell(current,25,deltaT,model,1,0,0);\n",
    "\n",
    "% for visualization purposes, plot the measured and simulated voltage data\n",
    "subplot(1,2,1)\n",
    "plot(time/3600,voltage,time/3600,vest); % factor of 3600 converts seconds -> hours\n",
    "xlabel('Time (hr)'); ylabel('Voltage (V)'); title('Comparing measured to simulated voltage');\n",
    "legend('Measured voltage','Simulated voltage');\n",
    "\n",
    "% Now, plot the voltage prediction error\n",
    "subplot(1,2,2)\n",
    "plot(time/3600,1000*(voltage-vest'));\n",
    "xlabel('Time (hr)'); ylabel('Voltage (mV)'); title('Voltage prediction error');"
   ]
  },
  {
   "cell_type": "code",
   "execution_count": 4,
   "metadata": {},
   "outputs": [],
   "source": [
    "% Visualize the change in SOC over the test\n",
    "subplot(2,2,1); plot(time/3600,zk);\n",
    "xlabel('Time (hr)'); ylabel('SOC (unitless)'); title('Model prediction of SOC');\n",
    "\n",
    "% Visualize the change in R-C resistor currents over the test\n",
    "subplot(2,2,2); plot(time/3600,rck);\n",
    "xlabel('Time (hr)'); ylabel('R-C resistor currents (A)'); title('Model prediction of R-C resistor current');\n",
    "\n",
    "% Visualize the change in cell OCV over the test\n",
    "subplot(2,2,3); plot(time/3600,OCV);\n",
    "xlabel('Time (hr)'); ylabel('OCV (V)'); title('Model prediction of OCV');"
   ]
  },
  {
   "cell_type": "code",
   "execution_count": 5,
   "metadata": {},
   "outputs": [],
   "source": [
    "% Visualize the change in dynamic hysteresis over the test\n",
    "subplot(1,2,1); plot(time/3600,hk);\n",
    "xlabel('Time (hr)'); ylabel('Dynamic hysteresis state (unitless))'); title('Model prediction of hysteresis state');\n",
    "\n",
    "% Visualize the change in instantaneous hysteresis state over the test\n",
    "subplot(1,2,2); plot(time/3600,sik);\n",
    "xlabel('Time (hr)'); ylabel('Instantaneous hysteresis state (unitless))'); title('Model prediction of instantaneous hyst.');"
   ]
  },
  {
   "cell_type": "code",
   "execution_count": 28,
   "metadata": {},
   "outputs": [
    {
     "name": "stdout",
     "output_type": "stream",
     "text": [
      "ans =  3.7837\n"
     ]
    }
   ],
   "source": [
    "% To find a signal's value at a particular time, you can index as follows:\n",
    "voltage(time == 28800) % to find voltage at time = 600 seconds, for example"
   ]
  },
  {
   "cell_type": "code",
   "execution_count": 7,
   "metadata": {},
   "outputs": [],
   "source": [
    "% [vest,rck,hk,zk,sik,OCV] = simCell(current,25,deltaT,model,1,0,0);"
   ]
  },
  {
   "cell_type": "code",
   "execution_count": 22,
   "metadata": {},
   "outputs": [
    {
     "name": "stdout",
     "output_type": "stream",
     "text": [
      "ans =  3.5566\n"
     ]
    }
   ],
   "source": [
    "OCV(time == 36000)"
   ]
  },
  {
   "cell_type": "code",
   "execution_count": 29,
   "metadata": {},
   "outputs": [
    {
     "name": "stdout",
     "output_type": "stream",
     "text": [
      "ans =  3.7905\n"
     ]
    }
   ],
   "source": [
    "vest(time == 28800)"
   ]
  },
  {
   "cell_type": "code",
   "execution_count": null,
   "metadata": {},
   "outputs": [],
   "source": []
  }
 ],
 "metadata": {
  "kernelspec": {
   "display_name": "Octave",
   "language": "octave",
   "name": "octave"
  },
  "language_info": {
   "file_extension": ".m",
   "help_links": [
    {
     "text": "GNU Octave",
     "url": "https://www.gnu.org/software/octave/support.html"
    },
    {
     "text": "Octave Kernel",
     "url": "https://github.com/Calysto/octave_kernel"
    },
    {
     "text": "MetaKernel Magics",
     "url": "https://github.com/calysto/metakernel/blob/master/metakernel/magics/README.md"
    }
   ],
   "mimetype": "text/x-octave",
   "name": "octave",
   "version": "4.2.2"
  }
 },
 "nbformat": 4,
 "nbformat_minor": 1
}
