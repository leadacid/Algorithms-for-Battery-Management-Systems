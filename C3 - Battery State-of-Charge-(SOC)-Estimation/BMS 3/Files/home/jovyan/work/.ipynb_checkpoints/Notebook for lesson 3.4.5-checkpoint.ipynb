{
 "cells": [
  {
   "cell_type": "markdown",
   "metadata": {},
   "source": [
    "## Workspace for computing answers for practice quiz for lesson 3.4.5\n",
    "This Jupyter notebook allows you to compute values needed to answer quiz questions."
   ]
  },
  {
   "cell_type": "code",
   "execution_count": 1,
   "metadata": {},
   "outputs": [],
   "source": [
    "addpath readonly\n",
    "load readonly/E2model"
   ]
  },
  {
   "cell_type": "code",
   "execution_count": 2,
   "metadata": {},
   "outputs": [
    {
     "name": "stdout",
     "output_type": "stream",
     "text": [
      "'getParamESC' is a function from the file /home/jovyan/work/readonly/getParamESC.m\n",
      "\n",
      " function theParam = getParamESC(paramName,temperature,model)\n",
      "\n",
      " This function returns the values of the specified ESC cell-model\n",
      " parameter 'paramName' for the temperatures in 'temperature' for the \n",
      " cell model data stored in 'model'.  \n",
      "\n",
      " In the standard ESC model, 'paramName' may be one of:\n",
      "    'QParam', 'RCParam', 'RParam', 'R0Param', 'MParam', 'M0Param',\n",
      "    'etaParam', or 'GParam' \n",
      " (not case sensitive).\n",
      "\n",
      "\n",
      "Additional help for built-in functions and operators is\n",
      "available in the online version of the manual.  Use the command\n",
      "'doc <topic>' to search the manual index.\n",
      "\n",
      "Help and information about Octave is also available on the WWW\n",
      "at http://www.octave.org and via the help@octave.org\n",
      "mailing list.\n"
     ]
    }
   ],
   "source": [
    "% You may have forgotten the syntax for retreiving ESC model parameter values. \n",
    "% Here is a refresher:\n",
    "help getParamESC"
   ]
  },
  {
   "cell_type": "code",
   "execution_count": 3,
   "metadata": {},
   "outputs": [
    {
     "name": "stdout",
     "output_type": "stream",
     "text": [
      "hystGamma =  61.750\n"
     ]
    }
   ],
   "source": [
    "% As an example, we can retreive the dynamic hysteresis \"gamma\" value at 25 degC\n",
    "hystGamma = getParamESC('GParam',25,model)"
   ]
  },
  {
   "cell_type": "code",
   "execution_count": 4,
   "metadata": {},
   "outputs": [
    {
     "name": "stdout",
     "output_type": "stream",
     "text": [
      "'OCVfromSOCtemp' is a function from the file /home/jovyan/work/readonly/OCVfromSOCtemp.m\n",
      "\n",
      " This function returns the fully rested open-circuit-voltage of an LiPB\n",
      " cell given its soc.\n",
      " Syntax: ocv=OCVfromSOCtemp(soc,temp,model)\n",
      " where soc is cell state of charge between 0 and 1,\n",
      " temp is cell temperature in degrees celsius,\n",
      " and model is a cell model structure.\n",
      "\n",
      "\n",
      "Additional help for built-in functions and operators is\n",
      "available in the online version of the manual.  Use the command\n",
      "'doc <topic>' to search the manual index.\n",
      "\n",
      "Help and information about Octave is also available on the WWW\n",
      "at http://www.octave.org and via the help@octave.org\n",
      "mailing list.\n"
     ]
    }
   ],
   "source": [
    "% You may have forgotten the syntax for retreiving open circuit voltage at a\n",
    "% particular state of charge and temperature. Here is a refresher:\n",
    "help OCVfromSOCtemp"
   ]
  },
  {
   "cell_type": "code",
   "execution_count": 5,
   "metadata": {},
   "outputs": [
    {
     "name": "stdout",
     "output_type": "stream",
     "text": [
      "ocv =  3.9288\n"
     ]
    }
   ],
   "source": [
    "% As an example, we can retreive the OCV at 50% SOC and 25 degrees celsius\n",
    "ocv = OCVfromSOCtemp(0.5,25,model)"
   ]
  },
  {
   "cell_type": "code",
   "execution_count": 6,
   "metadata": {},
   "outputs": [
    {
     "name": "stdout",
     "output_type": "stream",
     "text": [
      "Q =    1.8484e+04\n"
     ]
    }
   ],
   "source": [
    "Q = getParamESC('QParam',25,model) * 3600"
   ]
  },
  {
   "cell_type": "code",
   "execution_count": 7,
   "metadata": {},
   "outputs": [
    {
     "name": "stdout",
     "output_type": "stream",
     "text": [
      "ahk =  0.99334\n"
     ]
    }
   ],
   "source": [
    "ahk = exp(-2*hystGamma/Q)"
   ]
  },
  {
   "cell_type": "code",
   "execution_count": 8,
   "metadata": {},
   "outputs": [
    {
     "name": "stdout",
     "output_type": "stream",
     "text": [
      "RC =  2.4107\n"
     ]
    }
   ],
   "source": [
    "RC = getParamESC('RCParam',25,model)"
   ]
  },
  {
   "cell_type": "code",
   "execution_count": 9,
   "metadata": {},
   "outputs": [
    {
     "name": "stdout",
     "output_type": "stream",
     "text": [
      "Ark =  0.66046\n"
     ]
    }
   ],
   "source": [
    "Ark = exp(-1/RC)"
   ]
  },
  {
   "cell_type": "code",
   "execution_count": 33,
   "metadata": {},
   "outputs": [],
   "source": [
    "SOC = 0:0.01:1;\n",
    "OCV = OCVfromSOCtemp(SOC,25,model);"
   ]
  },
  {
   "cell_type": "code",
   "execution_count": 34,
   "metadata": {},
   "outputs": [
    {
     "name": "stdout",
     "output_type": "stream",
     "text": [
      "z =  0.20000\n"
     ]
    }
   ],
   "source": [
    "z = 0.2"
   ]
  },
  {
   "cell_type": "code",
   "execution_count": 35,
   "metadata": {},
   "outputs": [],
   "source": [
    "dZ = SOC(2) - SOC(1);  % Find spacing of SOC vector\n",
    "dUdZ = diff(OCV)/dZ; % Scaled forward finite difference\n",
    "dOCV = ([dUdZ(1) dUdZ] + [dUdZ dUdZ(end)])/2; % Avg of fwd / bkwd diffs\n",
    "dOCVz = interp1(SOC ,dOCV ,z); "
   ]
  },
  {
   "cell_type": "code",
   "execution_count": 36,
   "metadata": {},
   "outputs": [
    {
     "name": "stdout",
     "output_type": "stream",
     "text": [
      "dOCVz =  0.87045\n"
     ]
    }
   ],
   "source": [
    "dOCVz"
   ]
  },
  {
   "cell_type": "code",
   "execution_count": null,
   "metadata": {},
   "outputs": [],
   "source": []
  },
  {
   "cell_type": "code",
   "execution_count": null,
   "metadata": {},
   "outputs": [],
   "source": []
  },
  {
   "cell_type": "code",
   "execution_count": null,
   "metadata": {},
   "outputs": [],
   "source": []
  }
 ],
 "metadata": {
  "kernelspec": {
   "display_name": "Octave",
   "language": "octave",
   "name": "octave"
  },
  "language_info": {
   "file_extension": ".m",
   "help_links": [
    {
     "text": "GNU Octave",
     "url": "https://www.gnu.org/software/octave/support.html"
    },
    {
     "text": "Octave Kernel",
     "url": "https://github.com/Calysto/octave_kernel"
    },
    {
     "text": "MetaKernel Magics",
     "url": "https://github.com/calysto/metakernel/blob/master/metakernel/magics/README.md"
    }
   ],
   "mimetype": "text/x-octave",
   "name": "octave",
   "version": "4.2.2"
  }
 },
 "nbformat": 4,
 "nbformat_minor": 1
}
