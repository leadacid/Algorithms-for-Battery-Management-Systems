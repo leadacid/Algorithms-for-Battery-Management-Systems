{
 "cells": [
  {
   "cell_type": "markdown",
   "metadata": {},
   "source": [
    "## Octave code to simulate sigma-point Kalman filter for simple example\n",
    "This code simulates the example introduced in lesson 3.5.4 and is a straightforward implementation of the six sigma-point Kalman-filter steps on a simple model. You will use this code to answer the practice-quiz questions for this lesson. Feel free to add your own statements to plot or output variables computed by the filter to help you understand better how it works."
   ]
  },
  {
   "cell_type": "code",
   "execution_count": 1,
   "metadata": {},
   "outputs": [
    {
     "data": {
      "image/png": "[encoded data removed]",
      "text/plain": [
       "<IPython.core.display.Image object>"
      ]
     },
     "metadata": {},
     "output_type": "display_data"
    }
   ],
   "source": [
    "% Initialize simulation variables\n",
    "SigmaW = 1; % Process noise covariance\n",
    "SigmaV = 2; % Sensor noise covariance\n",
    "maxIter = 40;\n",
    "\n",
    "% Seed the random number generator: Octave's \"randn\" function produces pseudo \n",
    "% random numbers having a Gaussian distribution. To get the same random numbers\n",
    "% every time you run the code, you can \"seed\" the pseudo random number generator \n",
    "% with a deterministic value. This allows us to get reproducible results that \n",
    "% still contain apparent randomness.\n",
    "%\n",
    "% YOU MUST NOT CHANGE THE FOLLOWING LINE IN ORDER TO ARRIVE AT \"CORRECT\" ANSWERS \n",
    "% FOR THE QUIZ. IF YOU CHANGE IT TO EXPLORE THE BEHAVIOR OF THE FILTER FOR \n",
    "% DIFFERENT PSEUDO-RANDOM SEQUENCES, CHANGE IT BACK TO randn(\"seed\",-1) BEFORE \n",
    "% COMPUTING RESULTS TO ENTER AS QUIZ RESPONSES.\n",
    "randn(\"seed\",-1);\n",
    "\n",
    "% Define size of variables in model\n",
    "Nx = 1;     % state  = 1x1 scalar\n",
    "Nxa = 3;    % augmented state has also w(k) and v(k) contributions\n",
    "Nz = 1;     % output = 1x1 scalar\n",
    "\n",
    "% Some constants for the SPKF algorithm. Use standard values for\n",
    "% cases with Gaussian noises.  (These are the weighting matrices\n",
    "% comprising the values of alpha(c) and alpha(m) organized in a way to\n",
    "% make later computation efficient).\n",
    "h = sqrt(3);\n",
    "Wmx(1) = (h*h-Nxa)/(h*h); Wmx(2) = 1/(2*h*h); Wcx=Wmx;\n",
    "repWmxz = repmat([Wmx(1) repmat(Wmx(2),[1 2*Nxa])],1); \n",
    "\n",
    "xtrue = 2 + randn(1);  % Initialize true system initial state\n",
    "xhat = 2;           % Initialize Kalman filter initial estimate\n",
    "SigmaX = 1;\t           % Initialize Kalman filter covariance\n",
    "\n",
    "% Reserve storage for variables we might want to plot/evaluate\n",
    "xstore = zeros(length(xtrue),maxIter+1); xstore(:,1) = xtrue;\n",
    "zstore = zeros(1,maxIter);\n",
    "\n",
    "% Reserve storage for variables we might want to plot/evaluate\n",
    "xhatstore = zeros(length(xhat),maxIter);\n",
    "SigmaXstore = zeros(length(xhat)^2,maxIter);\n",
    "for k = 1:maxIter,\n",
    "  % SPKF Step 1: State estimate time update\n",
    "  % 1a: Calculate augmented state estimate, including ...\n",
    "  xhata = [xhat; 0; 0]; % process and sensor noise mean\n",
    "  % 1b: Get desired Cholesky factor\n",
    "  Pxa = blkdiag(SigmaX,SigmaW,SigmaV);\n",
    "  sPxa = chol(Pxa,'lower');   \n",
    "  % 1c: Calculate sigma points (strange indexing of xhat to avoid\n",
    "  % \"repmat\" call, which is very inefficient in Matlab)\n",
    "  X = xhata(:,ones([1 2*Nxa+1])) + h*[zeros([Nxa 1]), sPxa, -sPxa];\n",
    "  % 1d: Calculate state equation for every element\n",
    "  % Hard-code equation here for efficiency\n",
    "  Xx = sqrt(5+X(1,:)) + X(2,:);\n",
    "  xhat = Xx*repWmxz';\n",
    "\n",
    "  % SPKF Step 2: Covariance of prediction\n",
    "  Xs = (Xx(:,2:end) - xhat(:,ones([1 2*Nxa])))*sqrt(Wcx(2));\n",
    "  Xs1 = Xx(:,1) - xhat;\n",
    "  SigmaX = Xs*Xs' + Wcx(1)*Xs1*Xs1';\n",
    "\n",
    "  % [Implied operation of system in background, with\n",
    "  w = chol(SigmaW)'*randn(1);\n",
    "  v = chol(SigmaV)'*randn(1);\n",
    "  zmeas = xtrue^3 + v;  % present z is based on present x and v\n",
    "  xtrue = sqrt(5+xtrue) + w;  % future x is based on present x and w\n",
    "  xstore(:,k+1) = xtrue;\n",
    "\n",
    "  % SPKF Step 3: Create output estimate\n",
    "  % Hard-code equation here for efficiency\n",
    "  Z = Xx.^3 + X(3,:);\n",
    "  zhat = Z*repWmxz';\n",
    "\n",
    "  % SPKF Step 4: Estimator gain matrix\n",
    "  Zs = (Z(:,2:end) - zhat*ones([1 2*Nxa])) * sqrt(Wcx(2));\n",
    "  Zs1 = Z(:,1) - zhat;\n",
    "  SigmaXZ = Xs*Zs' + Wcx(1)*Xs1*Zs1';\n",
    "  SigmaZ  = Zs*Zs' + Wcx(1)*Zs1*Zs1';\n",
    "  Lx = SigmaXZ/SigmaZ;\n",
    "\n",
    "  % SPKF Step 5: Measurement state update\n",
    "  xhat = xhat + Lx*(zmeas-zhat); % update estimate if not too rare\n",
    "\n",
    "  % SPKF Step 6: Measurement covariance update\n",
    "  SigmaX = SigmaX - Lx*SigmaZ*Lx'; \n",
    "\n",
    "  % [Store information for evaluation/plotting purposes]\n",
    "  xhatstore(:,k) = xhat;\n",
    "  SigmaXstore(:,k) = SigmaX(:);\n",
    "end\n",
    "\n",
    "subplot(1,2,1);\n",
    "plot(0:maxIter-1,xstore(1:maxIter),'k-',0:maxIter-1,xhatstore,'b--', ...\n",
    "  0:maxIter-1,xhatstore+3*sqrt(SigmaXstore),'m-.',...\n",
    "  0:maxIter-1,xhatstore-3*sqrt(SigmaXstore),'m-.'); grid;\n",
    "legend('true','estimate','bounds');\n",
    "title('Sigma-point Kalman filter in action');\n",
    "xlabel('Iteration'); ylabel('State');\n",
    "\n",
    "subplot(1,2,2)\n",
    "estErr = xstore(1:maxIter)-xhatstore; \n",
    "bounds = 3*sqrt(SigmaXstore);\n",
    "plot(0:maxIter-1,estErr,'b-',0:maxIter-1, bounds,'m--',0:maxIter-1,-bounds,'m--');\n",
    "grid; legend('Error','bounds',0);\n",
    "title('SPKF Error with bounds');\n",
    "xlabel('Iteration'); ylabel('Estimation Error');"
   ]
  },
  {
   "cell_type": "code",
   "execution_count": 2,
   "metadata": {},
   "outputs": [
    {
     "name": "stdout",
     "output_type": "stream",
     "text": [
      "ans =  0.56757\n"
     ]
    }
   ],
   "source": [
    "% Compute rms error\n",
    "sqrt(mean(estErr.^2))"
   ]
  },
  {
   "cell_type": "code",
   "execution_count": 3,
   "metadata": {},
   "outputs": [
    {
     "name": "stdout",
     "output_type": "stream",
     "text": [
      "ans =  0.075000\n"
     ]
    }
   ],
   "source": [
    "% Compute fraction of estimates outside of 3-sigma bounds\n",
    "length(find(abs(estErr)>bounds))/maxIter"
   ]
  },
  {
   "cell_type": "code",
   "execution_count": 4,
   "metadata": {},
   "outputs": [
    {
     "name": "stdout",
     "output_type": "stream",
     "text": [
      "ans =  1.9040\n"
     ]
    }
   ],
   "source": [
    "max(abs(estErr))"
   ]
  },
  {
   "cell_type": "code",
   "execution_count": null,
   "metadata": {},
   "outputs": [],
   "source": []
  }
 ],
 "metadata": {
  "kernelspec": {
   "display_name": "Octave",
   "language": "octave",
   "name": "octave"
  },
  "language_info": {
   "file_extension": ".m",
   "help_links": [
    {
     "text": "GNU Octave",
     "url": "https://www.gnu.org/software/octave/support.html"
    },
    {
     "text": "Octave Kernel",
     "url": "https://github.com/Calysto/octave_kernel"
    },
    {
     "text": "MetaKernel Magics",
     "url": "https://github.com/calysto/metakernel/blob/master/metakernel/magics/README.md"
    }
   ],
   "mimetype": "text/x-octave",
   "name": "octave",
   "version": "4.2.2"
  }
 },
 "nbformat": 4,
 "nbformat_minor": 1
}
