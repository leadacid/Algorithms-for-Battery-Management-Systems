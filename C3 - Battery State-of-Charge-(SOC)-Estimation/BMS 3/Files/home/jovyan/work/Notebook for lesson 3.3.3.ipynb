{
 "cells": [
  {
   "cell_type": "markdown",
   "metadata": {},
   "source": [
    "## Octave code to simulate linear Kalman filter for simple example\n",
    "This code simulates the example introduced in lesson 3.3.3 and is a straightforward implementation of the six Kalman-filter steps on a simple model. You will use this code to answer the practice-quiz questions for this lesson. Feel free to add your own statements to plot or output variables computed by the filter to help you understand better how it works."
   ]
  },
  {
   "cell_type": "code",
   "execution_count": 23,
   "metadata": {
    "scrolled": true
   },
   "outputs": [
    {
     "data": {
      "image/png": "[encoded data removed]",
      "text/plain": [
       "<IPython.core.display.Image object>"
      ]
     },
     "metadata": {},
     "output_type": "display_data"
    }
   ],
   "source": [
    "% Initialize simulation variables\n",
    "SigmaW = 1; % Process noise covariance\n",
    "SigmaV = 1; % Sensor noise covariance\n",
    "A = 1; B = 1; C = 1; D = 0; % Plant definition matrices\n",
    "maxIter = 40;\n",
    "\n",
    "% Seed the random number generator: Octave's \"randn\" function produces pseudo \n",
    "% random numbers having a Gaussian distribution. To get the same random numbers\n",
    "% every time you run the code, you can \"seed\" the pseudo random number generator \n",
    "% with a deterministic value. This allows us to get reproducible results that \n",
    "% still contain apparent randomness.\n",
    "%\n",
    "% YOU MUST NOT CHANGE THE FOLLOWING LINE IN ORDER TO ARRIVE AT \"CORRECT\" ANSWERS \n",
    "% FOR THE QUIZ. IF YOU CHANGE IT TO EXPLORE THE BEHAVIOR OF THE FILTER FOR \n",
    "% DIFFERENT PSEUDO-RANDOM SEQUENCES, CHANGE IT BACK TO randn(\"seed\",10) BEFORE \n",
    "% COMPUTING RESULTS TO ENTER AS QUIZ RESPONSES.\n",
    "randn(\"seed\",10)\n",
    "\n",
    "% Initialize true state, state estimate, error covariance, initial input\n",
    "xtrue = 0;  % Initialize true system initial state\n",
    "xhat = 5;   % Initialize Kalman filter initial estimate\n",
    "SigmaX = 0; % Initialize Kalman filter covariance\n",
    "u = 0;      % Unknown initial driving input: assume zero\n",
    "\n",
    "% Reserve storage for variables we might want to plot/evaluate\n",
    "xstore = zeros(maxIter+1,length(xtrue)); xstore(1,:) = xtrue;\n",
    "xhatstore = zeros(maxIter,length(xhat));\n",
    "SigmaXstore = zeros(maxIter,length(xhat)^2);\n",
    "\n",
    "for k = 1:maxIter,\n",
    "  % KF Step 1: State estimate time update\n",
    "  xhat = A*xhat + B*u; % use prior value of \"u\"\n",
    "\n",
    "  % KF Step 2: Error covariance time update\n",
    "  SigmaX = A*SigmaX*A' + SigmaW;\n",
    "\n",
    "  % [Implied operation of system in background, with\n",
    "  % input signal u, and output signal z]\n",
    "  u = 0.5*randn(1) + cos(k/pi); % for example... usually measured\n",
    "  w = chol(SigmaW)'*randn(length(xtrue));\n",
    "  v = chol(SigmaV)'*randn(length(C*xtrue));\n",
    "  ztrue = C*xtrue + D*u + v;  % y is based on present x and u\n",
    "  xtrue = A*xtrue + B*u + w;  % future x is based on present u\n",
    "\n",
    "  % KF Step 3: Estimate system output\n",
    "  zhat = C*xhat + D*u;\n",
    "\n",
    "  % KF Step 4: Compute Kalman gain matrix\n",
    "  L = SigmaX*C'/(C*SigmaX*C' + SigmaV);\n",
    "\n",
    "  % KF Step 5: State estimate measurement update\n",
    "  xhat = xhat + L*(ztrue - zhat);\n",
    "\n",
    "  % KF Step 6: Error covariance measurement update\n",
    "  SigmaX = SigmaX - L*C*SigmaX;\n",
    "\n",
    "  % [Store information for evaluation/plotting purposes]\n",
    "  xstore(k+1,:) = xtrue;\n",
    "  xhatstore(k,:) = xhat;\n",
    "  SigmaXstore(k,:) = SigmaX(:);\n",
    "end;\n",
    "\n",
    "subplot(1,2,1);\n",
    "plot(0:maxIter-1,xstore(1:maxIter),'k-',0:maxIter-1,xhatstore,'b--', ...\n",
    "  0:maxIter-1,xhatstore+3*sqrt(SigmaXstore),'m-.',...\n",
    "  0:maxIter-1,xhatstore-3*sqrt(SigmaXstore),'m-.'); grid;\n",
    "legend('true','estimate','bounds');\n",
    "title('Kalman filter in action');\n",
    "xlabel('Iteration'); ylabel('State');\n",
    "\n",
    "subplot(1,2,2)\n",
    "estErr = xstore(1:maxIter)-xhatstore;\n",
    "plot(0:maxIter-1,estErr,'b-',0:maxIter-1, ...\n",
    "  3*sqrt(SigmaXstore),'m--',0:maxIter-1,-3*sqrt(SigmaXstore),'m--');\n",
    "grid; legend('Error','bounds',0);\n",
    "title('Error with bounds');\n",
    "xlabel('Iteration'); ylabel('Estimation Error');"
   ]
  },
  {
   "cell_type": "code",
   "execution_count": 11,
   "metadata": {},
   "outputs": [
    {
     "name": "stdout",
     "output_type": "stream",
     "text": [
      "ans =  0.59538\n"
     ]
    }
   ],
   "source": [
    "# RMS\n",
    "sqrt((sum(estErr .^ 2))/40)"
   ]
  },
  {
   "cell_type": "code",
   "execution_count": 22,
   "metadata": {},
   "outputs": [
    {
     "name": "stdout",
     "output_type": "stream",
     "text": [
      "ans =  2.3585\n"
     ]
    }
   ],
   "source": [
    "#  What is the steady-state 3σ error bound on the estimate\n",
    "\n",
    "sqrt(SigmaXstore(40)) * 3"
   ]
  },
  {
   "cell_type": "code",
   "execution_count": 25,
   "metadata": {},
   "outputs": [
    {
     "name": "stdout",
     "output_type": "stream",
     "text": [
      "ans =  0.79087\n"
     ]
    }
   ],
   "source": [
    "# RMS 2 - XHAT = 5\n",
    "sqrt((sum(estErr .^ 2))/40)"
   ]
  },
  {
   "cell_type": "code",
   "execution_count": 38,
   "metadata": {},
   "outputs": [
    {
     "name": "stdout",
     "output_type": "stream",
     "text": [
      "Sigma = -1\n",
      "U =  1\n",
      "S =  1\n",
      "V = -1\n",
      "H =  1\n",
      "Sigma = -2\n",
      "Sigma = 0\n",
      "Sigma = 0\n"
     ]
    }
   ],
   "source": [
    "Sigma = -1\n",
    "[U,S,V] = svd(Sigma)\n",
    "H = V*S*V.'\n",
    "Sigma = Sigma  + Sigma.'\n",
    "Sigma = Sigma + H + H.'\n",
    "Sigma = Sigma / 4"
   ]
  },
  {
   "cell_type": "code",
   "execution_count": 2,
   "metadata": {},
   "outputs": [
    {
     "name": "stdout",
     "output_type": "stream",
     "text": [
      "yk =\n",
      "\n",
      "   0.50000\n",
      "  -0.20000\n",
      "\n",
      "eyk =\n",
      "\n",
      "   2.00000   0.10000\n",
      "   0.10000   2.00000\n",
      "\n"
     ]
    }
   ],
   "source": [
    "yk = [0.5;-0.2]\n",
    "eyk = [2, 0.1; 0.1, 2]"
   ]
  },
  {
   "cell_type": "code",
   "execution_count": 4,
   "metadata": {},
   "outputs": [
    {
     "name": "stdout",
     "output_type": "stream",
     "text": [
      "X2U =  5.4119\n"
     ]
    }
   ],
   "source": [
    "X2U = chi2inv(1-0.02,1)"
   ]
  },
  {
   "cell_type": "code",
   "execution_count": 5,
   "metadata": {},
   "outputs": [
    {
     "name": "stdout",
     "output_type": "stream",
     "text": [
      "ans =  0.15038\n"
     ]
    }
   ],
   "source": [
    "transpose(yk) * inverse(eyk) * yk"
   ]
  },
  {
   "cell_type": "code",
   "execution_count": null,
   "metadata": {},
   "outputs": [],
   "source": []
  }
 ],
 "metadata": {
  "kernelspec": {
   "display_name": "Octave",
   "language": "octave",
   "name": "octave"
  },
  "language_info": {
   "file_extension": ".m",
   "help_links": [
    {
     "text": "GNU Octave",
     "url": "https://www.gnu.org/software/octave/support.html"
    },
    {
     "text": "Octave Kernel",
     "url": "https://github.com/Calysto/octave_kernel"
    },
    {
     "text": "MetaKernel Magics",
     "url": "https://github.com/calysto/metakernel/blob/master/metakernel/magics/README.md"
    }
   ],
   "mimetype": "text/x-octave",
   "name": "octave",
   "version": "4.2.2"
  }
 },
 "nbformat": 4,
 "nbformat_minor": 1
}
