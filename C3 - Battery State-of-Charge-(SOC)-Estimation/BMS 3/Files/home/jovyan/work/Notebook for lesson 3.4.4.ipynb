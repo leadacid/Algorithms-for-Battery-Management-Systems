{
 "cells": [
  {
   "cell_type": "markdown",
   "metadata": {},
   "source": [
    "## Octave code to simulate extended Kalman filter for simple example\n",
    "This code simulates the example introduced in lesson 3.4.4 and is a straightforward implementation of the six extended Kalman-filter steps on a simple model. You will use this code to answer the practice-quiz questions for this lesson. Feel free to add your own statements to plot or output variables computed by the filter to help you understand better how it works."
   ]
  },
  {
   "cell_type": "code",
   "execution_count": 1,
   "metadata": {},
   "outputs": [
    {
     "data": {
      "image/png": "[encoded data removed]",
      "text/plain": [
       "<IPython.core.display.Image object>"
      ]
     },
     "metadata": {},
     "output_type": "display_data"
    }
   ],
   "source": [
    "% Initialize simulation variables\n",
    "SigmaW = 1; % Process noise covariance\n",
    "SigmaV = 2; % Sensor noise covariance\n",
    "maxIter = 40;\n",
    "\n",
    "% Seed the random number generator: Octave's \"randn\" function produces pseudo \n",
    "% random numbers having a Gaussian distribution. To get the same random numbers\n",
    "% every time you run the code, you can \"seed\" the pseudo random number generator \n",
    "% with a deterministic value. This allows us to get reproducible results that \n",
    "% still contain apparent randomness.\n",
    "%\n",
    "% YOU MUST NOT CHANGE THE FOLLOWING LINE IN ORDER TO ARRIVE AT \"CORRECT\" ANSWERS \n",
    "% FOR THE QUIZ. IF YOU CHANGE IT TO EXPLORE THE BEHAVIOR OF THE FILTER FOR \n",
    "% DIFFERENT PSEUDO-RANDOM SEQUENCES, CHANGE IT BACK TO randn(\"seed\",-1) BEFORE \n",
    "% COMPUTING RESULTS TO ENTER AS QUIZ RESPONSES.\n",
    "randn(\"seed\",-1);\n",
    "\n",
    "% Initialize true state, state estimate, error covariance, initial input\n",
    "xtrue = 2 + randn(1);  % Initialize true system initial state\n",
    "xhat = 2;              % Initialize Kalman filter initial estimate\n",
    "SigmaX = 1;            % Initialize Kalman filter covariance\n",
    "u = 0;                 % Unknown initial driving input: assume zero\n",
    "\n",
    "% Reserve storage for variables we might want to plot/evaluate\n",
    "xstore = zeros(maxIter+1,length(xtrue)); xstore(1,:) = xtrue;\n",
    "xhatstore = zeros(maxIter,length(xhat));\n",
    "SigmaXstore = zeros(maxIter,length(xhat)^2);\n",
    "\n",
    "for k = 1:maxIter,\n",
    "  % EKF Step 0: Compute Ahat, Bhat\n",
    "  % Note: For this example, x(k+1) = sqrt(5+x(k)) + w(k)\n",
    "  Ahat = 0.5/sqrt(5+xhat); Bhat = 1;\n",
    "\n",
    "  % EKF Step 1: State estimate time update\n",
    "  % Note: You need to insert your system's f(...) equation here\n",
    "  xhat = sqrt(5+xhat); \n",
    "\n",
    "  % KF Step 2: Error covariance time update\n",
    "  SigmaX = Ahat*SigmaX*Ahat' + Bhat*SigmaW*Bhat';\n",
    "\n",
    "  % [Implied operation of system in background, with\n",
    "  % input signal u, and output signal z]\n",
    "  w = chol(SigmaW)'*randn(1);\n",
    "  v = chol(SigmaV)'*randn(1);\n",
    "  ztrue = xtrue^3 + v;  % z is based on present x and u\n",
    "  xtrue = sqrt(5+xtrue) + w;  % future x is based on present u\n",
    "\n",
    "  % KF Step 3: Estimate system output\n",
    "  % Note: You need to insert your system's h(...) equation here\n",
    "  Chat = 3*xhat^2; Dhat = 1;\n",
    "  zhat = xhat^3;\n",
    "\n",
    "  % KF Step 4: Compute Kalman gain matrix\n",
    "  L = SigmaX*Chat'/(Chat*SigmaX*Chat' + Dhat*SigmaV*Dhat');\n",
    "\n",
    "  % KF Step 5: State estimate measurement update\n",
    "  xhat = xhat + L*(ztrue - zhat);\n",
    "  xhat = max(-5,xhat); % don't get square root of negative xhat!\n",
    "\n",
    "  % KF Step 6: Error covariance measurement update\n",
    "  SigmaX = SigmaX - L*Chat*SigmaX;\n",
    "\n",
    "  % [Store information for evaluation/plotting purposes]\n",
    "  xstore(k+1,:) = xtrue;\n",
    "  xhatstore(k,:) = xhat;\n",
    "  SigmaXstore(k,:) = SigmaX(:);\n",
    "end\n",
    "\n",
    "subplot(1,2,1);\n",
    "plot(0:maxIter-1,xstore(1:maxIter),'k-',0:maxIter-1,xhatstore,'b--', ...\n",
    "  0:maxIter-1,xhatstore+3*sqrt(SigmaXstore),'m-.',...\n",
    "  0:maxIter-1,xhatstore-3*sqrt(SigmaXstore),'m-.'); grid;\n",
    "legend('true','estimate','bounds');\n",
    "title('Extended Kalman filter in action');\n",
    "xlabel('Iteration'); ylabel('State');\n",
    "\n",
    "subplot(1,2,2)\n",
    "estErr = xstore(1:maxIter)-xhatstore; \n",
    "bounds = 3*sqrt(SigmaXstore);\n",
    "plot(0:maxIter-1,estErr,'b-',0:maxIter-1, bounds,'m--',0:maxIter-1,-bounds,'m--');\n",
    "grid; legend('Error','bounds',0);\n",
    "title('EKF Error with bounds');\n",
    "xlabel('Iteration'); ylabel('Estimation Error');"
   ]
  },
  {
   "cell_type": "code",
   "execution_count": 2,
   "metadata": {},
   "outputs": [
    {
     "name": "stdout",
     "output_type": "stream",
     "text": [
      "ans =  0.83387\n"
     ]
    }
   ],
   "source": [
    "% Compute rms error\n",
    "sqrt(mean(estErr.^2))"
   ]
  },
  {
   "cell_type": "code",
   "execution_count": 3,
   "metadata": {},
   "outputs": [
    {
     "name": "stdout",
     "output_type": "stream",
     "text": [
      "ans =  0.37500\n"
     ]
    }
   ],
   "source": [
    "% Compute fraction of estimates outside of 3-sigma bounds\n",
    "length(find(abs(estErr)>bounds))/maxIter"
   ]
  },
  {
   "cell_type": "code",
   "execution_count": 7,
   "metadata": {},
   "outputs": [
    {
     "name": "stdout",
     "output_type": "stream",
     "text": [
      "ans =  3.8346\n"
     ]
    }
   ],
   "source": [
    "max(abs(estErr))"
   ]
  },
  {
   "cell_type": "code",
   "execution_count": null,
   "metadata": {},
   "outputs": [],
   "source": []
  }
 ],
 "metadata": {
  "kernelspec": {
   "display_name": "Octave",
   "language": "octave",
   "name": "octave"
  },
  "language_info": {
   "file_extension": ".m",
   "help_links": [
    {
     "text": "GNU Octave",
     "url": "https://www.gnu.org/software/octave/support.html"
    },
    {
     "text": "Octave Kernel",
     "url": "https://github.com/Calysto/octave_kernel"
    },
    {
     "text": "MetaKernel Magics",
     "url": "https://github.com/calysto/metakernel/blob/master/metakernel/magics/README.md"
    }
   ],
   "mimetype": "text/x-octave",
   "name": "octave",
   "version": "4.2.2"
  }
 },
 "nbformat": 4,
 "nbformat_minor": 1
}
