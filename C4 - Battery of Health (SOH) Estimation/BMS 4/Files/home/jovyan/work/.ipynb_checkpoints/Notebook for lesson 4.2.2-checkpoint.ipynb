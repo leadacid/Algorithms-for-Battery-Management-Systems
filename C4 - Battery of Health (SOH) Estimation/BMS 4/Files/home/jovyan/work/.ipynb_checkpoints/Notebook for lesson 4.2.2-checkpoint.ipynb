{
 "cells": [
  {
   "cell_type": "markdown",
   "metadata": {
    "collapsed": true
   },
   "source": [
    "### Notebook to implement WLS method\n",
    "This notebook implements the weighted least-squares (WLS) method presented in lesson 4.2.2."
   ]
  },
  {
   "cell_type": "code",
   "execution_count": 2,
   "metadata": {},
   "outputs": [
    {
     "name": "stdout",
     "output_type": "stream",
     "text": [
      "c1 =  55\n",
      "c2 =  542.10\n",
      "Qhat =  9.8564\n"
     ]
    }
   ],
   "source": [
    "% Set up data for problem: Note that the \"x\" vector was chosen deterministically for this problem\n",
    "% and the \"y\" vector was generated randomly assuming a true capacity of 10 Ah.\n",
    "Sigmay = 0.2^2;                             % Variance of random noise on \"y\" when generating data\n",
    "x = [0 0.2 0.4 0.6 0.8 1.0];                % No noise on \"x\" in this example\n",
    "y = [-0.04, 2.18, 3.85, 5.72, 7.72, 10.10]; % y = Q*x + sqrt(Sigmay)*randn(size(x));\n",
    "\n",
    "c1 = sum(x.^2/Sigmay)                       % The denominator of the WLS computation\n",
    "c2 = sum(x.*y/Sigmay)                       % The numerator of the WLS computation\n",
    "Qhat = c2/c1                                % The WLS estimate of capacity Q"
   ]
  },
  {
   "cell_type": "code",
   "execution_count": null,
   "metadata": {},
   "outputs": [],
   "source": []
  }
 ],
 "metadata": {
  "kernelspec": {
   "display_name": "Octave",
   "language": "octave",
   "name": "octave"
  },
  "language_info": {
   "file_extension": ".m",
   "help_links": [
    {
     "text": "GNU Octave",
     "url": "https://www.gnu.org/software/octave/support.html"
    },
    {
     "text": "Octave Kernel",
     "url": "https://github.com/Calysto/octave_kernel"
    },
    {
     "text": "MetaKernel Magics",
     "url": "https://github.com/calysto/metakernel/blob/master/metakernel/magics/README.md"
    }
   ],
   "mimetype": "text/x-octave",
   "name": "octave",
   "version": "4.2.2"
  }
 },
 "nbformat": 4,
 "nbformat_minor": 1
}
