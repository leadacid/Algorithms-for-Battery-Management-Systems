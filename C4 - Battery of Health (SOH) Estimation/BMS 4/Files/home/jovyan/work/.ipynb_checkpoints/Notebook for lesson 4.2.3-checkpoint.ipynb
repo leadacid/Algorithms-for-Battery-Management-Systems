{
 "cells": [
  {
   "cell_type": "markdown",
   "metadata": {},
   "source": [
    "### Notebook to implement recursive WLS method\n",
    "This notebook implements the recursive version of the weighted least-squares (WLS) method presented in lesson 4.2.3. It is similar to the method presented in lesson 4.2.2, but initializes the estimate using Qnom."
   ]
  },
  {
   "cell_type": "code",
   "execution_count": 4,
   "metadata": {},
   "outputs": [
    {
     "name": "stdout",
     "output_type": "stream",
     "text": [
      "c1 = 0\n",
      "c2 = 0\n",
      "Qhat =  9.9586\n"
     ]
    }
   ],
   "source": [
    "% Set up data for problem: Note that the \"x\" vector was chosen deterministically for this problem\n",
    "% and the \"y\" vector was generated randomly assuming a true capacity of 10 Ah.\n",
    "Qnom = 10;                                  % Initialize nominal capacity\n",
    "gamma = 0.5;                                % Fading-memory rate constant. Default = 1.0\n",
    "Sigmay = 0.2^2;                             % Variance of random noise on \"y\" when generating data\n",
    "c1 = 0 #1/Sigmay;                              % Correct initialization of c1 recursive value\n",
    "c2 = 0 #Qnom/Sigmay;                           % Correct initialization of c2 recursive value\n",
    "% c1 = 0; c2 = 0;                           % Incorrect (suboptimal) initialization of c1 and c2 values\n",
    "x = [0 0.2 0.4 0.6 0.8 1.0];                % Data for problem: no noise on \"x\" in this example\n",
    "y = [-0.04, 2.18, 3.85, 5.72, 7.72, 10.10]; % y = Q*x + sqrt(Sigmay)*randn(size(x));\n",
    "\n",
    "for k = 1:length(x),\n",
    "  c1 = gamma*c1 + x(k)^2/Sigmay;            % Update c1 recursive parameter\n",
    "  c2 = gamma*c2 + x(k)*y(k)/Sigmay;         % Update c2 recursive parameter\n",
    "end\n",
    "Qhat = c2/c1                                % The WLS estimate of capacity Q"
   ]
  },
  {
   "cell_type": "code",
   "execution_count": null,
   "metadata": {},
   "outputs": [],
   "source": []
  }
 ],
 "metadata": {
  "kernelspec": {
   "display_name": "Octave",
   "language": "octave",
   "name": "octave"
  },
  "language_info": {
   "file_extension": ".m",
   "help_links": [
    {
     "text": "GNU Octave",
     "url": "https://www.gnu.org/software/octave/support.html"
    },
    {
     "text": "Octave Kernel",
     "url": "https://github.com/Calysto/octave_kernel"
    },
    {
     "text": "MetaKernel Magics",
     "url": "https://github.com/calysto/metakernel/blob/master/metakernel/magics/README.md"
    }
   ],
   "mimetype": "text/x-octave",
   "name": "octave",
   "version": "4.2.2"
  }
 },
 "nbformat": 4,
 "nbformat_minor": 1
}
