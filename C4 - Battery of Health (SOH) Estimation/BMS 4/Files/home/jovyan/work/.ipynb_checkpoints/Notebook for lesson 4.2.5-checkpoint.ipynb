{
 "cells": [
  {
   "cell_type": "markdown",
   "metadata": {},
   "source": [
    "### Comparing the WLS and WTLS solutions when both \"x\" and \"y\" are noisy\n",
    "This notebook implements the WLS and WTLS method solutions when both \"x\" and \"y\" are noisy. "
   ]
  },
  {
   "cell_type": "code",
   "execution_count": 2,
   "metadata": {},
   "outputs": [
    {
     "name": "stdout",
     "output_type": "stream",
     "text": [
      "WLS estimate of Q (true value = 10.0): 7.956623\n",
      "\n",
      "WTLS estimate of Q after  1 Newton-Raphson iterations: 6.272590\n",
      "WTLS estimate of Q after  2 Newton-Raphson iterations: 7.629451\n",
      "WTLS estimate of Q after  3 Newton-Raphson iterations: 8.874591\n",
      "WTLS estimate of Q after  4 Newton-Raphson iterations: 9.717172\n",
      "WTLS estimate of Q after  5 Newton-Raphson iterations: 10.019132\n",
      "WTLS estimate of Q after  6 Newton-Raphson iterations: 10.049733\n",
      "WTLS estimate of Q after  7 Newton-Raphson iterations: 10.050015\n",
      "WTLS estimate of Q after  8 Newton-Raphson iterations: 10.050015\n",
      "WTLS estimate of Q after  9 Newton-Raphson iterations: 10.050015\n",
      "WTLS estimate of Q after 10 Newton-Raphson iterations: 10.050015\n"
     ]
    }
   ],
   "source": [
    "% First load the dataset: contains vectors of (x,y) data in \"x\" and \"y\", and variances of\n",
    "% the data in \"Sigmax\" and \"Sigmay\". Note that the true capacity used to create this dataset was Q=10.0.\n",
    "load readonly/Lesson425data.mat\n",
    "\n",
    "% First, implement the WLS method for comparison purposes. \n",
    "c1 = sum(x.^2./Sigmay);\n",
    "c2 = sum(x.*y./Sigmay);\n",
    "fprintf('WLS estimate of Q (true value = 10.0): %f\\n\\n',c2/c1);\n",
    "\n",
    "% Now, implement the WTLS method. \n",
    "sigmax = sqrt(Sigmax); % convert variance into standard deviation\n",
    "sigmay = sqrt(Sigmay); % convert variance into standard deviation\n",
    "Qhat = 5;              % purposefully bad initialization of Qhat to show that method converges\n",
    "for k = 1:10,          % Newton-Raphson iterations to update estimate of Qhat\n",
    "  jacobian = sum((2*(Qhat*x-y).*(Qhat*y.*sigmax.^2+x.*sigmay.^2))./((Qhat^2*sigmax.^2+sigmay.^2).^2));\n",
    "  hessian = sum((2*sigmay.^4.*x.^2+sigmax.^4.*(6*Qhat^2*y.^2-4*Qhat^3*x.*y) - ...\n",
    "                 sigmax.^2.*sigmay.^2.*(6*Qhat^2*x.^2-12*Qhat*x.*y+2*y.^2))./((Qhat^2*sigmax.^2+sigmay.^2).^3));\n",
    "  Qhat = Qhat - jacobian/hessian;\n",
    "  fprintf('WTLS estimate of Q after %2d Newton-Raphson iterations: %f\\n',k,Qhat);\n",
    "end"
   ]
  },
  {
   "cell_type": "code",
   "execution_count": null,
   "metadata": {
    "collapsed": true
   },
   "outputs": [],
   "source": []
  }
 ],
 "metadata": {
  "kernelspec": {
   "display_name": "Octave",
   "language": "octave",
   "name": "octave"
  },
  "language_info": {
   "file_extension": ".m",
   "help_links": [
    {
     "text": "GNU Octave",
     "url": "https://www.gnu.org/software/octave/support.html"
    },
    {
     "text": "Octave Kernel",
     "url": "https://github.com/Calysto/octave_kernel"
    },
    {
     "text": "MetaKernel Magics",
     "url": "https://github.com/calysto/metakernel/blob/master/metakernel/magics/README.md"
    }
   ],
   "mimetype": "text/x-octave",
   "name": "octave",
   "version": "4.2.2"
  }
 },
 "nbformat": 4,
 "nbformat_minor": 1
}
