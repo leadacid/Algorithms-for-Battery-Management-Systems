{
 "cells": [
  {
   "cell_type": "markdown",
   "metadata": {},
   "source": [
    "### Comparing the error bounds produced by WLS and WTLS when both \"x\" and \"y\" are noisy\n",
    "This notebook implements the WLS/FMWLS and WTLS method solutions when both \"x\" and \"y\" are noisy, and also computes the 3-sigma error bounds on the estimates."
   ]
  },
  {
   "cell_type": "code",
   "execution_count": 5,
   "metadata": {},
   "outputs": [
    {
     "name": "stdout",
     "output_type": "stream",
     "text": [
      "FMWLS estimate of Q (true value = 10.0): 9.024193\n",
      "FMWLS 3-sigma bounds on Q: 0.176618\n",
      "\n",
      "WTLS estimate after 1 Newton-Raphson iterations: 6.272590\n",
      "WTLS estimate after 2 Newton-Raphson iterations: 7.629451\n",
      "WTLS estimate after 3 Newton-Raphson iterations: 8.874591\n",
      "WTLS estimate after 4 Newton-Raphson iterations: 9.717172\n",
      "WTLS estimate after 5 Newton-Raphson iterations: 10.019132\n",
      "WTLS estimate after 6 Newton-Raphson iterations: 10.049733\n",
      "WTLS estimate after 7 Newton-Raphson iterations: 10.050015\n",
      "WTLS estimate after 8 Newton-Raphson iterations: 10.050015\n",
      "WTLS estimate after 9 Newton-Raphson iterations: 10.050015\n",
      "WTLS estimate after 10 Newton-Raphson iterations: 10.050015\n",
      "WTLS 3-sigma bounds on Q: 0.487120\n",
      "\n"
     ]
    }
   ],
   "source": [
    "% Set up data for problem... use dataset from lesson 4.2.5 for comparison purposes\n",
    "load readonly/Lesson425data.mat             % Remember that the true capacity is 10.0 Ah\n",
    "\n",
    "% First, implement FMWLS\n",
    "Qnom = 10;                                  % Be as generous as possible by using perfect init\n",
    "gamma = 0.9;                                % Fading-memory rate constant. Default = 1.0\n",
    "c1 = 1/Sigmay(1);                           % Correct initialization of c1 recursive value\n",
    "c2 = Qnom/Sigmay(1);                        % Correct initialization of c2 recursive value\n",
    "for k = 1:length(x),\n",
    "  c1 = gamma*c1 + x(k)^2/Sigmay(k);         % Update c1 recursive parameter\n",
    "  c2 = gamma*c2 + x(k)*y(k)/Sigmay(k);      % Update c2 recursive parameter\n",
    "end\n",
    "Qhat = c2/c1;                               % The WLS estimate of capacity Q\n",
    "Sigmaq = 1/c1;\n",
    "fprintf('FMWLS estimate of Q (true value = 10.0): %f\\n',Qhat);\n",
    "fprintf('FMWLS 3-sigma bounds on Q: %f\\n\\n',3*sqrt(Sigmaq));\n",
    "\n",
    "% Now, implement WTLS -- not recursive, uses all data\n",
    "sigmax = sqrt(Sigmax); % std-dev of x \n",
    "sigmay = sqrt(Sigmay); % std-dev of y\n",
    "Qhat = 5; % purposefully bad initialization of Qhat\n",
    "for k = 1:10,\n",
    "  jacobian = sum((2*(Qhat*x-y).*(Qhat*y.*sigmax.^2+x.*sigmay.^2))./((Qhat^2*sigmax.^2+sigmay.^2).^2));\n",
    "  hessian = sum((2*sigmay.^4.*x.^2+sigmax.^4.*(6*Qhat^2*y.^2-4*Qhat^3*x.*y) - ...\n",
    "                 sigmax.^2.*sigmay.^2.*(6*Qhat^2*x.^2-12*Qhat*x.*y+2*y.^2))./((Qhat^2*sigmax.^2+sigmay.^2).^3));\n",
    "  Qhat = Qhat - jacobian/hessian;\n",
    "  fprintf('WTLS estimate after %d Newton-Raphson iterations: %f\\n',k,Qhat);\n",
    "end\n",
    "fprintf('WTLS 3-sigma bounds on Q: %f\\n\\n',3*sqrt(2/hessian));"
   ]
  },
  {
   "cell_type": "code",
   "execution_count": null,
   "metadata": {
    "collapsed": true
   },
   "outputs": [],
   "source": []
  }
 ],
 "metadata": {
  "kernelspec": {
   "display_name": "Octave",
   "language": "octave",
   "name": "octave"
  },
  "language_info": {
   "file_extension": ".m",
   "help_links": [
    {
     "text": "GNU Octave",
     "url": "https://www.gnu.org/software/octave/support.html"
    },
    {
     "text": "Octave Kernel",
     "url": "https://github.com/Calysto/octave_kernel"
    },
    {
     "text": "MetaKernel Magics",
     "url": "https://github.com/calysto/metakernel/blob/master/metakernel/magics/README.md"
    }
   ],
   "mimetype": "text/x-octave",
   "name": "octave",
   "version": "4.2.2"
  }
 },
 "nbformat": 4,
 "nbformat_minor": 1
}
