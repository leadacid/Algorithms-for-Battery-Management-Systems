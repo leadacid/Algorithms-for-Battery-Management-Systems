{
 "cells": [
  {
   "cell_type": "markdown",
   "metadata": {},
   "source": [
    "### Total capacity estimation using recursive FMTLS\n",
    "This notebook implements the recursive FMTLS method using the same data set you are already familiar with from last week. Remember that the true capacity of this cell is 10.0 Ah."
   ]
  },
  {
   "cell_type": "code",
   "execution_count": null,
   "metadata": {
    "collapsed": false
   },
   "outputs": [],
   "source": [
    "%% Set up data for problem\n",
    "load readonly/Lesson425data.mat\n",
    "\n",
    "%% FMTLS\n",
    "SY = Sigmay(1);  % Assume always this value (which is true in this dataset)\n",
    "SX = Sigmax(1);  % Assume always this value (which is true in this dataset)\n",
    "K = sqrt(SX/SY); % Constant of proportionality\n",
    "\n",
    "Qnom = 10;                        % Initialize nominal capacity\n",
    "gamma = 1.00;                     % Fading-memory rate constant. Default = 1.00\n",
    "SYinit = 1e-3;                    % Uncertainty of Q with respect to Qnom\n",
    "c1 = 1/SYinit;                    % Correct initialization of c1 recursive value\n",
    "c2 = Qnom/SYinit;                 % Correct initialization of c2 recursive value\n",
    "c3 = Qnom^2/SYinit;               % Correct initialization of c3 recursive value\n",
    "\n",
    "Qhat = 0*x;                       % Initialize storage for output estimate\n",
    "SigmaQ = 0*x;                     % Initialize storage for estimation-error variance\n",
    "for k = 1:length(x),\n",
    "  c1 = gamma*c1 + x(k)^2/SY;      % Update c1 recursive parameter\n",
    "  c2 = gamma*c2 + x(k)*y(k)/SY;   % Update c2 recursive parameter\n",
    "  c3 = gamma*c3 + y(k)^2/SY;      % Upcate c3 recursive parameter\n",
    "  \n",
    "  Qhat(k) = (-c1+K^2*c3+sqrt((c1-K^2*c3)^2+4*K^2*c2^2))/(2*K^2*c2);\n",
    "  H = ((-4*K^4*c2)*Q^3+(6*K^4*c3-6*c1*K^2)*Q^2+12*c2*K^2*Q+2*(c1-K^2*c3))/(Q^2*K^2+1)^3;\n",
    "  \n",
    "  SigmaQ(k) = 2/H;\n",
    "end\n",
    "\n",
    "xvals = 1:length(Qhat);\n",
    "plot(xvals,10*ones(size(Qhat)),xvals,Qhat,[xvals,NaN,xvals],[Qhat+3*sqrt(SigmaQ),NaN,Qhat-3*sqrt(SigmaQ)]);\n",
    "xlabel('Update iteration number'); ylabel('Total capacity estimate (Ah)');\n",
    "title('Output of FMTLS method');   xlim([0 1000])\n",
    "legend('True total capacity','FMTLS estimate','Bounds on estimate','location','northeast');"
   ]
  },
  {
   "cell_type": "code",
   "execution_count": null,
   "metadata": {
    "collapsed": true
   },
   "outputs": [],
   "source": []
  }
 ],
 "metadata": {
  "kernelspec": {
   "display_name": "Octave",
   "language": "octave",
   "name": "octave"
  },
  "language_info": {
   "file_extension": ".m",
   "help_links": [
    {
     "text": "MetaKernel Magics",
     "url": "https://github.com/calysto/metakernel/blob/master/metakernel/magics/README.md"
    }
   ],
   "mimetype": "text/x-octave",
   "name": "octave",
   "version": "0.16.0"
  }
 },
 "nbformat": 4,
 "nbformat_minor": 0
}
