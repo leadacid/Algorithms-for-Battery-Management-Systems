{
 "cells": [
  {
   "cell_type": "markdown",
   "metadata": {},
   "source": [
    "### Total capacity estimation using the xLSalgos function\n",
    "This notebook implements the different total-capacity estimation methods using the same data set you are already familiar with from last week. Remember that the true capacity of this cell is 10.0 Ah."
   ]
  },
  {
   "cell_type": "code",
   "execution_count": 1,
   "metadata": {},
   "outputs": [],
   "source": [
    "% Tests the recursive performance of the xLS algorithms on a particular dataset\n",
    "% [Qhat,SigmaQ] = xLSalgos(measX,measY,SigmaX,SigmaY,gamma,Qnom,SigmaY0) \n",
    "%   - measX = noisy z(2)-z(1)\n",
    "%   - measY = noisy integral(i(t)/3600 dt)\n",
    "%   - SigmaX = variance of X\n",
    "%   - SigmaY = variance of Y\n",
    "%   - gamma = geometric forgetting factor (gamma = 1 for perfect memory)\n",
    "%   - Qnom = nominal value of Q: if nonzero, used to initialize recursions\n",
    "%   - SigmaY0 = variance of uncertainty of nominal capacity\n",
    "%\n",
    "%   - Qhat = estimate of capacity at every time step\n",
    "%     - column 1 = WLS - weighted, recursive\n",
    "%     - column 2 = WTLS - weighted, but not recursive\n",
    "%     - column 3 = SCTLS - scaled confidence TLS; recursive and weighted,\n",
    "%                  but using SigmaX(1) and SigmaY(1) only to determine\n",
    "%                  factor by which all SigmaX and SigmaY are assumed to be\n",
    "%                  related\n",
    "%     - column 4 = AWTLS - recursive and weighted\n",
    "%   - SigmaQ = variance of Q, computed via Hessian method (columns\n",
    "%                  correspond to methods in the same way as for Qhat)\n",
    "function [Qhat,SigmaQ] = xLSalgos(measX,measY,SigmaX,SigmaY,gamma,Qnom,SigmaY0)\n",
    "  measX = measX(:); measY = measY(:); SigmaX = SigmaX(:); SigmaY = SigmaY(:);\n",
    "  % Reserve some memory\n",
    "  Qhat = zeros(length(measX),4); SigmaQ = Qhat; \n",
    "  K = sqrt(SigmaX(1)/SigmaY(1));\n",
    "  \n",
    "  % Initialize some variables used for the recursive methods\n",
    "  c1 = 0; c2 =0; c3 = 0; C1 = 0; C2 =0; C3 = 0; C4 = 0; C5 = 0; C6 = 0;\n",
    "  if Qnom ~= 0,\n",
    "    c1 = 1/SigmaY0; c2 = Qnom/SigmaY0; c3 = Qnom^2/SigmaY0;\n",
    "    C1 = 1/(K^2*SigmaY0); C2 = K*Qnom/(K^2*SigmaY0); C3 = K^2*Qnom^2/(K^2*SigmaY0);\n",
    "    % Init C4...C6 assuming SigmaX0 = K^2*SigmaY0 to match TLS\n",
    "    C4 = 1/(K^2*SigmaY0); C5 = K*Qnom/(K^2*SigmaY0); C6 = K^2*Qnom^2/(K^2*SigmaY0);    \n",
    "  end\n",
    "  \n",
    "  for iter = 1:length(measX),\n",
    "    % Compute some variables used for the recursive methods\n",
    "    c1 = gamma*c1 + measX(iter)^2/SigmaY(iter);\n",
    "    c2 = gamma*c2 + measX(iter)*measY(iter)/SigmaY(iter);\n",
    "    c3 = gamma*c3 + measY(iter)^2/SigmaY(iter);\n",
    "\n",
    "    C1 = gamma*C1 + measX(iter)^2/(K^2*SigmaY(iter));\n",
    "    C2 = gamma*C2 + K*measX(iter)*measY(iter)/(K^2*SigmaY(iter));\n",
    "    C3 = gamma*C3 + K^2*measY(iter)^2/(K^2*SigmaY(iter));\n",
    "    C4 = gamma*C4 + measX(iter)^2/SigmaX(iter);\n",
    "    C5 = gamma*C5 + K*measX(iter)*measY(iter)/SigmaX(iter);\n",
    "    C6 = gamma*C6 + K^2*measY(iter)^2/SigmaX(iter);\n",
    "    \n",
    "    % Method 1: WLS\n",
    "    Q = c2./c1; Qhat(iter,1) = Q;\n",
    "    H = 2*c1;   SigmaQ(iter,1) = 2/H;\n",
    "\n",
    "    % Method 3: TLS\n",
    "    Q = (-c1+K^2*c3+sqrt((c1-K^2*c3)^2+4*K^2*c2^2))/(2*K^2*c2);\n",
    "    Qhat(iter,3) = Q;\n",
    "    H = ((-4*K^4*c2)*Q^3+(6*K^4*c3-6*c1*K^2)*Q^2+12*c2*K^2*Q+2*(c1-K^2*c3))/(Q^2*K^2+1)^3;\n",
    "    SigmaQ(iter,3) = 2/H;\n",
    "\n",
    "    % Method 2: WTLS -- not recursive\n",
    "    x = measX(1:iter); SX = SigmaX(1:iter); % x, variance of x, already \"squared\"\n",
    "    y = measY(1:iter); SY = SigmaY(1:iter); % y, variance of y, already \"squared\"\n",
    "    g = gamma.^((iter-1):-1:0)';\n",
    "    Q = Qhat(iter,3); % initialize with TLS solution\n",
    "    for k = 1:5,\n",
    "      J = sum(g.*(2*(Q*x-y).*(Q*y.*SX+x.*SY))./((Q^2*SX+SY).^2));\n",
    "      H = sum(g.*(2*SY.^2.*x.^2+SX.^2.*(6*Q^2*y.^2-4*Q^3*x.*y) - ...\n",
    "                     SX.*SY.*(6*Q^2*x.^2-12*Q*x.*y+2*y.^2))./((Q^2*SX+SY).^3));\n",
    "      Q = Q - J/H;\n",
    "    end\n",
    "    Qhat(iter,2)=Q;\n",
    "    SigmaQ(iter,2)=2/H;    \n",
    "    if SigmaQ(iter,2)<0 || Q<0, % Sometimes WTLS fails to converge to soln\n",
    "      Qhat(iter,2) = NaN; SigmaQ(iter,2)=0;\n",
    "    end    \n",
    "\n",
    "    % Method 4: AWTLS with pre-scaling\n",
    "    r = roots([C5 (-C1+2*C4-C6) (3*C2-3*C5) (C1-2*C3+C6) -C2]);\n",
    "    r = r(r==conj(r)); % discard complex-conjugate roots\n",
    "    r = r(r>0); % discard negative roots\n",
    "    Jr = ((1./(r.^2+1).^2).*(r.^4*C4-2*C5*r.^3+(C1+C6)*r.^2-2*C2*r+C3))';\n",
    "    J = min(Jr);\n",
    "    Q = r(Jr==J); % keep Q that minimizes cost function\n",
    "    H = (2/(Q^2+1)^4)*(-2*C5*Q^5+(3*C1-6*C4+3*C6)*Q^4+(-12*C2+16*C5)*Q^3 ...\n",
    "          +(-8*C1+10*C3+6*C4-8*C6)*Q^2+(12*C2-6*C5)*Q+(C1-2*C3+C6));\n",
    "    Qhat(iter,4) = Q/K;\n",
    "    SigmaQ(iter,4) = 2/H/K^2;\n",
    "  end\n",
    "end"
   ]
  },
  {
   "cell_type": "code",
   "execution_count": 2,
   "metadata": {},
   "outputs": [
    {
     "data": {
      "image/png": "[encoded data removed]",
      "text/plain": [
       "<IPython.core.display.Image object>"
      ]
     },
     "metadata": {},
     "output_type": "display_data"
    }
   ],
   "source": [
    "% Set up data for problem; execute the algorithms\n",
    "load readonly/Lesson425data.mat\n",
    "Qnom = 10;                        % Initialize nominal capacity\n",
    "gamma = 1.00;                     % Fading-memory rate constant. Default = 1.00\n",
    "\n",
    "% Execute the algorithms\n",
    "[Qhat,SigmaQ] = xLSalgos(x,y,Sigmax,Sigmay,gamma,Qnom,1e-3);\n",
    "\n",
    "% Plot estimates of capacity\n",
    "hold on\n",
    "plot(Qhat(:,1),'b','linewidth',3); % WLS\n",
    "plot(Qhat(:,2),'m','linewidth',3); % WTLS\n",
    "plot(Qhat(:,3),'r','linewidth',3); % TLS\n",
    "plot(Qhat(:,4),'c','linewidth',3); % AWTLS\n",
    "\n",
    "xlabel('Algorithm update index');\n",
    "ylabel('Capacity estimate (Ah)');\n",
    "title('Total capacity estimates, error bounds');\n",
    "legend('WLS','WTLS','TLS','AWTLS','location','northeast');\n",
    "\n",
    "% Plot 3-sigma bounds\n",
    "plot(Qhat(:,1)+3*sqrt(SigmaQ(:,1)),'b--','linewidth',0.5);\n",
    "plot(Qhat(:,2)+3*sqrt(SigmaQ(:,2)),'m--','linewidth',0.5);\n",
    "plot(Qhat(:,3)+3*sqrt(SigmaQ(:,3)),'r--','linewidth',0.5);\n",
    "plot(Qhat(:,4)+3*sqrt(SigmaQ(:,4)),'c--','linewidth',0.5);\n",
    "plot(Qhat(:,1)-3*sqrt(SigmaQ(:,1)),'b--','linewidth',0.5);\n",
    "plot(Qhat(:,2)-3*sqrt(SigmaQ(:,2)),'m--','linewidth',0.5);\n",
    "plot(Qhat(:,3)-3*sqrt(SigmaQ(:,3)),'r--','linewidth',0.5);\n",
    "plot(Qhat(:,4)-3*sqrt(SigmaQ(:,4)),'c--','linewidth',0.5);\n",
    "\n",
    "% Plot over top to make sure estimate is on top of bounds\n",
    "plot(Qhat(:,1),'b','linewidth',3); % WLS\n",
    "plot(Qhat(:,2),'m','linewidth',3); % WTLS\n",
    "plot(Qhat(:,3),'r','linewidth',3); % TLS\n",
    "plot(Qhat(:,4),'c','linewidth',3); % AWTLS\n",
    "\n",
    "% Plot true capacity\n",
    "plot([1 length(x)],[10 10],'k:','linewidth',1);  ylim([6 14]);"
   ]
  },
  {
   "cell_type": "code",
   "execution_count": null,
   "metadata": {},
   "outputs": [],
   "source": []
  }
 ],
 "metadata": {
  "kernelspec": {
   "display_name": "Octave",
   "language": "octave",
   "name": "octave"
  },
  "language_info": {
   "file_extension": ".m",
   "help_links": [
    {
     "text": "GNU Octave",
     "url": "https://www.gnu.org/software/octave/support.html"
    },
    {
     "text": "Octave Kernel",
     "url": "https://github.com/Calysto/octave_kernel"
    },
    {
     "text": "MetaKernel Magics",
     "url": "https://github.com/calysto/metakernel/blob/master/metakernel/magics/README.md"
    }
   ],
   "mimetype": "text/x-octave",
   "name": "octave",
   "version": "4.2.2"
  }
 },
 "nbformat": 4,
 "nbformat_minor": 1
}
