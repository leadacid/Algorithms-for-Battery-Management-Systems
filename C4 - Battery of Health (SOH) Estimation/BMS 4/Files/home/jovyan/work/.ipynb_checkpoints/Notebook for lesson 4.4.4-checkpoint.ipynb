{
 "cells": [
  {
   "cell_type": "markdown",
   "metadata": {},
   "source": [
    "### Total capacity estimation for BEV case 1\n",
    "This notebook implements the different total-capacity estimation methods for the BEV case 1 scenario in lesson 4.4.4. "
   ]
  },
  {
   "cell_type": "code",
   "execution_count": 1,
   "metadata": {},
   "outputs": [],
   "source": [
    "% Note that xLSalgos.m is stored in the \"readonly\" path\n",
    "addpath readonly"
   ]
  },
  {
   "cell_type": "code",
   "execution_count": 2,
   "metadata": {},
   "outputs": [
    {
     "data": {
      "image/png": "[encoded data removed]",
      "text/plain": [
       "<IPython.core.display.Image object>"
      ]
     },
     "metadata": {},
     "output_type": "display_data"
    }
   ],
   "source": [
    "% Specific setup for BEV case 1\n",
    "Q0 = 100;\n",
    "maxI = 5*Q0;      % must be able to measure current up to +/- maxI\n",
    "precisionI = 1024; % 10-bit precision on current sensor\n",
    "slope = 0;\n",
    "Qnom = 0.99*Q0;\n",
    "xmax = 0.4;\n",
    "xmin = -xmax;\n",
    "m = 7200;\n",
    "theCase = 1;\n",
    "socnoise = sqrt(2)*0.01;\n",
    "gamma = 1;\n",
    "plotTitle = 'BEV scenario 1';\n",
    "\n",
    "% YOU MUST NOT CHANGE THE FOLLOWING LINE IN ORDER TO ARRIVE AT \"CORRECT\" ANSWERS \n",
    "% FOR THE QUIZ. IF YOU CHANGE IT TO EXPLORE THE BEHAVIOR OF THE XLS METHODS FOR \n",
    "% DIFFERENT PSEUDO-RANDOM SEQUENCES, CHANGE IT BACK TO rand('state',1); randn('state',1);\n",
    "% BEFORE COMPUTING RESULTS TO ENTER AS QUIZ RESPONSES.\n",
    "rand('state',1); randn('state',1);\n",
    "\n",
    "% The remainder of this Jupyter notebook cell is the script \"runScenario.m\"\n",
    "n = 1000;                           % number of data points collected\n",
    "Q = (Q0+slope*(1:n))';              % evolution of true capacity over time\n",
    "x = ((xmax-xmin)*rand(n,1)+xmin);   % true x(i), without noise\n",
    "y = Q.*x;                           % true y(i), without noise\n",
    "\n",
    "binsize = 2*maxI/precisionI;        % resolution of current sensor\n",
    "rn1 = ones(n,1);                    % init std. dev. for each measurement\n",
    "sx = socnoise*rn1;                  % scale Gaussian std. dev.\n",
    "if theCase == 1,                    % the typical case (true for HEV case 1)\n",
    "  rn2 = rn1;                        % same scale on y(i) as x(i) noise\n",
    "  sy = binsize*sqrt(m/12)/3600*rn2; % std. dev. for y(i)\n",
    "else % this case will be discussed for BEV case 3\n",
    "  mu = log(mode)+sigma^2;   \n",
    "  m = 3600*lognrnd(mu,sigma,n,1);   \n",
    "  sy = binsize*sqrt(m/12)/3600;     % std.dev. for y(i)\n",
    "end\n",
    "\n",
    "x = x + sx.*randn(n,1);             % measured x(i) data, including noise\n",
    "y = y + sy.*randn(n,1);             % measured y(i) data, including noise\n",
    "\n",
    "% Execute the algorithms for BEV case 1\n",
    "[QhatBEV1,SigmaQBEV1] = xLSalgos(x,y,sx.^2,sy.^2,gamma,Qnom,sy(1)^2);\n",
    "\n",
    "% Plot estimates of capacity for HEV case 2\n",
    "hold on; Qhat = QhatBEV1; SigmaQ = SigmaQBEV1;\n",
    "plot(Qhat(:,1),'b','linewidth',3); % WLS\n",
    "plot(Qhat(:,2),'m','linewidth',3); % WTLS\n",
    "plot(Qhat(:,3),'r','linewidth',3); % TLS\n",
    "plot(Qhat(:,4),'c','linewidth',3); % AWTLS\n",
    "\n",
    "xlabel('Algorithm update index');\n",
    "ylabel('Capacity estimate (Ah)');\n",
    "title(sprintf('%s: Capacity estimates, bounds',plotTitle));\n",
    "legend('WLS','WTLS','TLS','AWTLS','location','northeast');\n",
    "\n",
    "% Plot 3-sigma bounds\n",
    "plot(Qhat(:,1)+3*sqrt(SigmaQ(:,1)),'b--','linewidth',0.5);\n",
    "plot(Qhat(:,2)+3*sqrt(SigmaQ(:,2)),'m--','linewidth',0.5);\n",
    "plot(Qhat(:,3)+3*sqrt(SigmaQ(:,3)),'r--','linewidth',0.5);\n",
    "plot(Qhat(:,4)+3*sqrt(SigmaQ(:,4)),'c--','linewidth',0.5);\n",
    "plot(Qhat(:,1)-3*sqrt(SigmaQ(:,1)),'b--','linewidth',0.5);\n",
    "plot(Qhat(:,2)-3*sqrt(SigmaQ(:,2)),'m--','linewidth',0.5);\n",
    "plot(Qhat(:,3)-3*sqrt(SigmaQ(:,3)),'r--','linewidth',0.5);\n",
    "plot(Qhat(:,4)-3*sqrt(SigmaQ(:,4)),'c--','linewidth',0.5);\n",
    "\n",
    "% Plot over top to make sure estimate is on top of bounds\n",
    "plot(Qhat(:,1),'b','linewidth',3); % WLS\n",
    "plot(Qhat(:,2),'m','linewidth',3); % WTLS\n",
    "plot(Qhat(:,3),'r','linewidth',3); % TLS\n",
    "plot(Qhat(:,4),'c','linewidth',3); % AWTLS\n",
    "\n",
    "% Plot true capacity\n",
    "plot(1:length(x),Q,'k--','linewidth',1);  ylim([97 103]);"
   ]
  },
  {
   "cell_type": "code",
   "execution_count": 3,
   "metadata": {},
   "outputs": [
    {
     "name": "stdout",
     "output_type": "stream",
     "text": [
      "rmsErrWLS =  0.48789\n",
      "rmsErrWTLS =  0.57019\n",
      "rmsErrTLS =  0.29519\n",
      "rmsErrAWTLS =  0.29519\n"
     ]
    }
   ],
   "source": [
    "% Compute RMS estimation error for all methods\n",
    "errWLS   = Q - QhatBEV1(:,1); rmsErrWLS = sqrt(mean(errWLS.^2))\n",
    "errWTLS  = Q - QhatBEV1(:,2); rmsErrWTLS = sqrt(mean(errWTLS.^2))\n",
    "errTLS   = Q - QhatBEV1(:,3); rmsErrTLS = sqrt(mean(errTLS.^2))\n",
    "errAWTLS = Q - QhatBEV1(:,4); rmsErrAWTLS = sqrt(mean(errAWTLS.^2))"
   ]
  },
  {
   "cell_type": "code",
   "execution_count": 4,
   "metadata": {},
   "outputs": [
    {
     "name": "stdout",
     "output_type": "stream",
     "text": [
      "percentWLS =  100\n"
     ]
    }
   ],
   "source": [
    "% Compute fraction of time estimates are OUTSIDE bounds\n",
    "errWLS       = Q - QhatBEV1(:,1);   bndWLS = 3*sqrt(SigmaQBEV1(:,1)); \n",
    "percentWLS   = length(find(abs(errWLS)>bndWLS))/length(Q)*100"
   ]
  },
  {
   "cell_type": "code",
   "execution_count": null,
   "metadata": {},
   "outputs": [],
   "source": []
  },
  {
   "cell_type": "code",
   "execution_count": null,
   "metadata": {},
   "outputs": [],
   "source": []
  },
  {
   "cell_type": "code",
   "execution_count": null,
   "metadata": {},
   "outputs": [],
   "source": []
  },
  {
   "cell_type": "code",
   "execution_count": null,
   "metadata": {},
   "outputs": [],
   "source": []
  },
  {
   "cell_type": "code",
   "execution_count": null,
   "metadata": {},
   "outputs": [],
   "source": []
  },
  {
   "cell_type": "code",
   "execution_count": null,
   "metadata": {},
   "outputs": [],
   "source": []
  },
  {
   "cell_type": "code",
   "execution_count": null,
   "metadata": {},
   "outputs": [],
   "source": []
  },
  {
   "cell_type": "code",
   "execution_count": null,
   "metadata": {},
   "outputs": [],
   "source": []
  }
 ],
 "metadata": {
  "kernelspec": {
   "display_name": "Octave",
   "language": "octave",
   "name": "octave"
  },
  "language_info": {
   "file_extension": ".m",
   "help_links": [
    {
     "text": "GNU Octave",
     "url": "https://www.gnu.org/software/octave/support.html"
    },
    {
     "text": "Octave Kernel",
     "url": "https://github.com/Calysto/octave_kernel"
    },
    {
     "text": "MetaKernel Magics",
     "url": "https://github.com/calysto/metakernel/blob/master/metakernel/magics/README.md"
    }
   ],
   "mimetype": "text/x-octave",
   "name": "octave",
   "version": "4.2.2"
  }
 },
 "nbformat": 4,
 "nbformat_minor": 1
}
