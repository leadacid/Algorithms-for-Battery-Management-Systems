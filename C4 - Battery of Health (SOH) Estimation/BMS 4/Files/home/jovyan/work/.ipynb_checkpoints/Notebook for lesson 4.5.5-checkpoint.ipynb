{
 "cells": [
  {
   "cell_type": "markdown",
   "metadata": {},
   "source": [
    "### Jupyter notebook to examine robustness and speed\n",
    "This notebook re-examines the simple voltage-based method for estimating SOC -- this time as a way to improve robustness of dual or joint filtering -- and also shows how to use simple 1-state SPKFs to estimate R0 and Q using information provided by a standard SPKF."
   ]
  },
  {
   "cell_type": "markdown",
   "metadata": {},
   "source": [
    "### Part 1: Determine SOC-estimate bias of simple voltage-based SOC-estimation method\n",
    "This first part looks at the voltage-based SOC-estimation method. You will want to determine the mean SOC estimation error."
   ]
  },
  {
   "cell_type": "code",
   "execution_count": 1,
   "metadata": {},
   "outputs": [
    {
     "data": {
      "image/png": "[encoded data removed]",
      "text/plain": [
       "<IPython.core.display.Image object>"
      ]
     },
     "metadata": {},
     "output_type": "display_data"
    }
   ],
   "source": [
    "% Voltage-based SOC estimate\n",
    "addpath readonly\n",
    "load('readonly/lesson455data.mat');   % load profile of current/voltage/soc versus time\n",
    "load('readonly/lesson455model.mat');  % load ESC cell model\n",
    "T = 25;                               % temperature in degC\n",
    "R0=getParamESC('R0param',T,model);    % get \"truth\" resistance\n",
    "\n",
    "socEstimate = SOCfromOCVtemp(voltage+current*R0,25,model); % compute approximate SOC\n",
    "socError = soc - socEstimate;         % compute SOC-estimation error\n",
    "\n",
    "% SOC estimate plot\n",
    "t = 0:length(socEstimate)-1; t = t/60;\n",
    "plot(t,100*socEstimate, t,100*soc);\n",
    "title('True SOC and voltage-based estimate');\n",
    "xlabel('Time (min)'); ylabel('SOC and estimate (%)');\n",
    "legend('SOC estimate','True SOC'); grid on;"
   ]
  },
  {
   "cell_type": "code",
   "execution_count": 2,
   "metadata": {},
   "outputs": [],
   "source": [
    "% Enter your own code here to compute value needed for quiz"
   ]
  },
  {
   "cell_type": "markdown",
   "metadata": {},
   "source": [
    "### Part 2: SPKF to estimate R0 and Q (added to standard SPKF)\n",
    "The next blocks of code add parameter estimators to a standard SPKF to estimate R0 and Q. This is neither joint estimation nor dual estimation since the parameter estimates are not fed back to the primary estimator. However, this code shows that it is possible to augment a standard SPKF with simple 1-state SPKFs to make good estimates.\n",
    "\n",
    "Note that the method for adapting Q \"works\" in the following sense: If you initialize Qhat at a value greater than the actual capacity, the code adapts Qhat (very) slowly downward; if you initialize Qhat at a value less than the actual capacity, the code adapts Qhat (very) slowly upward. Capacity cannot be adapted quickly because it is so close to unobservable. "
   ]
  },
  {
   "cell_type": "code",
   "execution_count": 3,
   "metadata": {},
   "outputs": [],
   "source": [
    "% This function initializes the SPKF. It is the same as you have seen before, except for new code\n",
    "% at the end of the function to initialize the 1-state SPKFs for R0 and Q\n",
    "function spkfData = initSPKF(v0,T0,SigmaX0,SigmaV,SigmaW,SigmaR0,SigmaWR0,SigmaQ,SigmaWQ,model)\n",
    "\n",
    "  % Initial state description\n",
    "  ir0   = 0;                           spkfData.irInd = 1;\n",
    "  hk0   = 0;                           spkfData.hkInd = 2;\n",
    "  SOC0  = SOCfromOCVtemp(v0,T0,model); spkfData.zkInd = 3;\n",
    "  spkfData.xhat  = [ir0 hk0 SOC0]'; % initial state\n",
    "\n",
    "  % Covariance values\n",
    "  spkfData.SigmaX = SigmaX0;\n",
    "  spkfData.SigmaV = SigmaV;\n",
    "  spkfData.SigmaW = SigmaW;\n",
    "  spkfData.Snoise = real(chol(diag([SigmaW; SigmaV]),'lower'));\n",
    "  spkfData.Qbump = 5;\n",
    "  \n",
    "  % SPKF specific parameters\n",
    "  Nx = length(spkfData.xhat); spkfData.Nx = Nx; % state-vector length\n",
    "  Ny = 1; spkfData.Ny = Ny; % measurement-vector length\n",
    "  Nu = 1; spkfData.Nu = Nu; % input-vector length\n",
    "  Nw = size(SigmaW,1); spkfData.Nw = Nw; % process-noise-vector length\n",
    "  Nv = size(SigmaV,1); spkfData.Nv = Nv; % sensor-noise-vector length\n",
    "  Na = Nx+Nw+Nv; spkfData.Na = Na;     % augmented-state-vector length\n",
    "  \n",
    "  h = sqrt(3); \n",
    "  spkfData.h = h; % SPKF/CDKF tuning factor  \n",
    "  Weight1 = (h*h-Na)/(h*h); % weighting factors when computing mean\n",
    "  Weight2 = 1/(2*h*h);      % and covariance\n",
    "  spkfData.Wm = [Weight1; Weight2*ones(2*Na,1)]; % mean\n",
    "  spkfData.Wc = spkfData.Wm;                     % covar\n",
    "\n",
    "  % previous value of current\n",
    "  spkfData.priorI = 0;\n",
    "  spkfData.signIk = 0;\n",
    "  \n",
    "  % store model data structure too\n",
    "  spkfData.model = model;\n",
    "  \n",
    "  % Now, set data for simple R0 and Q estimators\n",
    "  spkfData.R0hat = getParamESC('R0Param',T0,model); % \"True\" R0 that we want to estimate\n",
    "  spkfData.R0hat = spkfData.R0hat/2; % initialize badly on purpose to see adaptation\n",
    "  spkfData.SigmaR0 = SigmaR0; % initial uncertainty of R0\n",
    "  spkfData.SigmaWR0 = SigmaWR0; % covariance of fictitious \"noise\" driving R0 update\n",
    "  Weight1 = (h*h-1)/(h*h); % weighting factors when computing mean\n",
    "  Weight2 = 1/(2*h*h);     % and covariance\n",
    "  spkfData.R0m = [Weight1; Weight2; Weight2];\n",
    "  spkfData.R0c = spkfData.R0m; % covar  \n",
    "  \n",
    "  spkfData.Qhat = getParamESC('QParam',T0,model); % \"True\" Q that we want to estimate\n",
    "  spkfData.Qhat = spkfData.Qhat*.95; % initialize badly on purpose...\n",
    "  spkfData.SigmaQ = SigmaQ; % initial uncertainty of Q\n",
    "  spkfData.SigmaWQ = SigmaWQ; % covariance of fictitious \"noise\" driving Q update\n",
    "  spkfData.Qm = spkfData.R0m; % weighting factors when computing mean\n",
    "  spkfData.Qc = spkfData.Qm;  % and covariance \n",
    "end"
   ]
  },
  {
   "cell_type": "code",
   "execution_count": 4,
   "metadata": {},
   "outputs": [],
   "source": [
    "% This is the SPKF iteration code you saw in course 3, except that it now also includes 1-state SPKFs to \n",
    "% estimate R0 and Q... see code segments delimited by \"****\" below...\n",
    "function [zk,zkbnd,spkfData] = iterSPKF(vk,ik,Tk,deltat,spkfData)\n",
    "  model = spkfData.model;\n",
    "\n",
    "  % Load the cell model parameters\n",
    "  Q  = getParamESC('QParam',Tk,model);\n",
    "  G  = getParamESC('GParam',Tk,model);\n",
    "  M  = getParamESC('MParam',Tk,model);\n",
    "  M0 = getParamESC('M0Param',Tk,model);\n",
    "  RC = exp(-deltat./abs(getParamESC('RCParam',Tk,model)))';\n",
    "  R  = getParamESC('RParam',Tk,model)';\n",
    "  R0 = getParamESC('R0Param',Tk,model);\n",
    "  eta = getParamESC('etaParam',Tk,model);\n",
    "  if ik<0, ik=ik*eta; end;\n",
    "  \n",
    "  % Get data stored in spkfData structure\n",
    "  I = spkfData.priorI;\n",
    "  SigmaX = spkfData.SigmaX;\n",
    "  xhat = spkfData.xhat;\n",
    "  Nx = spkfData.Nx;\n",
    "  Nw = spkfData.Nw;\n",
    "  Nv = spkfData.Nv;\n",
    "  Na = spkfData.Na;\n",
    "  Snoise = spkfData.Snoise;\n",
    "  Wc = spkfData.Wc;\n",
    "  irInd = spkfData.irInd;\n",
    "  hkInd = spkfData.hkInd;\n",
    "  zkInd = spkfData.zkInd;\n",
    "  if abs(ik)>Q/100, spkfData.signIk = sign(ik); end;\n",
    "  signIk = spkfData.signIk;\n",
    "  priorzk = spkfData.xhat(zkInd);\n",
    "\n",
    "  % Step 1a: State estimate time update\n",
    "  %          - Create xhatminus augmented SigmaX points\n",
    "  %          - Extract xhatminus state SigmaX points\n",
    "  %          - Compute weighted average xhatminus(k)\n",
    "\n",
    "  % Step 1a-1: Create augmented SigmaX and xhat\n",
    "  [sigmaXa,p] = chol(SigmaX,'lower'); \n",
    "  if p>0,\n",
    "    fprintf('Cholesky error.  Recovering...\\n');\n",
    "    theAbsDiag = abs(diag(SigmaX));\n",
    "    sigmaXa = diag(max(SQRT(theAbsDiag),SQRT(spkfData.SigmaW)));\n",
    "  end\n",
    "  sigmaXa=[real(sigmaXa) zeros([Nx Nw+Nv]); zeros([Nw+Nv Nx]) Snoise];\n",
    "  xhata = [xhat; zeros([Nw+Nv 1])];\n",
    "  % NOTE: sigmaXa is lower-triangular\n",
    "\n",
    "  % Step 1a-2: Calculate SigmaX points (strange indexing of xhata to \n",
    "  % avoid \"repmat\" call, which is very inefficient in MATLAB)\n",
    "  Xa = xhata(:,ones([1 2*Na+1])) + ...\n",
    "       spkfData.h*[zeros([Na 1]), sigmaXa, -sigmaXa];\n",
    "\n",
    "  % Step 1a-3: Time update from last iteration until now\n",
    "  %     stateEqn(xold,current,xnoise)\n",
    "  Xx = stateEqn(Xa(1:Nx,:),I,Xa(Nx+1:Nx+Nw,:)); \n",
    "  xhat = Xx*spkfData.Wm;\n",
    "\n",
    "  % Step 1b: Error covariance time update\n",
    "  %          - Compute weighted covariance sigmaminus(k)\n",
    "  %            (strange indexing of xhat to avoid \"repmat\" call)\n",
    "  Xs = Xx - xhat(:,ones([1 2*Na+1]));\n",
    "  SigmaX = Xs*diag(Wc)*Xs';\n",
    "  \n",
    "  % Step 1c: Output estimate\n",
    "  %          - Compute weighted output estimate yhat(k)\n",
    "  I = ik; yk = vk;\n",
    "  Y = outputEqn(Xx,I,Xa(Nx+Nw+1:end,:),Tk,model);\n",
    "  yhat = Y*spkfData.Wm;\n",
    "\n",
    "  % Step 2a: Estimator gain matrix\n",
    "  Ys = Y - yhat(:,ones([1 2*Na+1]));\n",
    "  SigmaXY = Xs*diag(Wc)*Ys';\n",
    "  SigmaY = Ys*diag(Wc)*Ys';\n",
    "  L = SigmaXY/SigmaY; \n",
    "\n",
    "  % Step 2b: State estimate measurement update\n",
    "  r = yk - yhat; % residual.  Use to check for sensor errors...\n",
    "  if r^2 > 100*SigmaY, L(:,1)=0.0; end \n",
    "  xhat = xhat + L*r; \n",
    "  xhat(zkInd)=min(1.05,max(-0.05,xhat(zkInd)));\n",
    "  xhat(hkInd) = min(1,max(-1,xhat(hkInd)));\n",
    "\n",
    "  % Step 2c: Error covariance measurement update\n",
    "  SigmaX = SigmaX - L*SigmaY*L';\n",
    "  [~,S,V] = svd(SigmaX);\n",
    "  HH = V*S*V';\n",
    "  SigmaX = (SigmaX + SigmaX' + HH + HH')/4; % Help maintain robustness\n",
    "  \n",
    "  % Q-bump code\n",
    "  if r^2>4*SigmaY, % bad voltage estimate by 2-SigmaX, bump Q \n",
    "    fprintf('Bumping sigmax\\n');\n",
    "    SigmaX(zkInd,zkInd) = SigmaX(zkInd,zkInd)*spkfData.Qbump;\n",
    "  end\n",
    "  \n",
    "  % **** Now, implement simple 1-state parameter-estimation SPKF to estimate R0 ****  \n",
    "    % Implement SPKF for R0hat\n",
    "    % Step 1a -- R0hat prediction = R0hat estimate... no code needed\n",
    "    % Step 1b -- R0hat covariance update\n",
    "    spkfData.SigmaR0 = spkfData.SigmaR0 + spkfData.SigmaWR0;\n",
    "    % Step 1c -- ouput estimate\n",
    "    W = spkfData.R0hat*[1 1 1] + sqrt(spkfData.h*spkfData.SigmaR0)*[0 1 -1];\n",
    "    % Next line is simplified output equation\n",
    "    D = OCVfromSOCtemp(spkfData.xhat(zkInd),Tk,model)*[1 1 1] -W*ik;\n",
    "    % Next line is enhanced output equation -- uncomment the next line for two quiz questions!\n",
    "    D = D + M*xhat(hkInd) - R*xhat(irInd);\n",
    "    Dhat = D*spkfData.R0m;\n",
    "    % Step 2a -- gain estimate \n",
    "    Ds = D - Dhat;\n",
    "    Ws = W - spkfData.R0hat;\n",
    "    Sd = Ds*diag(spkfData.R0c)*Ds' + spkfData.SigmaV; % linear sensor noise\n",
    "    Swd = Ws*diag(spkfData.R0c)*Ds';\n",
    "    L = Swd/Sd;\n",
    "    % Step 2b -- R0 estimate measurement update\n",
    "    spkfData.R0hat = spkfData.R0hat + L*(vk - Dhat);\n",
    "    % Step 2c -- R0 estimatation error covariance\n",
    "    spkfData.SigmaR0 = spkfData.SigmaR0 - L*Sd*L';\n",
    "  % **** end of simple 1-state SPKF to estimate R0 ****    \n",
    "  \n",
    "  % **** Now, implement simple 1-state parameter-estimation SPKF to estimate Q ****  \n",
    "    % Implement SPKF for Qhat\n",
    "    % Step 1a -- Qhat prediction = Qhat estimate... no code needed\n",
    "    % Step 1b -- Qhat covariance update\n",
    "    spkfData.SigmaQ = spkfData.SigmaQ + spkfData.SigmaWQ;\n",
    "    % Step 1c -- ouput estimate\n",
    "    W = spkfData.Qhat*[1 1 1] + sqrt(spkfData.h*spkfData.SigmaQ)*[0 1 -1];\n",
    "    % Next line is constructed output equation\n",
    "    D = xhat(zkInd) - priorzk + spkfData.priorI*deltat./(3600*W);\n",
    "    Dhat = D*spkfData.Qm;\n",
    "    % Step 2a -- gain estimate \n",
    "    Ds = D - Dhat;\n",
    "    Ws = W - spkfData.Qhat;\n",
    "    Sd = Ds*diag(spkfData.Qc)*Ds' + spkfData.SigmaV; % linear sensor noise\n",
    "    Swd = Ws*diag(spkfData.Qc)*Ds';\n",
    "    L = Swd/Sd;\n",
    "    % Step 2b -- Q estimate measurement update\n",
    "    spkfData.Qhat = spkfData.Qhat + L*(0 - Dhat);\n",
    "    % Step 2c -- Q estimatation error covariance\n",
    "    spkfData.SigmaQ = spkfData.SigmaQ - L*Sd*L';\n",
    "  % **** end of simple 1-state SPKF to estimate Q ****    \n",
    "\n",
    "  % Save data in spkfData structure for next time...\n",
    "  spkfData.priorI = ik;\n",
    "  spkfData.SigmaX = SigmaX;\n",
    "  spkfData.xhat = xhat;\n",
    "  zk = xhat(zkInd);\n",
    "  zkbnd = 3*sqrt(SigmaX(zkInd,zkInd));\n",
    "  \n",
    "  % Calculate new states for all of the old state vectors in xold.  \n",
    "  function xnew = stateEqn(xold,current,xnoise)\n",
    "    current = current + xnoise; % noise adds to current\n",
    "    xnew = 0*xold;\n",
    "    xnew(irInd,:) = RC*xold(irInd,:) + (1-diag(RC))*current;\n",
    "    Ah = exp(-abs(current*G*deltat/(3600*Q)));  % hysteresis factor\n",
    "    xnew(hkInd,:) = Ah.*xold(hkInd,:) + (Ah-1).*sign(current);\n",
    "    xnew(zkInd,:) = xold(zkInd,:) - current/3600/Q;\n",
    "    xnew(hkInd,:) = min(1,max(-1,xnew(hkInd,:)));\n",
    "    xnew(zkInd,:) = min(1.05,max(-0.05,xnew(zkInd,:)));\n",
    "  end\n",
    "\n",
    "  % Calculate cell output voltage for all of state vectors in xhat\n",
    "  function yhat = outputEqn(xhat,current,ynoise,T,model)\n",
    "    yhat = OCVfromSOCtemp(xhat(zkInd,:),T,model);\n",
    "    yhat = yhat + M*xhat(hkInd,:) + M0*signIk;\n",
    "    yhat = yhat - R*xhat(irInd,:) - R0*current + ynoise(1,:);\n",
    "  end\n",
    "\n",
    "  % \"Safe\" square root\n",
    "  function X = SQRT(x)\n",
    "    X = sqrt(max(0,x));\n",
    "  end\n",
    "end"
   ]
  },
  {
   "cell_type": "code",
   "execution_count": 5,
   "metadata": {
    "scrolled": true
   },
   "outputs": [
    {
     "name": "stdout",
     "output_type": "stream",
     "text": [
      "Iteration 1000 out of 28510 complete\n",
      "Iteration 2000 out of 28510 complete\n",
      "Iteration 3000 out of 28510 complete\n",
      "Iteration 4000 out of 28510 complete\n",
      "Iteration 5000 out of 28510 complete\n",
      "Iteration 6000 out of 28510 complete\n",
      "Iteration 7000 out of 28510 complete\n",
      "Iteration 8000 out of 28510 complete\n",
      "Iteration 9000 out of 28510 complete\n",
      "Iteration 10000 out of 28510 complete\n",
      "Iteration 11000 out of 28510 complete\n",
      "Iteration 12000 out of 28510 complete\n",
      "Iteration 13000 out of 28510 complete\n",
      "Iteration 14000 out of 28510 complete\n",
      "Iteration 15000 out of 28510 complete\n",
      "Iteration 16000 out of 28510 complete\n",
      "Iteration 17000 out of 28510 complete\n",
      "Iteration 18000 out of 28510 complete\n",
      "Iteration 19000 out of 28510 complete\n",
      "Iteration 20000 out of 28510 complete\n",
      "Iteration 21000 out of 28510 complete\n",
      "Iteration 22000 out of 28510 complete\n",
      "Iteration 23000 out of 28510 complete\n",
      "Iteration 24000 out of 28510 complete\n",
      "Iteration 25000 out of 28510 complete\n",
      "Iteration 26000 out of 28510 complete\n",
      "Iteration 27000 out of 28510 complete\n",
      "Iteration 28000 out of 28510 complete\n"
     ]
    }
   ],
   "source": [
    "% This code is the \"wrapper code\" to execute the SPKF\n",
    "addpath readonly\n",
    "load('readonly/lesson455data.mat');   % load profile of current/voltage/soc versus time\n",
    "load('readonly/lesson455model.mat');  % load ESC cell model\n",
    "T = 25;                               % temperature in degC\n",
    "\n",
    "% Provide the covariance (uncertainty) tuning matrix for the initial\n",
    "% state estimate. The ordering of the states in xhat are:\n",
    "% resistor-current states, then hysteresis state, then SOC.\n",
    "SigmaX0 = diag([1e-4 1e-4 0.01]); \n",
    "% Provide the covariance (uncertainty) tuning matrices SigmaW and\n",
    "% SigmaV for the initial process noise and sensor noise, respectively.\n",
    "SigmaW = 1e-2;\n",
    "SigmaV = 1e-2;\n",
    "\n",
    "SigmaR0 = 1e-6;   % initial uncertainty of R0\n",
    "SigmaWR0 = 1e-16; % noise driving R0 update\n",
    "SigmaQ = 1e-1;    % initial uncertainty of Q\n",
    "SigmaWQ = 1e-14;  % noise driving Q update\n",
    "\n",
    "spkfData = initSPKF(voltage(1),T,SigmaX0,SigmaV,SigmaW,SigmaR0,SigmaWR0,SigmaQ,SigmaWQ,model);\n",
    "\n",
    "zk = zeros(size(voltage)); R0hat = zk; R0bnd = zk; Qhat = zk; Qbnd = zk;\n",
    "zkbnd = zk; \n",
    "deltat = time(2)-time(1);\n",
    "for k = 1:length(voltage),\n",
    "  vk = voltage(k); % \"measure\" voltage\n",
    "  ik = current(k); % \"measure\" current\n",
    "  Tk = T;          % \"measure\" temperature\n",
    "\n",
    "  % Update SOC (and other model states)\n",
    "  [zk(k),zkbnd(k),spkfData] = iterSPKF(vk,ik,Tk,deltat,spkfData);\n",
    "  \n",
    "  R0hat(k) = spkfData.R0hat; % also update resistance estimate\n",
    "  R0bnd(k) = 3*sqrt(spkfData.SigmaR0); \n",
    "  Qhat(k)  = spkfData.Qhat;  % and total-capacity estimate\n",
    "  Qbnd(k)  = 3*sqrt(spkfData.SigmaQ);\n",
    "  if mod(k,1000)==0,\n",
    "    fprintf('Iteration %d out of %d complete\\n',k,length(voltage));\n",
    "  end\n",
    "end"
   ]
  },
  {
   "cell_type": "code",
   "execution_count": 6,
   "metadata": {},
   "outputs": [
    {
     "name": "stdout",
     "output_type": "stream",
     "text": [
      "ans =  0.0056999\n",
      "ans =  0.063419\n"
     ]
    }
   ],
   "source": [
    "% Enter your own code here to compute values needed for quiz\n",
    "R0true = getParamESC('R0Param',T,model);\n",
    "mean(R0true - R0hat)*1000\n",
    "sqrt(mean((R0true - R0hat).^2))*1000"
   ]
  },
  {
   "cell_type": "code",
   "execution_count": 7,
   "metadata": {
    "scrolled": false
   },
   "outputs": [
    {
     "data": {
      "image/png": "[encoded data removed]",
      "text/plain": [
       "<IPython.core.display.Image object>"
      ]
     },
     "metadata": {},
     "output_type": "display_data"
    }
   ],
   "source": [
    "% Plot the R0 estimate results\n",
    "k = 1:length(voltage); k = k-1; \n",
    "R0true = getParamESC('R0Param',T,model);\n",
    "plot(k,0*k+R0true*1000,'r'); hold on\n",
    "plot(k,R0hat*1000,'b',k,(R0hat+R0bnd)*1000,'b:',k,(R0hat-R0bnd)*1000,'b:');\n",
    "legend('True R0 from ESC model','R0 estimate','Estimate bounds','location','southeast');\n",
    "xlabel('Iteration number'); ylabel('Estimate (mOhm)');\n",
    "title('Results for estimating R0')\n",
    "ylim([1.5 3.5]); "
   ]
  },
  {
   "cell_type": "code",
   "execution_count": 8,
   "metadata": {},
   "outputs": [
    {
     "data": {
      "image/png": "[encoded data removed]",
      "text/plain": [
       "<IPython.core.display.Image object>"
      ]
     },
     "metadata": {},
     "output_type": "display_data"
    }
   ],
   "source": [
    "% Plot the Q estimate results\n",
    "k = 1:length(voltage); k = k-1; \n",
    "Qtrue = getParamESC('QParam',T,model);\n",
    "plot(k,0*k+Qtrue,'r'); hold on\n",
    "plot(k,Qhat,'b',k,(Qhat+Qbnd),'b:',k,(Qhat-Qbnd),'b:');\n",
    "legend('True Q from ESC model','Q estimate','Estimate bounds','location','southeast');\n",
    "xlabel('Iteration number'); ylabel('Estimate (Ah)');\n",
    "title('Results for estimating Q')\n",
    "ylim([7 9]); "
   ]
  }
 ],
 "metadata": {
  "kernelspec": {
   "display_name": "Octave",
   "language": "octave",
   "name": "octave"
  },
  "language_info": {
   "file_extension": ".m",
   "help_links": [
    {
     "text": "GNU Octave",
     "url": "https://www.gnu.org/software/octave/support.html"
    },
    {
     "text": "Octave Kernel",
     "url": "https://github.com/Calysto/octave_kernel"
    },
    {
     "text": "MetaKernel Magics",
     "url": "https://github.com/calysto/metakernel/blob/master/metakernel/magics/README.md"
    }
   ],
   "mimetype": "text/x-octave",
   "name": "octave",
   "version": "4.2.2"
  }
 },
 "nbformat": 4,
 "nbformat_minor": 1
}
