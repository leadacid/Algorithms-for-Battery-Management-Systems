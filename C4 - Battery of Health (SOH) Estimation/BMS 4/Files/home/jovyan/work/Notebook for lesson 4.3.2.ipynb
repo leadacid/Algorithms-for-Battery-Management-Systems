{
 "cells": [
  {
   "cell_type": "markdown",
   "metadata": {},
   "source": [
    "### Total capacity estimation using recursive FMTLS\n",
    "This notebook implements the recursive FMTLS method using the same data set you are already familiar with from last week. Remember that the true capacity of this cell is 10.0 Ah."
   ]
  },
  {
   "cell_type": "code",
   "execution_count": 1,
   "metadata": {},
   "outputs": [
    {
     "data": {
      "image/png": "[encoded data removed]",
      "text/plain": [
       "<IPython.core.display.Image object>"
      ]
     },
     "metadata": {},
     "output_type": "display_data"
    }
   ],
   "source": [
    "%% Set up data for problem\n",
    "load readonly/Lesson425data.mat\n",
    "\n",
    "%% FMTLS\n",
    "SY = Sigmay(1);  % Assume always this value (which is true in this dataset)\n",
    "SX = Sigmax(1);  % Assume always this value (which is true in this dataset)\n",
    "K = sqrt(SX/SY); % Constant of proportionality\n",
    "\n",
    "Qnom = 10;                        % Initialize nominal capacity\n",
    "gamma = 1;                     % Fading-memory rate constant. Default = 1.00\n",
    "SYinit = 1e-3;                    % Uncertainty of Q with respect to Qnom\n",
    "c1 = 1/SYinit;                    % Correct initialization of c1 recursive value\n",
    "c2 = Qnom/SYinit;                 % Correct initialization of c2 recursive value\n",
    "c3 = Qnom^2/SYinit;               % Correct initialization of c3 recursive value\n",
    "\n",
    "Qhat = 0*x;                       % Initialize storage for output estimate\n",
    "SigmaQ = 0*x;                     % Initialize storage for estimation-error variance\n",
    "for k = 1:length(x),\n",
    "  c1 = gamma*c1 + x(k)^2/SY;      % Update c1 recursive parameter\n",
    "  c2 = gamma*c2 + x(k)*y(k)/SY;   % Update c2 recursive parameter\n",
    "  c3 = gamma*c3 + y(k)^2/SY;      % Upcate c3 recursive parameter\n",
    "  \n",
    "  Qhat(k) = (-c1+K^2*c3+sqrt((c1-K^2*c3)^2+4*K^2*c2^2))/(2*K^2*c2);\n",
    "  H = ((-4*K^4*c2)*Q^3+(6*K^4*c3-6*c1*K^2)*Q^2+12*c2*K^2*Q+2*(c1-K^2*c3))/(Q^2*K^2+1)^3;\n",
    "  \n",
    "  SigmaQ(k) = 2/H;\n",
    "end\n",
    "\n",
    "xvals = 1:length(Qhat);\n",
    "plot(xvals,10*ones(size(Qhat)),xvals,Qhat,[xvals,NaN,xvals],[Qhat+3*sqrt(SigmaQ),NaN,Qhat-3*sqrt(SigmaQ)]);\n",
    "xlabel('Update iteration number'); ylabel('Total capacity estimate (Ah)');\n",
    "title('Output of FMTLS method');   xlim([0 1000])\n",
    "legend('True total capacity','FMTLS estimate','Bounds on estimate','location','northeast');"
   ]
  },
  {
   "cell_type": "code",
   "execution_count": null,
   "metadata": {},
   "outputs": [
    {
     "name": "stdout",
     "output_type": "stream",
     "text": [
      "Qhat =\n",
      "\n",
      " Columns 1 through 8:\n",
      "\n",
      "   10.0012   10.0018   10.0008    9.9985    9.9986    9.9994    9.9986    9.9993\n",
      "\n",
      " Columns 9 through 16:\n",
      "\n",
      "    9.9995    9.9989    9.9969    9.9959    9.9976    9.9945    9.9942    9.9925\n",
      "\n",
      " Columns 17 through 24:\n",
      "\n",
      "    9.9936    9.9945    9.9984    9.9989    9.9926    9.9917    9.9849    9.9838\n",
      "\n",
      " Columns 25 through 32:\n",
      "\n",
      "    9.9839    9.9857    9.9837    9.9844    9.9886    9.9873    9.9801    9.9796\n",
      "\n",
      " Columns 33 through 40:\n",
      "\n",
      "    9.9802    9.9776    9.9865    9.9879    9.9955   10.0054   10.0027   10.0029\n",
      "\n",
      " Columns 41 through 48:\n",
      "\n",
      "   10.0027   10.0037   10.0017   10.0004    9.9963    9.9950    9.9959    9.9923\n",
      "\n",
      " Columns 49 through 56:\n",
      "\n",
      "    9.9892    9.9890    9.9870    9.9815    9.9791    9.9827    9.9820    9.9806\n",
      "\n",
      " Columns 57 through 64:\n",
      "\n",
      "    9.9702    9.9678    9.9594    9.9684    9.9709    9.9726    9.9683    9.9692\n",
      "\n",
      " Columns 65 through 72:\n",
      "\n",
      "    9.9720    9.9646    9.9570    9.9617    9.9577    9.9574    9.9547    9.9619\n",
      "\n",
      " Columns 73 through 80:\n",
      "\n",
      "    9.9655    9.9698    9.9768    9.9706    9.9684    9.9608    9.9603    9.9471\n",
      "\n",
      " Columns 81 through 88:\n",
      "\n",
      "    9.9505    9.9470    9.9343    9.9484    9.9335    9.9287    9.9392    9.9292\n",
      "\n",
      " Columns 89 through 96:\n",
      "\n",
      "    9.9264    9.9289    9.9275    9.9191    9.9270    9.9232    9.9321    9.9141\n",
      "\n",
      " Columns 97 through 104:\n",
      "\n",
      "    9.9093    9.9095    9.9099    9.9123    9.9067    9.8994    9.8920    9.8773\n",
      "\n",
      " Columns 105 through 112:\n",
      "\n",
      "    9.8884    9.8913    9.8908    9.9024    9.8968    9.9007    9.9090    9.8953\n",
      "\n",
      " Columns 113 through 120:\n",
      "\n",
      "    9.9027    9.9244    9.9207    9.9157    9.9215    9.9316    9.9176    9.9365\n",
      "\n",
      " Columns 121 through 128:\n",
      "\n",
      "    9.9506    9.9752    9.9741    9.9803    9.9791    9.9821    9.9821    9.9913\n",
      "\n",
      " Columns 129 through 136:\n",
      "\n",
      "    9.9792    9.9819    9.9753    9.9890    9.9814    9.9880    9.9672    9.9790\n",
      "\n",
      " Columns 137 through 144:\n",
      "\n",
      "    9.9965   10.0083   10.0165   10.0137   10.0108   10.0026   10.0155   10.0211\n",
      "\n",
      " Columns 145 through 152:\n",
      "\n"
     ]
    }
   ],
   "source": [
    "Qhat"
   ]
  },
  {
   "cell_type": "code",
   "execution_count": null,
   "metadata": {},
   "outputs": [],
   "source": [
    "3*sqrt(SigmaQ)"
   ]
  },
  {
   "cell_type": "code",
   "execution_count": null,
   "metadata": {},
   "outputs": [],
   "source": []
  },
  {
   "cell_type": "code",
   "execution_count": null,
   "metadata": {},
   "outputs": [],
   "source": []
  }
 ],
 "metadata": {
  "kernelspec": {
   "display_name": "Octave",
   "language": "octave",
   "name": "octave"
  },
  "language_info": {
   "file_extension": ".m",
   "help_links": [
    {
     "text": "GNU Octave",
     "url": "https://www.gnu.org/software/octave/support.html"
    },
    {
     "text": "Octave Kernel",
     "url": "https://github.com/Calysto/octave_kernel"
    },
    {
     "text": "MetaKernel Magics",
     "url": "https://github.com/calysto/metakernel/blob/master/metakernel/magics/README.md"
    }
   ],
   "mimetype": "text/x-octave",
   "name": "octave",
   "version": "4.2.2"
  }
 },
 "nbformat": 4,
 "nbformat_minor": 1
}
