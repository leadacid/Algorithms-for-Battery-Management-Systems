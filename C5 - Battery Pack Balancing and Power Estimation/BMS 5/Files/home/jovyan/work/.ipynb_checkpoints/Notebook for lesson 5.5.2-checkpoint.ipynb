{
 "cells": [
  {
   "cell_type": "markdown",
   "metadata": {
    "collapsed": true
   },
   "source": [
    "### Linear diffusion\n",
    "The code in this Jupyter notebook performs the same computations as the code in the lesson, implementing linear diffusion. The plotting portion of the code is slightly different, to work within this notebook (instead of the original MATLAB environment)."
   ]
  },
  {
   "cell_type": "code",
   "execution_count": 2,
   "metadata": {},
   "outputs": [
    {
     "data": {
      "image/png": "[encoded data removed]",
      "text/plain": [
       "<IPython.core.display.Image object>"
      ]
     },
     "metadata": {},
     "output_type": "display_data"
    }
   ],
   "source": [
    "c = 1:32; % initial concentration gradient (mol/(m^2*s))\n",
    "D = 2;    % diffusivity (m^2/s)\n",
    "dt = 0.1; % time step (s)\n",
    "dx = 1;   % x step (m)\n",
    "        \n",
    "for k = 0:1000,\n",
    "  % finite-difference diffusion using explicit method, central differences\n",
    "  c = c + D*dt/(dx^2)*([c(2:end) c(end)] - 2*c + [c(1) c(1:end-1)]);\n",
    "\n",
    "  % The MATLAB *plotting* code presented in the lesson does not work inside the Jupyter-notebook\n",
    "  % Octave environment. Instead of using the \"image\" command, we need to \"fill\" individual boxes. \n",
    "  vertices = [0 0; 1 0; 1 1; 0 1];\n",
    "  if mod(k,100) == 0, % plot a snapshot\n",
    "    subplot(11,1,k/100+1); \n",
    "    for m = 1:length(c),\n",
    "      fill(vertices(:,1)+m, vertices(:,2)-k/100,c(m)); hold on\n",
    "    end\n",
    "    caxis([1 32])  \n",
    "    h = ylabel(sprintf('t = %gs      ',k*dt)); \n",
    "    set(gca,'ytick',[],'xticklabel',[],'ticklength',[0 0]); grid on\n",
    "    set(gca,'xtick',1.5:1:100,'gridlinestyle','-','linewidth',4);\n",
    "    set(h,'rotation',0,'horizontalalignment','right','verticalalignment','middle')\n",
    "  end\n",
    "end\n",
    "xlabel('x location'); text(16,-14.25,'Diffusion example','horizontalalignment','center');"
   ]
  },
  {
   "cell_type": "code",
   "execution_count": 7,
   "metadata": {},
   "outputs": [
    {
     "name": "stdout",
     "output_type": "stream",
     "text": [
      "ans =  3.7592\n"
     ]
    }
   ],
   "source": [
    "max(c) - min(c)"
   ]
  },
  {
   "cell_type": "code",
   "execution_count": null,
   "metadata": {},
   "outputs": [],
   "source": []
  },
  {
   "cell_type": "markdown",
   "metadata": {},
   "source": []
  },
  {
   "cell_type": "code",
   "execution_count": null,
   "metadata": {},
   "outputs": [],
   "source": []
  }
 ],
 "metadata": {
  "kernelspec": {
   "display_name": "Octave",
   "language": "octave",
   "name": "octave"
  },
  "language_info": {
   "file_extension": ".m",
   "help_links": [
    {
     "text": "GNU Octave",
     "url": "https://www.gnu.org/software/octave/support.html"
    },
    {
     "text": "Octave Kernel",
     "url": "https://github.com/Calysto/octave_kernel"
    },
    {
     "text": "MetaKernel Magics",
     "url": "https://github.com/calysto/metakernel/blob/master/metakernel/magics/README.md"
    }
   ],
   "mimetype": "text/x-octave",
   "name": "octave",
   "version": "4.2.2"
  }
 },
 "nbformat": 4,
 "nbformat_minor": 1
}
