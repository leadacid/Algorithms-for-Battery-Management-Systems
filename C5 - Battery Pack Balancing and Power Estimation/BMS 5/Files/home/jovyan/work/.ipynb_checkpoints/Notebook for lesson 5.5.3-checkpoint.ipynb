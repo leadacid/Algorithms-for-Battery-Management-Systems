{
 "cells": [
  {
   "cell_type": "markdown",
   "metadata": {
    "collapsed": true
   },
   "source": [
    "### Simulate radial diffusion using finite-volume method in single particle\n",
    "This notebook simulates radial symmetric diffusion in a single negative-electrode particle. It is part of how a single-particle battery model might be constructed (you would also need to simulate the positive electrode, and combine results)."
   ]
  },
  {
   "cell_type": "code",
   "execution_count": 4,
   "metadata": {},
   "outputs": [],
   "source": [
    "R = 10e-6;             % particle radius [m]\n",
    "Cmax = 12000;          % [mol/m^3]\n",
    "c0 = 9500;             % initial concentration [mol/m^3]\n",
    "j0 = 5000*R/3/1800;    % lithium flux [mol/m^2/sec]\n",
    "D = 1e-14;             % solid diffusivity, [m^2/s]\n",
    " \n",
    "jk = [j0*ones(1,1800), zeros(1,3600)]; % discharge and rest\n",
    "jk = [jk -jk];         % discharge and rest, then charge and rest\n",
    " \n",
    "% Simulation control\n",
    "Nr = 20;               % number of \"shells\" radially\n",
    "dR = R/Nr;             % width of each \"shell\"\n",
    "Sa = 4*pi*(R*(1:Nr)/Nr).^2; % outer surface area of each shell\n",
    "dV = (4/3)*pi*((R*(1:Nr)/Nr).^3-(R*(0:Nr-1)/Nr).^3); % vol. of ea. shell\n",
    "dt = 1;                % time steps of 1 second"
   ]
  },
  {
   "cell_type": "code",
   "execution_count": 5,
   "metadata": {},
   "outputs": [
    {
     "data": {
      "image/png": "[encoded data removed]",
      "text/plain": [
       "<IPython.core.display.Image object>"
      ]
     },
     "metadata": {},
     "output_type": "display_data"
    }
   ],
   "source": [
    "c = c0*ones(1,Nr);     % initialize concentration profile versus \"r\" dimension\n",
    "cse = zeros(size(jk)); % concentration at surface\n",
    "cse(1) = c0;\n",
    "\n",
    "for timestep = 1:length(jk),\n",
    "  N = -D*diff(c)/dR;   % flux at surfaces between \"bins\"\n",
    "  M = N.*Sa(1:end-1);  % total moles crossing surfaces\n",
    "  c = c + ([0 M] - [M 0])*dt./dV; % conc. change via diffusion\n",
    "  c(end) = c(end) - jk(timestep)*Sa(end)*dt/dV(end); % at boundary\n",
    "  cse(timestep+1) = c(end);\n",
    "end\n",
    "\n",
    "plot((0:length(jk))/3600,cse/1000); \n",
    "title('Surface concentration of particle')\n",
    "xlabel('Time (h)'); ylabel('Concentration (mol m^{-3})')"
   ]
  }
 ],
 "metadata": {
  "kernelspec": {
   "display_name": "Octave",
   "language": "octave",
   "name": "octave"
  },
  "language_info": {
   "file_extension": ".m",
   "help_links": [
    {
     "text": "GNU Octave",
     "url": "https://www.gnu.org/software/octave/support.html"
    },
    {
     "text": "Octave Kernel",
     "url": "https://github.com/Calysto/octave_kernel"
    },
    {
     "text": "MetaKernel Magics",
     "url": "https://github.com/calysto/metakernel/blob/master/metakernel/magics/README.md"
    }
   ],
   "mimetype": "text/x-octave",
   "name": "octave",
   "version": "4.2.2"
  }
 },
 "nbformat": 4,
 "nbformat_minor": 1
}
