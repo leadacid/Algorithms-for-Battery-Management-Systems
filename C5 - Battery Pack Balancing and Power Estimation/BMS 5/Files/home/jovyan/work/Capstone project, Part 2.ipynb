{
 "cells": [
  {
   "cell_type": "markdown",
   "metadata": {
    "collapsed": true
   },
   "source": [
    "## Capstone project, Part 2: Improved HPPC power limits\n",
    "Welcome to the second part of the capstone project! To complete this assignment, follow the instructions below. When you have completed your modifications to the sample code that I have provided as a starting point, click on the <b>\"Submit Assignment\"</b> button to submit your code to the grader."
   ]
  },
  {
   "cell_type": "markdown",
   "metadata": {},
   "source": [
    "### Concept\n",
    "This Jupyter notebook operates in the same way as all of the other Jupyter notebooks that you have used so far in this specialization. You can type Octave code into notebook cells and execute that code to see how it functions. This allows you to test your code fully before submitting it for grading.\n",
    "\n",
    "Only one notebook cell is actually graded – the one marked with <code>\"% GRADED FUNCTION\"</code> in its first line. Do not modify that line – otherwise the grader will not be able to find the correct function for grading."
   ]
  },
  {
   "cell_type": "markdown",
   "metadata": {},
   "source": [
    "### Deliverables\n",
    "The goal of Part 2 of the capstone project is to modify some default code that produces HPPC power limits (see Lessons 5.3.2 through 5.3.4) to enhance its capability, testing functionality for a wide range of input options.\n",
    "\n",
    "Your deliverable will be a modified power-calculation <code>HPPCpower</code> function, below."
   ]
  },
  {
   "cell_type": "code",
   "execution_count": 1,
   "metadata": {},
   "outputs": [],
   "source": [
    "% First, make sure that the ESC toolbox functions are in the path\n",
    "addpath readonly\n",
    "load ./readonly/CellModel.mat % load ESC model"
   ]
  },
  {
   "cell_type": "markdown",
   "metadata": {},
   "source": [
    "The following code provides a starting point for writing the function to compute power. You will modify this function to implement the correct power-limit computation equations. Every time you make a change to these tuning variables, make sure that you type < shift >< enter > in this code, and then also press < shift >< enter > in the \"wrapper code\", below, that executes this function."
   ]
  },
  {
   "cell_type": "code",
   "execution_count": 2,
   "metadata": {},
   "outputs": [],
   "source": [
    "% GRADED FUNCTION (do not modify this line)\n",
    "\n",
    "% function [pChg,pDis] = HPPCpower(z0,T,dT,eta,ns,np,model,limits)\n",
    "%\n",
    "% z0  -  the SOC to use when computing discharge and charge resistances RDis and RChg, \n",
    "%       and when computing available power based on SOC limits; the same value is \n",
    "%       used for every cell in the battery pack\n",
    "% T   - the temperature to use when computing discharge and charge resistances RDis and RChg, \n",
    "%       and when computing available power; the same value is used for every cell in the battery pack\n",
    "% dT  - the pulse duration to use when computing discharge and charge resistances RDis and RChg;\n",
    "%       note that the pulse magnitude should use a 10C rate (just like example code from lesson 5.3.3)\n",
    "% eta - the coulombic efficiency to use when computing available power based on SOC limits\n",
    "% ns  - the number of cells in series in the battery pack\n",
    "% np  - the number of cells in parallel in the battery pack\n",
    "% model - an ESC model type\n",
    "% limits - design limits on SOC, voltage, current, and power (see code for how these are stored)\n",
    "%\n",
    "% pChg - your computed value for charge power (W)\n",
    "% pDis - your computed value for discharge power (W)\n",
    "function [pChg,pDis] = HPPCpower(z0,T,dT,eta,ns,np,model,limits)\n",
    "\n",
    "  % First, unpack the design limits from the \"limits\" structure.\n",
    "  % These limits have the same meaning as in the example code for Lesson 5.3.4\n",
    "  zMin = limits.zMin; zMax = limits.zMax; % Retrieve SOC limits [unitless]\n",
    "  vMin = limits.vMin; vMax = limits.vMax; % Retrieve voltage limits [V]\n",
    "  iMin = limits.iMin; iMax = limits.iMax; % Retrieve current limits [A]\n",
    "  pMin = limits.pMin; pMax = limits.pMax; % Retrieve design power limits [W]\n",
    "  \n",
    "  % BEGIN MODIFYING CODE AFTER THIS\n",
    "\n",
    "  % NOTE: Resistance calculated using a 10C dis/charge pulse for dT samples\n",
    "  % You will need to modify this code to work correctly with the specific input\n",
    "  % parameter list to this function: z0, T, dT ...\n",
    "  % Note that rChg and rDis are calculated correctly for the default input parameters\n",
    "  % but are not calculated correctly for non-default inputs. You will need to change\n",
    "  % this code to calculate rChg and rDis correctly for arbitrary function inputs\n",
    "  #Q = getParamESC('QParam',T,model); \n",
    "  #iChgPulse = 10*Q*[zeros(5,1); -ones(10,1); zeros(5,1)];  % [A] charge pulse\n",
    "  #iDisPulse = 10*Q*[zeros(5,1);  ones(10,1); zeros(5,1)];  % [A] discharge pulse\n",
    "  #[vk,~,~,~,~] = simCell(iChgPulse,25,model,1,0.5,0,0);\n",
    "  #rChg  = abs((max(vk)-vk(1))/min(iChgPulse));\n",
    "  #[vk,~,~,~,~] = simCell(iDisPulse,25,model,1,0.5,0,0);\n",
    "  #rDis  = abs((min(vk)-vk(1))/max(iDisPulse));\n",
    "  Q = getParamESC('QParam',T,model); \n",
    "  iChgPulse = 10*Q*[zeros(dT/2,1); -ones(dT,1); zeros(dT/2,1)];  % [A] charge pulse\n",
    "  iDisPulse = 10*Q*[zeros(dT/2,1);  ones(dT,1); zeros(dT/2,1)];  % [A] discharge pulse\n",
    "  [vk,~,~,~,~] = simCell(iChgPulse,T,model,1,z0,0,0);\n",
    "  rChg  = abs((max(vk)-vk(1))/min(iChgPulse));\n",
    "  [vk,~,~,~,~] = simCell(iDisPulse,T,model,1,z0,0,0);\n",
    "  rDis  = abs((min(vk)-vk(1))/max(iDisPulse));\n",
    "  \n",
    "  #####\n",
    "  soc = z0 ;\n",
    "  OCV      = OCVfromSOCtemp(soc,T,model);\n",
    "  iDisMaxV = (OCV-vMin)/rDis;\n",
    "  iDisMaxZ = (soc - zMin)*3600*Q/dT;\n",
    "  iDisMax  = np * max(0,min([iDisMaxV;iDisMaxZ;iMax*ones(size(soc))]));\n",
    "  pDisMax  = ns * min(vMin*iDisMax,pMax*ones(size(soc)));\n",
    "  iChgMinV = (OCV-vMax)/rChg;\n",
    "  iChgMinZ = (soc - zMax)*3600*Q/eta/dT;\n",
    "  iChgMin  = np * max([iChgMinV;iChgMinZ;iMin*ones(size(soc))]);\n",
    "  pChgMin  = ns * min(0,max(vMax*iChgMin,pMin*ones(size(soc))));\n",
    "  % Now, compute pDis and pChg using rChg and rDis from above, and the equations\n",
    "  % from the notes. Be sure to incorporate z0, T, dT, eta, ns, np, and the limits\n",
    "  % correctly (The example code from Lesson 5.3.4 does not implement all of this\n",
    "  % functionality! You will need to study Lessons 5.3.2 and 5.3.3 to see which\n",
    "  % equations need to be implemented.)\n",
    "  pDis = pDisMax;  % You will need to change this to compute it correctly\n",
    "  pChg = pChgMin; % You will need to change this to compute it correctly\n",
    "end"
   ]
  },
  {
   "cell_type": "markdown",
   "metadata": {},
   "source": [
    "The notebook cell below is \"wrapper code\" that can be used to test the functionality of your power-limits function. For this final project, I will not tell you exactly what answers to expect. The grader will test your code using random (but reasonable) values for the input variables and you will be graded based on which responses you calculate correctly. Some default values for the different variables are listed below, but the grader will test many other values as well."
   ]
  },
  {
   "cell_type": "code",
   "execution_count": 3,
   "metadata": {},
   "outputs": [
    {
     "name": "stdout",
     "output_type": "stream",
     "text": [
      "pChg = -385.18\n",
      "pDis =  885.55\n"
     ]
    }
   ],
   "source": [
    "% This code tests your HPPCpower function using default input values\n",
    "% You should verify that your code operates for reasonable non-default values as well\n",
    "% You will be graded on how closely your function results agree with mine\n",
    "default.z0 = 0.5;\n",
    "default.T = 25;\n",
    "default.dT = 10;\n",
    "default.eta = 1;\n",
    "default.ns = 1;\n",
    "default.np = 1;\n",
    "limits.zMin = 0.1;\n",
    "limits.zMax = 0.9;\n",
    "limits.vMin = 2.8;\n",
    "limits.vMax = 4.3;\n",
    "limits.iMin = -200;\n",
    "limits.iMax = 350;\n",
    "limits.pMin = -1000;\n",
    "limits.pMax = 1000;\n",
    "default.limits = limits;\n",
    "[pChg,pDis] = HPPCpower(default.z0,default.T,default.dT,default.eta,default.ns,default.np,model,default.limits)\n",
    "% Note that the correct answer for the default set of limits is:\n",
    "% pChg = -385.18\n",
    "% pDis = 885.55\n",
    "% It may also be helpful to know that the correct values for rChg and rDis for the default set of parameters is\n",
    "% rChg = 3.6787 mOhm\n",
    "% rDis = 3.7009 mOhm"
   ]
  },
  {
   "cell_type": "markdown",
   "metadata": {},
   "source": [
    "\n",
    "When you are satisfied with your function, click on the \"<b>Submit Assignment</b>\" button, above.\n",
    "\n",
    "The assignment will be graded out of a maximum of 10 points possible. \n",
    "* If your code produces errors when executed, the grade is zero\n",
    "* You receive 1 point for correct answers when pMin and pMax limits are varied\n",
    "* You receive 1 point for correct answers when vMin and vMax limits are varied\n",
    "* You receive 1 point for correct answers when iMin and iMax limits are varied\n",
    "* You receive 1 point for correct answers when zMin and zMax limits are varied\n",
    "* You receive 1 point for correct answers when cell SOC z0 is varied\n",
    "* You receive 1 point for correct answers when cell temperature T is varied\n",
    "* You receive 1 point for correct answers when pulse duration dT is varied\n",
    "* You receive 1 point for correct answers when cell coulombic efficiency eta is varied\n",
    "* You receive 1 point for correct answers when the number of cells in series ns is varied\n",
    "* You receive 1 point for correct answers when the number of cells in parallel np is varied"
   ]
  }
 ],
 "metadata": {
  "coursera": {
   "course_slug": "battery-pack-balancing-power-estimation",
   "graded_item_id": "UMj7H",
   "launcher_item_id": "LNQY4"
  },
  "kernelspec": {
   "display_name": "Octave",
   "language": "octave",
   "name": "octave"
  },
  "language_info": {
   "file_extension": ".m",
   "help_links": [
    {
     "text": "GNU Octave",
     "url": "https://www.gnu.org/software/octave/support.html"
    },
    {
     "text": "Octave Kernel",
     "url": "https://github.com/Calysto/octave_kernel"
    },
    {
     "text": "MetaKernel Magics",
     "url": "https://github.com/calysto/metakernel/blob/master/metakernel/magics/README.md"
    }
   ],
   "mimetype": "text/x-octave",
   "name": "octave",
   "version": "4.2.2"
  }
 },
 "nbformat": 4,
 "nbformat_minor": 1
}
