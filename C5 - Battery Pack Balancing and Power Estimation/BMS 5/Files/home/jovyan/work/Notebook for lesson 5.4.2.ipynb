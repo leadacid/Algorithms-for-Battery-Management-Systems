{
 "cells": [
  {
   "cell_type": "markdown",
   "metadata": {
    "collapsed": true
   },
   "source": [
    "### Bisection search\n",
    "The code in this notebook performs a bisection search for a zero-crossing (a root) of an arbitrary function between two limits."
   ]
  },
  {
   "cell_type": "code",
   "execution_count": 2,
   "metadata": {},
   "outputs": [],
   "source": [
    "% Search interval x1...x2 in fn h(.) for root, with tolerance tol\n",
    "function x = bisect(h,x1,x2,tol) \n",
    "  jmax = ceil(log2(abs(x2-x1)/tol));\n",
    "  dx = x2 - x1; % set the search interval dx = x2 - x1\n",
    "  if( h(x1) >= 0 )\n",
    "    dx = -dx; x1 = x2;    % root now b/w (x1,x1 + dx), and h(x1) < 0\n",
    "  end\n",
    "  for jj = 1:jmax\n",
    "    dx = 0.5 * dx; xmid = x1 + dx;\n",
    "    if h(xmid) <= 0,\n",
    "      x1 = xmid;\n",
    "    elseif abs(dx) <= tol,\n",
    "      break\n",
    "    end\n",
    "  end\n",
    "  x = x1 + 0.5*dx;\n",
    "end  "
   ]
  },
  {
   "cell_type": "code",
   "execution_count": 3,
   "metadata": {},
   "outputs": [
    {
     "name": "stdout",
     "output_type": "stream",
     "text": [
      "ans =   -9.5367e-07\n"
     ]
    }
   ],
   "source": [
    "% As an example of how to use this bisection code, we define an inline function \"h\" and use \"bisect\" \n",
    "% to find a zero crossing between -1 and 2 with tolerance of 1e-5\n",
    "h = @(x) x^3;\n",
    "bisect(h,-1,2,1e-5)"
   ]
  },
  {
   "cell_type": "code",
   "execution_count": null,
   "metadata": {},
   "outputs": [],
   "source": []
  }
 ],
 "metadata": {
  "kernelspec": {
   "display_name": "Octave",
   "language": "octave",
   "name": "octave"
  },
  "language_info": {
   "file_extension": ".m",
   "help_links": [
    {
     "text": "GNU Octave",
     "url": "https://www.gnu.org/software/octave/support.html"
    },
    {
     "text": "Octave Kernel",
     "url": "https://github.com/Calysto/octave_kernel"
    },
    {
     "text": "MetaKernel Magics",
     "url": "https://github.com/calysto/metakernel/blob/master/metakernel/magics/README.md"
    }
   ],
   "mimetype": "text/x-octave",
   "name": "octave",
   "version": "4.2.2"
  }
 },
 "nbformat": 4,
 "nbformat_minor": 1
}
