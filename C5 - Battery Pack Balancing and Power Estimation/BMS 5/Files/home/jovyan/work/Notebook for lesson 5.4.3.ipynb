{
 "cells": [
  {
   "cell_type": "markdown",
   "metadata": {},
   "source": [
    "### Predict cell state and voltage K timesteps into the future\n",
    "The code in this notebook efficiently calculates the future state and voltage of a cell if the input is held constant for K timesteps. "
   ]
  },
  {
   "cell_type": "code",
   "execution_count": 2,
   "metadata": {},
   "outputs": [],
   "source": [
    "addpath ./readonly             % Add helper functions to Octave's path\n",
    "load ./readonly/CellModel.mat  % Load the ESC cell model we will use"
   ]
  },
  {
   "cell_type": "code",
   "execution_count": 3,
   "metadata": {},
   "outputs": [],
   "source": [
    "% Simulate a cell for K timesteps, with input ik and starting state x0\n",
    "% x0 = [z0; ir0; h0]\n",
    "function [vDT,xDT] = simCellKDT(ik,x0,A,B,KDT,T,model,R0,R,M,M0)\n",
    "\n",
    "  % Form the \"A\" and \"B\" matrices needed\n",
    "  Amat = A(ik); Bmat = B(ik); dA = diag(Amat);\n",
    "  \n",
    "  if ik == 0, % AK = matrix to multiply B and input (see lesson)\n",
    "    ADT = diag([KDT, (1-dA(2)^KDT)/(1-dA(2)), KDT]);\n",
    "  else\n",
    "    ADT = diag([KDT, (1-dA(2)^KDT)/(1-dA(2)), (1-dA(3)^KDT)/(1-dA(3))]);\n",
    "  end\n",
    "  xDT = (dA).^KDT.*x0 + ADT*Bmat*[ik; sign(ik)]; % efficiently compute future state\n",
    "  \n",
    "  % Compute voltage based on future state\n",
    "  vDT = OCVfromSOCtemp(xDT(1),T,model) + M*xDT(3) + M0*sign(ik) - R*xDT(2) - ik*R0;\n",
    "end"
   ]
  },
  {
   "cell_type": "code",
   "execution_count": 4,
   "metadata": {},
   "outputs": [
    {
     "name": "stdout",
     "output_type": "stream",
     "text": [
      "vDT =  3.9667\n",
      "xDT =\n",
      "\n",
      "   0.4996405\n",
      "   0.4472080\n",
      "  -0.0026797\n",
      "\n"
     ]
    }
   ],
   "source": [
    "% Set operating temperature\n",
    "T = 25;\n",
    "\n",
    "% Get ESC model parameter values\n",
    "R = getParamESC('RParam',T,model);\n",
    "RC = getParamESC('RCParam',T,model);\n",
    "M = getParamESC('MParam',T,model);\n",
    "M0 = getParamESC('M0Param',T,model);\n",
    "R0 = getParamESC('R0Param',T,model);\n",
    "Gamma = getParamESC('GParam',T,model);\n",
    "Q = getParamESC('QParam',T,model);\n",
    "\n",
    "A = @(ik) diag([1 exp(-1/(RC)) exp(-abs(ik*Gamma/(3600*Q)))]);\n",
    "B = @(ik) [-1/(3600*Q) 0; (1-exp(-1/RC)) 0; ...\n",
    "           0 (exp(-abs(ik*Gamma/(3600*Q)))-1)];\n",
    "           \n",
    "% Initial state set to 50% SOC, at rest (resistor currents=0), no dynamic hysteresis\n",
    "x0 = [0.5; 0; 0];\n",
    "[vDT,xDT] = simCellKDT(1,x0,A,B,10,T,model,R0,R,M,M0) % simulate 1A discharge for 10 seconds at 25 degC."
   ]
  },
  {
   "cell_type": "code",
   "execution_count": null,
   "metadata": {},
   "outputs": [],
   "source": []
  }
 ],
 "metadata": {
  "kernelspec": {
   "display_name": "Octave",
   "language": "octave",
   "name": "octave"
  },
  "language_info": {
   "file_extension": ".m",
   "help_links": [
    {
     "text": "GNU Octave",
     "url": "https://www.gnu.org/software/octave/support.html"
    },
    {
     "text": "Octave Kernel",
     "url": "https://github.com/Calysto/octave_kernel"
    },
    {
     "text": "MetaKernel Magics",
     "url": "https://github.com/calysto/metakernel/blob/master/metakernel/magics/README.md"
    }
   ],
   "mimetype": "text/x-octave",
   "name": "octave",
   "version": "4.2.2"
  }
 },
 "nbformat": 4,
 "nbformat_minor": 1
}
