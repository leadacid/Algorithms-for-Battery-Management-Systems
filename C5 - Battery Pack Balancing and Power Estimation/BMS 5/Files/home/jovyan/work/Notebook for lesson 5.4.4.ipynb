{
 "cells": [
  {
   "cell_type": "markdown",
   "metadata": {
    "collapsed": true
   },
   "source": [
    "### Power-limits computation using the bisection method\n",
    "The code in this notebook computes power limits for all points in time corresponding to a dynamic cell test.\n",
    "It uses the bisection method -- first with ideal knowledge of cell state, and then with SPFK-estimated cell states instead. "
   ]
  },
  {
   "cell_type": "code",
   "execution_count": 2,
   "metadata": {},
   "outputs": [],
   "source": [
    "addpath ./readonly              % add helper functions to path\n",
    "load ./readonly/CellModel.mat   % the ESC cell model\n",
    "load ./readonly/CellData.mat    % the current/voltage profile\n",
    "load ./readonly/spkfDataAll.mat % the SPFK-computed SOC state estimates, plus bounds, for this profile"
   ]
  },
  {
   "cell_type": "code",
   "execution_count": 3,
   "metadata": {},
   "outputs": [],
   "source": [
    "% Search interval x1...x2 in fn h(.) for root, with tolerance tol\n",
    "% The assumption is that h(x1) and h(x2) have different sign, and we\n",
    "% are searching for a root between x1 and x2 where h(xmid) is \n",
    "% approximately zero.\n",
    "% Special case: If h(x1) and h(x2) are both positive or both negative, \n",
    "% then function returns value within tol of x2\n",
    "function x = bisect(h,x1,x2,tol)\n",
    "  jmax = ceil(log2(abs(x2-x1)/tol));\n",
    "\n",
    "  dx = x2 - x1; % set the search interval dx = x2 - x1; root b/w (x1,x1 + dx)\n",
    "  if( h(x1) >= 0 )\n",
    "    dx = -dx;\n",
    "    x1 = x2;    % root still b/w (x1,x1 + dx), and h(x1) < 0 in normal case\n",
    "  end\n",
    "  \n",
    "  for jj = 1:jmax\n",
    "    dx   = 0.5 * dx;\n",
    "    xmid = x1 + dx;\n",
    "\n",
    "    if h(xmid) <= 0,\n",
    "      x1 = xmid;\n",
    "    end\n",
    "  end\n",
    "  x = x1 + 0.5*dx;\n",
    "end"
   ]
  },
  {
   "cell_type": "code",
   "execution_count": 4,
   "metadata": {},
   "outputs": [],
   "source": [
    "% Simulate a cell for K timesteps, with input ik and starting state x0\n",
    "% x0 = [z0; ir0; h0]\n",
    "function [vDT,xDT] = simCellKDT(ik,x0,A,B,KDT,T,model,R0,R,M,M0)\n",
    "\n",
    "  % Form the \"A\" and \"B\" matrices needed\n",
    "  Amat = A(ik); Bmat = B(ik); dA = diag(Amat);\n",
    "  \n",
    "  if ik == 0, % AK = matrix to multiply B and input (see lesson)\n",
    "    ADT = diag([KDT, (1-dA(2)^KDT)/(1-dA(2)), KDT]);\n",
    "  else\n",
    "    ADT = diag([KDT, (1-dA(2)^KDT)/(1-dA(2)), (1-dA(3)^KDT)/(1-dA(3))]);\n",
    "  end\n",
    "  xDT = (dA).^KDT.*x0 + ADT*Bmat*[ik; sign(ik)]; % efficiently compute future state\n",
    "  \n",
    "  % Compute voltage based on future state\n",
    "  vDT = OCVfromSOCtemp(xDT(1),T,model) + M*xDT(3) + M0*sign(ik) - R*xDT(2) - ik*R0;\n",
    "end"
   ]
  },
  {
   "cell_type": "code",
   "execution_count": 5,
   "metadata": {},
   "outputs": [],
   "source": [
    "% The bisection function to use to find discharge current\n",
    "function h = bisectDischarge(ik,x0,A,B,KDT,T,model,R0,R,M,M0,minV,zmin) \n",
    "  [vDT,xDT] = simCellKDT(ik,x0,A,B,KDT,T,model,R0,R,M,M0);\n",
    "  h = max(minV - vDT,zmin - xDT(1)); % max must be less than zero \n",
    "end"
   ]
  },
  {
   "cell_type": "code",
   "execution_count": 6,
   "metadata": {},
   "outputs": [],
   "source": [
    "% The bisection function to use to find charge current\n",
    "function h = bisectCharge(ik,x0,A,B,KDT,T,model,R0,R,M,M0,maxV,zmax)\n",
    "  [vDT,xDT] = simCellKDT(ik,x0,A,B,KDT,T,model,R0,R,M,M0);\n",
    "  h = min(maxV - vDT,zmax - xDT(1)); % min must be greater than zero\n",
    "end"
   ]
  },
  {
   "cell_type": "markdown",
   "metadata": {},
   "source": [
    "The next code cell sets up some constants for the bisection methods"
   ]
  },
  {
   "cell_type": "code",
   "execution_count": 7,
   "metadata": {},
   "outputs": [],
   "source": [
    "% Cell Configuration\n",
    "T       = 25;                                   % [C] ambient temperature\n",
    "Thorz   = 10;                                   % [s] horizon time\n",
    "Q       = getParamESC('QParam',T,model); \n",
    "RC      = getParamESC('RCParam',T,model);\n",
    "R       = getParamESC('RParam',T,model);\n",
    "R0      = getParamESC('R0Param',T,model);       \n",
    "Gamma   = getParamESC('GParam',T,model);    \n",
    "M       = getParamESC('MParam',T,model);       \n",
    "M0      = getParamESC('M0Param',T,model);       \n",
    "\n",
    "% Operational Limits\n",
    "zmin = 0.1;     zmax = 0.9;                     % [u/l] soc limits\n",
    "vmin = 2.8;     vmax = 4.3;                     % [V] voltage limits\n",
    "imin = -200;    imax = 350;                     % [A] current limits\n",
    "pmin = -inf;    pmax = inf;                     % [W] power limits\n",
    "\n",
    "% Define inline functions A and B as functions of input current\n",
    "A = @(ik) [1 0 0; 0 exp(-1/(RC)) 0; 0 0 exp(-abs(ik*Gamma/(3600*Q)))];\n",
    "B = @(ik) [-1/(3600*Q) 0; (1-exp(-1/RC)) 0; 0 (exp(-abs(ik*Gamma/(3600*Q)))-1)];"
   ]
  },
  {
   "cell_type": "markdown",
   "metadata": {},
   "source": [
    "The following code implements the bisection method over the entire profile, assuming exact knowledge of cell-model state at all points in time."
   ]
  },
  {
   "cell_type": "code",
   "execution_count": 8,
   "metadata": {},
   "outputs": [
    {
     "name": "stdout",
     "output_type": "stream",
     "text": [
      "Beginning simCell state simulation.\n",
      "  simCell state simulation complete.\n",
      "Beginning bisection method using true cell state.\n",
      "  completed 1000/28510 iterations.\n",
      "  completed 2000/28510 iterations.\n",
      "  completed 3000/28510 iterations.\n",
      "  completed 4000/28510 iterations.\n",
      "  completed 5000/28510 iterations.\n",
      "  completed 6000/28510 iterations.\n",
      "  completed 7000/28510 iterations.\n",
      "  completed 8000/28510 iterations.\n",
      "  completed 9000/28510 iterations.\n",
      "  completed 10000/28510 iterations.\n",
      "  completed 11000/28510 iterations.\n",
      "  completed 12000/28510 iterations.\n",
      "  completed 13000/28510 iterations.\n",
      "  completed 14000/28510 iterations.\n",
      "  completed 15000/28510 iterations.\n",
      "  completed 16000/28510 iterations.\n",
      "  completed 17000/28510 iterations.\n",
      "  completed 18000/28510 iterations.\n",
      "  completed 19000/28510 iterations.\n",
      "  completed 20000/28510 iterations.\n",
      "  completed 21000/28510 iterations.\n",
      "  completed 22000/28510 iterations.\n",
      "  completed 23000/28510 iterations.\n",
      "  completed 24000/28510 iterations.\n",
      "  completed 25000/28510 iterations.\n",
      "  completed 26000/28510 iterations.\n",
      "  completed 27000/28510 iterations.\n",
      "  completed 28000/28510 iterations.\n",
      "  bisection method using true cell state complete.\n"
     ]
    }
   ],
   "source": [
    "% Bisection Power Estimation: using true cell state\n",
    "\n",
    "% Simulate cell over entire profile\n",
    "fprintf('Beginning simCell state simulation.\\n');\n",
    "[vk,irck,hk,zk,OCV] = simCell(current,T,model,1,1,0,0);\n",
    "fprintf('  simCell state simulation complete.\\n');\n",
    "\n",
    "% Reserve storage for computed results\n",
    "pDisMax = zeros(length(current),1);\n",
    "pChgMin = zeros(length(current),1);\n",
    "fprintf('Beginning bisection method using true cell state.\\n');\n",
    "for ii = 1:length(current)\n",
    "  x0 = [zk(ii); irck(ii); hk(ii)]; % state of cell at this point in time, from prior simulation\n",
    "        \n",
    "  % Discharge Power Estimation\n",
    "  g = @(ik) bisectDischarge(ik,x0,A,B,Thorz,T,model,R0,R,M,M0,vmin,zmin); \n",
    "  iDisMax = 0;\n",
    "  if zk(ii) > zmin,\n",
    "    iDisMax = bisect(g,0,imax,0.5);\n",
    "  end\n",
    "  pDisMax(ii) = vmin*iDisMax;\n",
    "\n",
    "  % Charge Power Estimation\n",
    "  g = @(ik) bisectCharge(ik,x0,A,B,Thorz,T,model,R0,R,M,M0,vmax,zmax);\n",
    "  iChgMin = 0;\n",
    "  if zk(ii) < zmax,\n",
    "    iChgMin = bisect(g,0,imin,0.5);\n",
    "  end\n",
    "  pChgMin(ii) = vmax*iChgMin;\n",
    "  if mod(ii,1000) == 0,\n",
    "    fprintf('  completed %d/%d iterations.\\n',ii,length(current));\n",
    "  end\n",
    "end\n",
    "truthBisect.pDisMax = pDisMax;\n",
    "truthBisect.pChgMin = pChgMin;\n",
    "fprintf('  bisection method using true cell state complete.\\n');"
   ]
  },
  {
   "cell_type": "markdown",
   "metadata": {},
   "source": [
    "The following code implements the bisection method over the entire profile, assuming SPKF-approximated knowledge of cell-model state at all points in time."
   ]
  },
  {
   "cell_type": "code",
   "execution_count": 9,
   "metadata": {},
   "outputs": [
    {
     "name": "stdout",
     "output_type": "stream",
     "text": [
      "Beginning bisection method using SPKF-estimated cell state.\n",
      "  completed 1000/28510 iterations.\n",
      "  completed 2000/28510 iterations.\n",
      "  completed 3000/28510 iterations.\n",
      "  completed 4000/28510 iterations.\n",
      "  completed 5000/28510 iterations.\n",
      "  completed 6000/28510 iterations.\n",
      "  completed 7000/28510 iterations.\n",
      "  completed 8000/28510 iterations.\n",
      "  completed 9000/28510 iterations.\n",
      "  completed 10000/28510 iterations.\n",
      "  completed 11000/28510 iterations.\n",
      "  completed 12000/28510 iterations.\n",
      "  completed 13000/28510 iterations.\n",
      "  completed 14000/28510 iterations.\n",
      "  completed 15000/28510 iterations.\n",
      "  completed 16000/28510 iterations.\n",
      "  completed 17000/28510 iterations.\n",
      "  completed 18000/28510 iterations.\n",
      "  completed 19000/28510 iterations.\n",
      "  completed 20000/28510 iterations.\n",
      "  completed 21000/28510 iterations.\n",
      "  completed 22000/28510 iterations.\n",
      "  completed 23000/28510 iterations.\n",
      "  completed 24000/28510 iterations.\n",
      "  completed 25000/28510 iterations.\n",
      "  completed 26000/28510 iterations.\n",
      "  completed 27000/28510 iterations.\n",
      "  completed 28000/28510 iterations.\n",
      "  bisection method using SPKF-estimated cell state complete.\n"
     ]
    }
   ],
   "source": [
    "% Bisection Power Estimation: SPKF\n",
    "% Note that [irck, irckBounds, hk, hkBounds, zk, zkBounds] pre-computed here by SPKF and loaded\n",
    "% from spkfDataAll.mat to save processing time on Coursera web server\n",
    "\n",
    "pDisMax = zeros(length(current),1);\n",
    "pChgMin = zeros(length(current),1);\n",
    "fprintf('Beginning bisection method using SPKF-estimated cell state.\\n');\n",
    "for ii = 1:length(current)\n",
    "  % Discharge Power Estimation\n",
    "  x0 = [zk(ii)-zkBounds(ii); irck(ii)+irckBounds(ii); (hk(ii)-hkBounds(ii))];\n",
    "  g = @(ik) bisectDischarge(ik,x0,A,B,Thorz,T,model,R0,R,M,M0,vmin,zmin); \n",
    "  iDisMax = 0;\n",
    "  if zk(ii)-zkBounds(ii)>zmin,\n",
    "    iDisMax = bisect(g,0,imax,0.5);\n",
    "  end\n",
    "  pDisMax(ii) = vmin*iDisMax;\n",
    "\n",
    "  % Charge Power Estimation\n",
    "  x0 = [zk(ii)+zkBounds(ii); irck(ii)-irckBounds(ii); (hk(ii)+hkBounds(ii))];\n",
    "  g = @(ik) bisectCharge(ik,x0,A,B,Thorz,T,model,R0,R,M,M0,vmax,zmax);\n",
    "  iChgMin = 0;\n",
    "  if zk(ii)+zkBounds(ii) < zmax,\n",
    "    iChgMin = bisect(g,0,imin,0.5);\n",
    "  end\n",
    "  pChgMin(ii) = vmax*iChgMin;\n",
    "\n",
    "  if mod(ii,1000) == 0,\n",
    "    fprintf('  completed %d/%d iterations.\\n',ii,length(current));\n",
    "  end\n",
    "end\n",
    "spkfBisect.pDisMax = pDisMax;\n",
    "spkfBisect.pChgMin = pChgMin;\n",
    "fprintf('  bisection method using SPKF-estimated cell state complete.\\n');"
   ]
  },
  {
   "cell_type": "code",
   "execution_count": 10,
   "metadata": {},
   "outputs": [
    {
     "data": {
      "image/png": "[encoded data removed]",
      "text/plain": [
       "<IPython.core.display.Image object>"
      ]
     },
     "metadata": {},
     "output_type": "display_data"
    }
   ],
   "source": [
    "% Plot results\n",
    "subplot(2,1,1);\n",
    "plot(time/3600,truthBisect.pDisMax/1000,'b-','LineWidth',1.5); hold on\n",
    "plot(time/3600,spkfBisect.pDisMax/1000,'r:','LineWidth',1.5);\n",
    "xlabel('Time (h)'); ylabel('Power (kW)');\n",
    "title('Discharge power limit estimates');\n",
    "legend('True bisection','SPKF bisection','Location','SouthWest');\n",
    "axis( [0 8.01 -0.02 1] );grid on;\n",
    "\n",
    "subplot(2,1,2);\n",
    "plot(time/3600,truthBisect.pChgMin/1000,'b-','LineWidth',1.5); hold on\n",
    "plot(time/3600,spkfBisect.pChgMin/1000,'r:','LineWidth',1.5);\n",
    "xlabel('Time (h)'); ylabel('Power (kW)');\n",
    "title('Charge power limit estimates');\n",
    "legend('True bisection','SPKF bisection','Location','SouthWest');\n",
    "axis( [0 8.01 -1 0.02] ); grid on;"
   ]
  },
  {
   "cell_type": "code",
   "execution_count": null,
   "metadata": {},
   "outputs": [],
   "source": []
  }
 ],
 "metadata": {
  "kernelspec": {
   "display_name": "Octave",
   "language": "octave",
   "name": "octave"
  },
  "language_info": {
   "file_extension": ".m",
   "help_links": [
    {
     "text": "GNU Octave",
     "url": "https://www.gnu.org/software/octave/support.html"
    },
    {
     "text": "Octave Kernel",
     "url": "https://github.com/Calysto/octave_kernel"
    },
    {
     "text": "MetaKernel Magics",
     "url": "https://github.com/calysto/metakernel/blob/master/metakernel/magics/README.md"
    }
   ],
   "mimetype": "text/x-octave",
   "name": "octave",
   "version": "4.2.2"
  }
 },
 "nbformat": 4,
 "nbformat_minor": 1
}
